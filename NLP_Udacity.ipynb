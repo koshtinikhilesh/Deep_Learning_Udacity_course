{
  "nbformat": 4,
  "nbformat_minor": 0,
  "metadata": {
    "colab": {
      "name": "NLP_Udacity",
      "provenance": [],
      "collapsed_sections": []
    },
    "kernelspec": {
      "name": "python3",
      "display_name": "Python 3"
    }
  },
  "cells": [
    {
      "cell_type": "code",
      "metadata": {
        "id": "Olv1uUwdzJt7",
        "colab_type": "code",
        "colab": {}
      },
      "source": [
        ""
      ],
      "execution_count": null,
      "outputs": []
    },
    {
      "cell_type": "markdown",
      "metadata": {
        "id": "6DgXzom6ph-W",
        "colab_type": "text"
      },
      "source": [
        "Inspired from the colabs defined in the Udacity course:-\n",
        "\n",
        "\n",
        "Udacity course:-   **Introduction to Deep Learning with Tensorflow**"
      ]
    },
    {
      "cell_type": "markdown",
      "metadata": {
        "id": "jsRVL7_vphXz",
        "colab_type": "text"
      },
      "source": [
        ""
      ]
    },
    {
      "cell_type": "markdown",
      "metadata": {
        "id": "XahcybqykZjb",
        "colab_type": "text"
      },
      "source": [
        "(1) https://colab.research.google.com/github/tensorflow/examples/blob/master/courses/udacity_intro_to_tensorflow_for_deep_learning/l09c01_nlp_turn_words_into_tokens.ipynb\n",
        "\n",
        "\n",
        "\n",
        "(2)  https://colab.research.google.com/github/tensorflow/examples/blob/master/courses/udacity_intro_to_tensorflow_for_deep_learning/l09c02_nlp_padding.ipynb\n",
        "\n",
        "\n",
        "\n",
        "\n",
        "(3)  https://colab.research.google.com/github/tensorflow/examples/blob/master/courses/udacity_intro_to_tensorflow_for_deep_learning/l09c03_nlp_prepare_larger_text_corpus.ipynb\n",
        "\n",
        "\n",
        "(4)  https://colab.research.google.com/github/tensorflow/examples/blob/master/courses/udacity_intro_to_tensorflow_for_deep_learning/l09c04_nlp_embeddings_and_sentiment.ipynb\n",
        "\n",
        "\n",
        "\n",
        "\n",
        "(5)  https://colab.research.google.com/github/tensorflow/examples/blob/master/courses/udacity_intro_to_tensorflow_for_deep_learning/l09c05_nlp_tweaking_the_model.ipynb\n",
        "\n",
        "\n",
        "\n",
        "\n",
        "(6)   https://colab.research.google.com/github/tensorflow/examples/blob/master/courses/udacity_intro_to_tensorflow_for_deep_learning/l09c06_nlp_subwords.ipynb"
      ]
    },
    {
      "cell_type": "markdown",
      "metadata": {
        "id": "u2nlb6SUkghu",
        "colab_type": "text"
      },
      "source": [
        "### Tokenizing Words and Create Sequences"
      ]
    },
    {
      "cell_type": "markdown",
      "metadata": {
        "id": "WfM_QoRvALLN",
        "colab_type": "text"
      },
      "source": [
        ""
      ]
    },
    {
      "cell_type": "code",
      "metadata": {
        "id": "onRhw-Iom8I7",
        "colab_type": "code",
        "colab": {}
      },
      "source": [
        "### Python imports\n",
        "\n",
        "\n",
        "from tensorflow.keras.preprocessing.text import Tokenizer"
      ],
      "execution_count": null,
      "outputs": []
    },
    {
      "cell_type": "code",
      "metadata": {
        "id": "mDslNXm6nEH_",
        "colab_type": "code",
        "colab": {}
      },
      "source": [
        "### Write some sentences\n",
        "sentences = [\n",
        "    'My favorite food is ice cream',\n",
        "    'do you like ice cream too?',\n",
        "    'My dog likes ice cream!',\n",
        "    \"your favorite flavor of icecream is chocolate\",\n",
        "    \"chocolate isn't good for dogs\",\n",
        "    \"your dog, your cat, and your parrot prefer broccoli\"\n",
        "]"
      ],
      "execution_count": null,
      "outputs": []
    },
    {
      "cell_type": "code",
      "metadata": {
        "id": "CosBdU5SnK5S",
        "colab_type": "code",
        "colab": {}
      },
      "source": [
        "tokenizer = Tokenizer(num_words=1000, oov_token='<OOV>')"
      ],
      "execution_count": null,
      "outputs": []
    },
    {
      "cell_type": "markdown",
      "metadata": {
        "id": "0pHREuyQnUXW",
        "colab_type": "text"
      },
      "source": [
        "num_words = Maximum number of words to tokenizer\n",
        "\n",
        "\n",
        "The words which are not available in the datasets will not be included in the tokenizer. So, in order to include those, we have set OOV (out of vocab) parameters."
      ]
    },
    {
      "cell_type": "code",
      "metadata": {
        "id": "NQxjxx3ynThG",
        "colab_type": "code",
        "colab": {}
      },
      "source": [
        "tokenizer.fit_on_texts(sentences)"
      ],
      "execution_count": null,
      "outputs": []
    },
    {
      "cell_type": "code",
      "metadata": {
        "id": "Yc93fsiznmc2",
        "colab_type": "code",
        "colab": {
          "base_uri": "https://localhost:8080/",
          "height": 476
        },
        "outputId": "2c9ddd5f-b55c-4233-9663-9995466a3564"
      },
      "source": [
        "### View the word index\n",
        "\n",
        "tokenizer.word_index"
      ],
      "execution_count": null,
      "outputs": [
        {
          "output_type": "execute_result",
          "data": {
            "text/plain": [
              "{'<OOV>': 1,\n",
              " 'and': 24,\n",
              " 'broccoli': 27,\n",
              " 'cat': 23,\n",
              " 'chocolate': 9,\n",
              " 'cream': 4,\n",
              " 'do': 11,\n",
              " 'dog': 8,\n",
              " 'dogs': 22,\n",
              " 'favorite': 6,\n",
              " 'flavor': 16,\n",
              " 'food': 10,\n",
              " 'for': 21,\n",
              " 'good': 20,\n",
              " 'ice': 3,\n",
              " 'icecream': 18,\n",
              " 'is': 7,\n",
              " \"isn't\": 19,\n",
              " 'like': 13,\n",
              " 'likes': 15,\n",
              " 'my': 5,\n",
              " 'of': 17,\n",
              " 'parrot': 25,\n",
              " 'prefer': 26,\n",
              " 'too': 14,\n",
              " 'you': 12,\n",
              " 'your': 2}"
            ]
          },
          "metadata": {
            "tags": []
          },
          "execution_count": 5
        }
      ]
    },
    {
      "cell_type": "code",
      "metadata": {
        "id": "JiXEW0WCnsXj",
        "colab_type": "code",
        "colab": {
          "base_uri": "https://localhost:8080/",
          "height": 34
        },
        "outputId": "49d9efec-055c-4adc-8041-4252e0f080d7"
      },
      "source": [
        "## Create the proper sequences of the word\n",
        "\n",
        "sequences = tokenizer.texts_to_sequences(sentences)\n",
        "print(sequences)"
      ],
      "execution_count": null,
      "outputs": [
        {
          "output_type": "stream",
          "text": [
            "[[5, 6, 10, 7, 3, 4], [11, 12, 13, 3, 4, 14], [5, 8, 15, 3, 4], [2, 6, 16, 17, 18, 7, 9], [9, 19, 20, 21, 22], [2, 8, 2, 23, 24, 2, 25, 26, 27]]\n"
          ],
          "name": "stdout"
        }
      ]
    },
    {
      "cell_type": "code",
      "metadata": {
        "id": "94e0olmin5uw",
        "colab_type": "code",
        "colab": {}
      },
      "source": [
        "## Now create the new sentences\n",
        "sentences2 = [\"I like hot chocolate\", \"My dogs and my hedgehog like kibble but my squirrel prefers grapes and my chickens like ice cream, preferably vanilla\"]\n"
      ],
      "execution_count": null,
      "outputs": []
    },
    {
      "cell_type": "code",
      "metadata": {
        "id": "aXAgxqrToUbN",
        "colab_type": "code",
        "colab": {}
      },
      "source": [
        "sequences2 = tokenizer.texts_to_sequences(sentences2)"
      ],
      "execution_count": null,
      "outputs": []
    },
    {
      "cell_type": "code",
      "metadata": {
        "id": "-rtHbZxNoXR5",
        "colab_type": "code",
        "colab": {
          "base_uri": "https://localhost:8080/",
          "height": 51
        },
        "outputId": "095a2c41-db4e-4eb9-d0a4-851da143984d"
      },
      "source": [
        "sequences2"
      ],
      "execution_count": null,
      "outputs": [
        {
          "output_type": "execute_result",
          "data": {
            "text/plain": [
              "[[1, 13, 1, 9],\n",
              " [5, 22, 24, 5, 1, 13, 1, 1, 5, 1, 1, 1, 24, 5, 1, 13, 3, 4, 1, 1]]"
            ]
          },
          "metadata": {
            "tags": []
          },
          "execution_count": 9
        }
      ]
    },
    {
      "cell_type": "markdown",
      "metadata": {
        "id": "scT-8gOqqFef",
        "colab_type": "text"
      },
      "source": [
        "### Padding with words"
      ]
    },
    {
      "cell_type": "code",
      "metadata": {
        "id": "86AQhDnCo16F",
        "colab_type": "code",
        "colab": {}
      },
      "source": [
        "from tensorflow.keras.preprocessing.sequence import pad_sequences"
      ],
      "execution_count": null,
      "outputs": []
    },
    {
      "cell_type": "code",
      "metadata": {
        "id": "te6kGRb-qOH8",
        "colab_type": "code",
        "colab": {
          "base_uri": "https://localhost:8080/",
          "height": 54
        },
        "outputId": "4194f2b3-0cad-40a1-d6de-4e707b11af4b"
      },
      "source": [
        "print(sentences)"
      ],
      "execution_count": null,
      "outputs": [
        {
          "output_type": "stream",
          "text": [
            "['My favorite food is ice cream', 'do you like ice cream too?', 'My dog likes ice cream!', 'your favorite flavor of icecream is chocolate', \"chocolate isn't good for dogs\", 'your dog, your cat, and your parrot prefer broccoli']\n"
          ],
          "name": "stdout"
        }
      ]
    },
    {
      "cell_type": "code",
      "metadata": {
        "id": "rK2kDciOqRYN",
        "colab_type": "code",
        "colab": {
          "base_uri": "https://localhost:8080/",
          "height": 54
        },
        "outputId": "1b2b41c4-bca1-45b1-f776-2301cd4a0a15"
      },
      "source": [
        "print(sequences)"
      ],
      "execution_count": null,
      "outputs": [
        {
          "output_type": "stream",
          "text": [
            "[[5, 6, 10, 7, 3, 4], [11, 12, 13, 3, 4, 14], [5, 8, 15, 3, 4], [2, 6, 16, 17, 18, 7, 9], [9, 19, 20, 21, 22], [2, 8, 2, 23, 24, 2, 25, 26, 27]]\n"
          ],
          "name": "stdout"
        }
      ]
    },
    {
      "cell_type": "code",
      "metadata": {
        "id": "aw1fvSMTqWLZ",
        "colab_type": "code",
        "colab": {}
      },
      "source": [
        "padded = pad_sequences(sequences)"
      ],
      "execution_count": null,
      "outputs": []
    },
    {
      "cell_type": "code",
      "metadata": {
        "id": "Iz7_R_eDqdAV",
        "colab_type": "code",
        "colab": {
          "base_uri": "https://localhost:8080/",
          "height": 119
        },
        "outputId": "847a9381-ea36-44f8-9ac7-d49056b5451e"
      },
      "source": [
        "padded"
      ],
      "execution_count": null,
      "outputs": [
        {
          "output_type": "execute_result",
          "data": {
            "text/plain": [
              "array([[ 0,  0,  0,  5,  6, 10,  7,  3,  4],\n",
              "       [ 0,  0,  0, 11, 12, 13,  3,  4, 14],\n",
              "       [ 0,  0,  0,  0,  5,  8, 15,  3,  4],\n",
              "       [ 0,  0,  2,  6, 16, 17, 18,  7,  9],\n",
              "       [ 0,  0,  0,  0,  9, 19, 20, 21, 22],\n",
              "       [ 2,  8,  2, 23, 24,  2, 25, 26, 27]], dtype=int32)"
            ]
          },
          "metadata": {
            "tags": []
          },
          "execution_count": 14
        }
      ]
    },
    {
      "cell_type": "code",
      "metadata": {
        "id": "3o0FpwVOqdji",
        "colab_type": "code",
        "colab": {}
      },
      "source": [
        "# put padding at the end\n",
        "padded_end = pad_sequences(sequences, padding='post')"
      ],
      "execution_count": null,
      "outputs": []
    },
    {
      "cell_type": "code",
      "metadata": {
        "id": "wlfPLsoRq0a9",
        "colab_type": "code",
        "colab": {
          "base_uri": "https://localhost:8080/",
          "height": 119
        },
        "outputId": "7bb0af5d-bc87-4a79-ce41-d3494bede1d8"
      },
      "source": [
        "padded_end"
      ],
      "execution_count": null,
      "outputs": [
        {
          "output_type": "execute_result",
          "data": {
            "text/plain": [
              "array([[ 5,  6, 10,  7,  3,  4,  0,  0,  0],\n",
              "       [11, 12, 13,  3,  4, 14,  0,  0,  0],\n",
              "       [ 5,  8, 15,  3,  4,  0,  0,  0,  0],\n",
              "       [ 2,  6, 16, 17, 18,  7,  9,  0,  0],\n",
              "       [ 9, 19, 20, 21, 22,  0,  0,  0,  0],\n",
              "       [ 2,  8,  2, 23, 24,  2, 25, 26, 27]], dtype=int32)"
            ]
          },
          "metadata": {
            "tags": []
          },
          "execution_count": 16
        }
      ]
    },
    {
      "cell_type": "markdown",
      "metadata": {
        "id": "YeKB_-j2q14m",
        "colab_type": "text"
      },
      "source": [
        "### Get the words from Public Datasets"
      ]
    },
    {
      "cell_type": "code",
      "metadata": {
        "id": "KK9ciA0e1L1E",
        "colab_type": "code",
        "colab": {}
      },
      "source": [
        " ## Amazon and Yelp reviews\n",
        " from tensorflow.keras.preprocessing.text import Tokenizer\n",
        " from tensorflow.keras.preprocessing.sequence import pad_sequences\n",
        " import tensorflow as tf"
      ],
      "execution_count": null,
      "outputs": []
    },
    {
      "cell_type": "code",
      "metadata": {
        "id": "VsxQxsWc1bbo",
        "colab_type": "code",
        "colab": {}
      },
      "source": [
        "import numpy as np\n",
        "import pandas as pd"
      ],
      "execution_count": null,
      "outputs": []
    },
    {
      "cell_type": "code",
      "metadata": {
        "id": "WxiC-_HX1fCi",
        "colab_type": "code",
        "colab": {
          "base_uri": "https://localhost:8080/",
          "height": 71
        },
        "outputId": "23786a33-7692-43c9-9cd9-6c1bc8238171"
      },
      "source": [
        "## load the dataset\n",
        "dataset = tf.keras.utils.get_file('reviews.csv', \n",
        "                               'https://drive.google.com/uc?id=13ySLC_ue6Umt9RJYSeM2t-V0kCv-4C-P')"
      ],
      "execution_count": null,
      "outputs": [
        {
          "output_type": "stream",
          "text": [
            "Downloading data from https://drive.google.com/uc?id=13ySLC_ue6Umt9RJYSeM2t-V0kCv-4C-P\n",
            "131072/127831 [==============================] - 0s 0us/step\n"
          ],
          "name": "stdout"
        }
      ]
    },
    {
      "cell_type": "code",
      "metadata": {
        "id": "RMgrFHmR1qb-",
        "colab_type": "code",
        "colab": {
          "base_uri": "https://localhost:8080/",
          "height": 34
        },
        "outputId": "b73e35af-974f-41db-b9b9-7fdef8c7721d"
      },
      "source": [
        "print(dataset)"
      ],
      "execution_count": null,
      "outputs": [
        {
          "output_type": "stream",
          "text": [
            "/root/.keras/datasets/reviews.csv\n"
          ],
          "name": "stdout"
        }
      ]
    },
    {
      "cell_type": "code",
      "metadata": {
        "id": "Zd6IKYmI1tcY",
        "colab_type": "code",
        "colab": {
          "base_uri": "https://localhost:8080/",
          "height": 204
        },
        "outputId": "7dc3bd9e-173e-4380-c2d6-db54bd17b0da"
      },
      "source": [
        "# load the csv file\n",
        "df = pd.read_csv(dataset)\n",
        "df.head()"
      ],
      "execution_count": null,
      "outputs": [
        {
          "output_type": "execute_result",
          "data": {
            "text/html": [
              "<div>\n",
              "<style scoped>\n",
              "    .dataframe tbody tr th:only-of-type {\n",
              "        vertical-align: middle;\n",
              "    }\n",
              "\n",
              "    .dataframe tbody tr th {\n",
              "        vertical-align: top;\n",
              "    }\n",
              "\n",
              "    .dataframe thead th {\n",
              "        text-align: right;\n",
              "    }\n",
              "</style>\n",
              "<table border=\"1\" class=\"dataframe\">\n",
              "  <thead>\n",
              "    <tr style=\"text-align: right;\">\n",
              "      <th></th>\n",
              "      <th>Unnamed: 0</th>\n",
              "      <th>text</th>\n",
              "      <th>sentiment</th>\n",
              "    </tr>\n",
              "  </thead>\n",
              "  <tbody>\n",
              "    <tr>\n",
              "      <th>0</th>\n",
              "      <td>0</td>\n",
              "      <td>So there is no way for me to plug it in here i...</td>\n",
              "      <td>0</td>\n",
              "    </tr>\n",
              "    <tr>\n",
              "      <th>1</th>\n",
              "      <td>1</td>\n",
              "      <td>Good case Excellent value.</td>\n",
              "      <td>1</td>\n",
              "    </tr>\n",
              "    <tr>\n",
              "      <th>2</th>\n",
              "      <td>2</td>\n",
              "      <td>Great for the jawbone.</td>\n",
              "      <td>1</td>\n",
              "    </tr>\n",
              "    <tr>\n",
              "      <th>3</th>\n",
              "      <td>3</td>\n",
              "      <td>Tied to charger for conversations lasting more...</td>\n",
              "      <td>0</td>\n",
              "    </tr>\n",
              "    <tr>\n",
              "      <th>4</th>\n",
              "      <td>4</td>\n",
              "      <td>The mic is great.</td>\n",
              "      <td>1</td>\n",
              "    </tr>\n",
              "  </tbody>\n",
              "</table>\n",
              "</div>"
            ],
            "text/plain": [
              "   Unnamed: 0                                               text  sentiment\n",
              "0           0  So there is no way for me to plug it in here i...          0\n",
              "1           1                         Good case Excellent value.          1\n",
              "2           2                             Great for the jawbone.          1\n",
              "3           3  Tied to charger for conversations lasting more...          0\n",
              "4           4                                  The mic is great.          1"
            ]
          },
          "metadata": {
            "tags": []
          },
          "execution_count": 21
        }
      ]
    },
    {
      "cell_type": "code",
      "metadata": {
        "id": "0WnFWUgS1zEI",
        "colab_type": "code",
        "colab": {}
      },
      "source": [
        "### So, we are dealing with the sentiment analysis, 0 is hte negative review and 1 is the positive review"
      ],
      "execution_count": null,
      "outputs": []
    },
    {
      "cell_type": "code",
      "metadata": {
        "id": "Wkm1V6BE2A4G",
        "colab_type": "code",
        "colab": {}
      },
      "source": [
        "reviews = df['text'].tolist()"
      ],
      "execution_count": null,
      "outputs": []
    },
    {
      "cell_type": "code",
      "metadata": {
        "id": "OaDbMqr42INo",
        "colab_type": "code",
        "colab": {
          "base_uri": "https://localhost:8080/",
          "height": 34
        },
        "outputId": "f7052bb0-874d-436c-94fb-865a4b5c5f83"
      },
      "source": [
        "print(len(reviews))"
      ],
      "execution_count": null,
      "outputs": [
        {
          "output_type": "stream",
          "text": [
            "1992\n"
          ],
          "name": "stdout"
        }
      ]
    },
    {
      "cell_type": "code",
      "metadata": {
        "id": "DQB2TQFj2QQU",
        "colab_type": "code",
        "colab": {}
      },
      "source": [
        "tokenizer = Tokenizer(oov_token='<OOV>')\n",
        "tokenizer.fit_on_texts(reviews)"
      ],
      "execution_count": null,
      "outputs": []
    },
    {
      "cell_type": "code",
      "metadata": {
        "id": "OpQBY9072flh",
        "colab_type": "code",
        "colab": {
          "base_uri": "https://localhost:8080/",
          "height": 34
        },
        "outputId": "82ae4fc2-f7c3-43e6-dc68-44e88ebd3f4c"
      },
      "source": [
        "print(len(tokenizer.word_index))"
      ],
      "execution_count": null,
      "outputs": [
        {
          "output_type": "stream",
          "text": [
            "3261\n"
          ],
          "name": "stdout"
        }
      ]
    },
    {
      "cell_type": "code",
      "metadata": {
        "id": "shJSsZHt2hL5",
        "colab_type": "code",
        "colab": {}
      },
      "source": [
        "seq = tokenizer.texts_to_sequences(reviews)\n"
      ],
      "execution_count": null,
      "outputs": []
    },
    {
      "cell_type": "code",
      "metadata": {
        "id": "wJgMlil23lEN",
        "colab_type": "code",
        "colab": {
          "base_uri": "https://localhost:8080/",
          "height": 34
        },
        "outputId": "fa1d1dbb-f71d-4877-c0a7-b56ff59d6473"
      },
      "source": [
        "print(len(seq))"
      ],
      "execution_count": null,
      "outputs": [
        {
          "output_type": "stream",
          "text": [
            "1992\n"
          ],
          "name": "stdout"
        }
      ]
    },
    {
      "cell_type": "code",
      "metadata": {
        "id": "56qKeh-E30s2",
        "colab_type": "code",
        "colab": {}
      },
      "source": [
        "pad = pad_sequences(seq, padding='post')"
      ],
      "execution_count": null,
      "outputs": []
    },
    {
      "cell_type": "code",
      "metadata": {
        "id": "EpJXpOps4FGu",
        "colab_type": "code",
        "colab": {
          "base_uri": "https://localhost:8080/",
          "height": 34
        },
        "outputId": "a753518b-7951-49b6-a799-1e0d70dc4354"
      },
      "source": [
        "print(len(pad))"
      ],
      "execution_count": null,
      "outputs": [
        {
          "output_type": "stream",
          "text": [
            "1992\n"
          ],
          "name": "stdout"
        }
      ]
    },
    {
      "cell_type": "code",
      "metadata": {
        "id": "KD_DK4tf4GLK",
        "colab_type": "code",
        "colab": {
          "base_uri": "https://localhost:8080/",
          "height": 187
        },
        "outputId": "baf9b3f4-d9c8-4e3b-c46f-9aef5d848881"
      },
      "source": [
        "print(pad[0])"
      ],
      "execution_count": null,
      "outputs": [
        {
          "output_type": "stream",
          "text": [
            "[  28   59    8   56  142   13   61    7  269    6   15   46   15    2\n",
            "  149  449    4   60  113    5 1429    0    0    0    0    0    0    0\n",
            "    0    0    0    0    0    0    0    0    0    0    0    0    0    0\n",
            "    0    0    0    0    0    0    0    0    0    0    0    0    0    0\n",
            "    0    0    0    0    0    0    0    0    0    0    0    0    0    0\n",
            "    0    0    0    0    0    0    0    0    0    0    0    0    0    0\n",
            "    0    0    0    0    0    0    0    0    0    0    0    0    0    0\n",
            "    0    0    0    0    0    0    0    0    0    0    0    0    0    0\n",
            "    0    0    0    0    0    0    0    0    0    0    0    0    0    0\n",
            "    0    0    0    0    0    0    0    0    0    0    0    0    0]\n"
          ],
          "name": "stdout"
        }
      ]
    },
    {
      "cell_type": "code",
      "metadata": {
        "id": "9MgMZeBi4JMs",
        "colab_type": "code",
        "colab": {
          "base_uri": "https://localhost:8080/",
          "height": 54
        },
        "outputId": "eb4e632a-65b7-4071-ea81-a685688ee8da"
      },
      "source": [
        "print(seq[0])"
      ],
      "execution_count": null,
      "outputs": [
        {
          "output_type": "stream",
          "text": [
            "[28, 59, 8, 56, 142, 13, 61, 7, 269, 6, 15, 46, 15, 2, 149, 449, 4, 60, 113, 5, 1429]\n"
          ],
          "name": "stdout"
        }
      ]
    },
    {
      "cell_type": "markdown",
      "metadata": {
        "id": "AuvATqQM4MCi",
        "colab_type": "text"
      },
      "source": [
        "### Word embedding and Sentiment"
      ]
    },
    {
      "cell_type": "markdown",
      "metadata": {
        "id": "95zKkCRH5sDw",
        "colab_type": "text"
      },
      "source": [
        "We will do the neural network training to do the predict sentiment."
      ]
    },
    {
      "cell_type": "code",
      "metadata": {
        "id": "bNv0BOt56C1t",
        "colab_type": "code",
        "colab": {
          "base_uri": "https://localhost:8080/",
          "height": 326
        },
        "outputId": "7493ff9a-ba9c-4f57-995b-2329d4c87c8a"
      },
      "source": [
        "## Python imports\n",
        "\n",
        "!wget --no-check-certificate \\\n",
        "    -O /tmp/sentiment.csv https://drive.google.com/uc?id=13ySLC_ue6Umt9RJYSeM2t-V0kCv-4C-P"
      ],
      "execution_count": null,
      "outputs": [
        {
          "output_type": "stream",
          "text": [
            "--2020-06-19 13:02:05--  https://drive.google.com/uc?id=13ySLC_ue6Umt9RJYSeM2t-V0kCv-4C-P\n",
            "Resolving drive.google.com (drive.google.com)... 173.194.217.138, 173.194.217.102, 173.194.217.113, ...\n",
            "Connecting to drive.google.com (drive.google.com)|173.194.217.138|:443... connected.\n",
            "HTTP request sent, awaiting response... 302 Moved Temporarily\n",
            "Location: https://doc-08-ak-docs.googleusercontent.com/docs/securesc/ha0ro937gcuc7l7deffksulhg5h7mbp1/magd5eqn8n0c6lujcn134u74sr4ctmp1/1592571675000/11118900490791463723/*/13ySLC_ue6Umt9RJYSeM2t-V0kCv-4C-P [following]\n",
            "Warning: wildcards not supported in HTTP.\n",
            "--2020-06-19 13:02:20--  https://doc-08-ak-docs.googleusercontent.com/docs/securesc/ha0ro937gcuc7l7deffksulhg5h7mbp1/magd5eqn8n0c6lujcn134u74sr4ctmp1/1592571675000/11118900490791463723/*/13ySLC_ue6Umt9RJYSeM2t-V0kCv-4C-P\n",
            "Resolving doc-08-ak-docs.googleusercontent.com (doc-08-ak-docs.googleusercontent.com)... 172.217.204.132, 2607:f8b0:400c:c15::84\n",
            "Connecting to doc-08-ak-docs.googleusercontent.com (doc-08-ak-docs.googleusercontent.com)|172.217.204.132|:443... connected.\n",
            "HTTP request sent, awaiting response... 200 OK\n",
            "Length: 127831 (125K) [text/csv]\n",
            "Saving to: ‘/tmp/sentiment.csv’\n",
            "\n",
            "/tmp/sentiment.csv  100%[===================>] 124.83K  --.-KB/s    in 0.001s  \n",
            "\n",
            "2020-06-19 13:02:20 (86.8 MB/s) - ‘/tmp/sentiment.csv’ saved [127831/127831]\n",
            "\n"
          ],
          "name": "stdout"
        }
      ]
    },
    {
      "cell_type": "code",
      "metadata": {
        "id": "QhUF1gE66Joa",
        "colab_type": "code",
        "colab": {}
      },
      "source": [
        "dataset = pd.read_csv('/tmp/sentiment.csv')"
      ],
      "execution_count": null,
      "outputs": []
    },
    {
      "cell_type": "code",
      "metadata": {
        "id": "rOL2aYsX6Tqv",
        "colab_type": "code",
        "colab": {
          "base_uri": "https://localhost:8080/",
          "height": 204
        },
        "outputId": "bd1f6b98-071a-433f-f2bb-fd9ef507274b"
      },
      "source": [
        "dataset.head()"
      ],
      "execution_count": null,
      "outputs": [
        {
          "output_type": "execute_result",
          "data": {
            "text/html": [
              "<div>\n",
              "<style scoped>\n",
              "    .dataframe tbody tr th:only-of-type {\n",
              "        vertical-align: middle;\n",
              "    }\n",
              "\n",
              "    .dataframe tbody tr th {\n",
              "        vertical-align: top;\n",
              "    }\n",
              "\n",
              "    .dataframe thead th {\n",
              "        text-align: right;\n",
              "    }\n",
              "</style>\n",
              "<table border=\"1\" class=\"dataframe\">\n",
              "  <thead>\n",
              "    <tr style=\"text-align: right;\">\n",
              "      <th></th>\n",
              "      <th>Unnamed: 0</th>\n",
              "      <th>text</th>\n",
              "      <th>sentiment</th>\n",
              "    </tr>\n",
              "  </thead>\n",
              "  <tbody>\n",
              "    <tr>\n",
              "      <th>0</th>\n",
              "      <td>0</td>\n",
              "      <td>So there is no way for me to plug it in here i...</td>\n",
              "      <td>0</td>\n",
              "    </tr>\n",
              "    <tr>\n",
              "      <th>1</th>\n",
              "      <td>1</td>\n",
              "      <td>Good case Excellent value.</td>\n",
              "      <td>1</td>\n",
              "    </tr>\n",
              "    <tr>\n",
              "      <th>2</th>\n",
              "      <td>2</td>\n",
              "      <td>Great for the jawbone.</td>\n",
              "      <td>1</td>\n",
              "    </tr>\n",
              "    <tr>\n",
              "      <th>3</th>\n",
              "      <td>3</td>\n",
              "      <td>Tied to charger for conversations lasting more...</td>\n",
              "      <td>0</td>\n",
              "    </tr>\n",
              "    <tr>\n",
              "      <th>4</th>\n",
              "      <td>4</td>\n",
              "      <td>The mic is great.</td>\n",
              "      <td>1</td>\n",
              "    </tr>\n",
              "  </tbody>\n",
              "</table>\n",
              "</div>"
            ],
            "text/plain": [
              "   Unnamed: 0                                               text  sentiment\n",
              "0           0  So there is no way for me to plug it in here i...          0\n",
              "1           1                         Good case Excellent value.          1\n",
              "2           2                             Great for the jawbone.          1\n",
              "3           3  Tied to charger for conversations lasting more...          0\n",
              "4           4                                  The mic is great.          1"
            ]
          },
          "metadata": {
            "tags": []
          },
          "execution_count": 35
        }
      ]
    },
    {
      "cell_type": "code",
      "metadata": {
        "id": "aEOYBOxl6YJM",
        "colab_type": "code",
        "colab": {}
      },
      "source": [
        "sentences = dataset['text'].tolist()"
      ],
      "execution_count": null,
      "outputs": []
    },
    {
      "cell_type": "code",
      "metadata": {
        "id": "aBTMr-QI6jS-",
        "colab_type": "code",
        "colab": {}
      },
      "source": [
        "labels = dataset['sentiment'].tolist()"
      ],
      "execution_count": null,
      "outputs": []
    },
    {
      "cell_type": "code",
      "metadata": {
        "id": "a0N8szzu6mH2",
        "colab_type": "code",
        "colab": {
          "base_uri": "https://localhost:8080/",
          "height": 34
        },
        "outputId": "c6d43018-7eb8-4b46-aed3-a28c87e702ee"
      },
      "source": [
        "## divide the training and testing data\n",
        "training_size = int((len(sentences)) * 0.8)\n",
        "print(training_size)"
      ],
      "execution_count": null,
      "outputs": [
        {
          "output_type": "stream",
          "text": [
            "1593\n"
          ],
          "name": "stdout"
        }
      ]
    },
    {
      "cell_type": "code",
      "metadata": {
        "id": "18TaIkMf6vz9",
        "colab_type": "code",
        "colab": {}
      },
      "source": [
        "training_data = sentences[0:training_size]"
      ],
      "execution_count": null,
      "outputs": []
    },
    {
      "cell_type": "code",
      "metadata": {
        "id": "gq0YQgav64t6",
        "colab_type": "code",
        "colab": {}
      },
      "source": [
        "testing_data = sentences[training_size:]"
      ],
      "execution_count": null,
      "outputs": []
    },
    {
      "cell_type": "code",
      "metadata": {
        "id": "28OqF3at7Fre",
        "colab_type": "code",
        "colab": {
          "base_uri": "https://localhost:8080/",
          "height": 34
        },
        "outputId": "25c0df73-5a0e-4b54-c0f9-b0edfdd19909"
      },
      "source": [
        "print(len(training_data), len(testing_data))"
      ],
      "execution_count": null,
      "outputs": [
        {
          "output_type": "stream",
          "text": [
            "1593 399\n"
          ],
          "name": "stdout"
        }
      ]
    },
    {
      "cell_type": "code",
      "metadata": {
        "id": "o54WbuTk87U9",
        "colab_type": "code",
        "colab": {}
      },
      "source": [
        "training_label = labels[0:training_size]\n",
        "testing_label = labels[training_size:]"
      ],
      "execution_count": null,
      "outputs": []
    },
    {
      "cell_type": "code",
      "metadata": {
        "id": "3SEbOIea9SdW",
        "colab_type": "code",
        "colab": {
          "base_uri": "https://localhost:8080/",
          "height": 34
        },
        "outputId": "f1c305cb-2cfb-4667-d4d9-c3861c2882c8"
      },
      "source": [
        "print(len(training_label), len(testing_label))"
      ],
      "execution_count": null,
      "outputs": [
        {
          "output_type": "stream",
          "text": [
            "1593 399\n"
          ],
          "name": "stdout"
        }
      ]
    },
    {
      "cell_type": "code",
      "metadata": {
        "id": "J9kZmtlz9UMN",
        "colab_type": "code",
        "colab": {}
      },
      "source": [
        "training_label_final = np.array(training_label)\n",
        "testing_label_final = np.array(testing_label)"
      ],
      "execution_count": null,
      "outputs": []
    },
    {
      "cell_type": "markdown",
      "metadata": {
        "id": "YtIxjbIJKL2t",
        "colab_type": "text"
      },
      "source": [
        "### Tokenize the dataset"
      ]
    },
    {
      "cell_type": "code",
      "metadata": {
        "id": "BwHmfS8n9vRn",
        "colab_type": "code",
        "colab": {}
      },
      "source": [
        "vocab_size=1000\n",
        "trunc_type='post'\n",
        "padd_type='post'\n",
        "embedding_dim = 16\n",
        "max_length =100\n",
        "\n",
        "\n",
        "from tensorflow.keras.preprocessing.text import Tokenizer\n",
        "from tensorflow.keras.preprocessing.sequence import pad_sequences\n"
      ],
      "execution_count": null,
      "outputs": []
    },
    {
      "cell_type": "code",
      "metadata": {
        "id": "roZ0FgIyKtjC",
        "colab_type": "code",
        "colab": {}
      },
      "source": [
        "tokenizer = Tokenizer(num_words=max_length,oov_token='<OOV>')"
      ],
      "execution_count": null,
      "outputs": []
    },
    {
      "cell_type": "code",
      "metadata": {
        "id": "sTvm8H8AK0kN",
        "colab_type": "code",
        "colab": {}
      },
      "source": [
        "tokenizer.fit_on_texts(training_data)\n",
        "word_index = tokenizer.word_index\n",
        "sequences = tokenizer.texts_to_sequences(training_data)\n",
        "padded = pad_sequences(sequences, maxlen=max_length, padding=padd_type,truncating=trunc_type)"
      ],
      "execution_count": null,
      "outputs": []
    },
    {
      "cell_type": "code",
      "metadata": {
        "id": "t7ZkrmUOMYU1",
        "colab_type": "code",
        "colab": {
          "base_uri": "https://localhost:8080/",
          "height": 34
        },
        "outputId": "edc8c48e-6599-47b2-92d5-364344db8add"
      },
      "source": [
        "print(len(padded))"
      ],
      "execution_count": null,
      "outputs": [
        {
          "output_type": "stream",
          "text": [
            "1593\n"
          ],
          "name": "stdout"
        }
      ]
    },
    {
      "cell_type": "code",
      "metadata": {
        "id": "7LlTCMDbMev4",
        "colab_type": "code",
        "colab": {}
      },
      "source": [
        "testing_sequences = tokenizer.texts_to_sequences(testing_data)"
      ],
      "execution_count": null,
      "outputs": []
    },
    {
      "cell_type": "code",
      "metadata": {
        "id": "IUDtawtVRCp7",
        "colab_type": "code",
        "colab": {}
      },
      "source": [
        "testing_padded = pad_sequences(testing_sequences, maxlen=max_length, padding=padd_type, truncating=trunc_type)"
      ],
      "execution_count": null,
      "outputs": []
    },
    {
      "cell_type": "code",
      "metadata": {
        "id": "5bQfbQaURMY3",
        "colab_type": "code",
        "colab": {}
      },
      "source": [
        "## Train the sequence\n",
        "embedding_dim = 16\n",
        "model = tf.keras.Sequential(\n",
        "    [\n",
        "     tf.keras.layers.Embedding(vocab_size,embedding_dim, input_length=max_length),\n",
        "     tf.keras.layers.GlobalAveragePooling1D(),\n",
        "     tf.keras.layers.Dense(6, activation='relu'),\n",
        "     tf.keras.layers.Dense(1, activation='sigmoid')\n",
        "    ]\n",
        ")"
      ],
      "execution_count": null,
      "outputs": []
    },
    {
      "cell_type": "code",
      "metadata": {
        "id": "BQygWyOIslvg",
        "colab_type": "code",
        "colab": {
          "base_uri": "https://localhost:8080/",
          "height": 289
        },
        "outputId": "c5390920-8b25-4c0a-be65-5c027d417308"
      },
      "source": [
        "model.summary()"
      ],
      "execution_count": null,
      "outputs": [
        {
          "output_type": "stream",
          "text": [
            "Model: \"sequential\"\n",
            "_________________________________________________________________\n",
            "Layer (type)                 Output Shape              Param #   \n",
            "=================================================================\n",
            "embedding (Embedding)        (None, 100, 16)           16000     \n",
            "_________________________________________________________________\n",
            "global_average_pooling1d (Gl (None, 16)                0         \n",
            "_________________________________________________________________\n",
            "dense (Dense)                (None, 6)                 102       \n",
            "_________________________________________________________________\n",
            "dense_1 (Dense)              (None, 1)                 7         \n",
            "=================================================================\n",
            "Total params: 16,109\n",
            "Trainable params: 16,109\n",
            "Non-trainable params: 0\n",
            "_________________________________________________________________\n"
          ],
          "name": "stdout"
        }
      ]
    },
    {
      "cell_type": "code",
      "metadata": {
        "id": "i9n-Kyznsoar",
        "colab_type": "code",
        "colab": {}
      },
      "source": [
        "num_epoch =30\n",
        "model.compile(loss='binary_crossentropy',optimizer='adam',metrics=['accuracy'])\n"
      ],
      "execution_count": null,
      "outputs": []
    },
    {
      "cell_type": "code",
      "metadata": {
        "id": "zwMyD9Xps5AW",
        "colab_type": "code",
        "colab": {
          "base_uri": "https://localhost:8080/",
          "height": 1000
        },
        "outputId": "2d45e84c-fe0a-4d77-b2bf-a2187036d2b0"
      },
      "source": [
        "history = model.fit(padded\n",
        "                    , training_label_final, epochs=30, validation_data=(testing_padded, testing_label_final))"
      ],
      "execution_count": null,
      "outputs": [
        {
          "output_type": "stream",
          "text": [
            "Epoch 1/30\n",
            "50/50 [==============================] - 0s 5ms/step - loss: 0.6934 - accuracy: 0.4884 - val_loss: 0.6940 - val_accuracy: 0.4110\n",
            "Epoch 2/30\n",
            "50/50 [==============================] - 0s 2ms/step - loss: 0.6927 - accuracy: 0.5229 - val_loss: 0.6950 - val_accuracy: 0.4110\n",
            "Epoch 3/30\n",
            "50/50 [==============================] - 0s 2ms/step - loss: 0.6923 - accuracy: 0.5229 - val_loss: 0.6957 - val_accuracy: 0.4110\n",
            "Epoch 4/30\n",
            "50/50 [==============================] - 0s 2ms/step - loss: 0.6918 - accuracy: 0.5229 - val_loss: 0.6958 - val_accuracy: 0.4110\n",
            "Epoch 5/30\n",
            "50/50 [==============================] - 0s 2ms/step - loss: 0.6910 - accuracy: 0.5229 - val_loss: 0.6965 - val_accuracy: 0.4135\n",
            "Epoch 6/30\n",
            "50/50 [==============================] - 0s 2ms/step - loss: 0.6901 - accuracy: 0.5254 - val_loss: 0.6959 - val_accuracy: 0.4185\n",
            "Epoch 7/30\n",
            "50/50 [==============================] - 0s 2ms/step - loss: 0.6891 - accuracy: 0.5474 - val_loss: 0.6914 - val_accuracy: 0.5088\n",
            "Epoch 8/30\n",
            "50/50 [==============================] - 0s 2ms/step - loss: 0.6876 - accuracy: 0.5587 - val_loss: 0.6939 - val_accuracy: 0.4712\n",
            "Epoch 9/30\n",
            "50/50 [==============================] - 0s 2ms/step - loss: 0.6850 - accuracy: 0.5606 - val_loss: 0.6900 - val_accuracy: 0.5013\n",
            "Epoch 10/30\n",
            "50/50 [==============================] - 0s 2ms/step - loss: 0.6827 - accuracy: 0.5926 - val_loss: 0.6857 - val_accuracy: 0.5363\n",
            "Epoch 11/30\n",
            "50/50 [==============================] - 0s 2ms/step - loss: 0.6793 - accuracy: 0.6234 - val_loss: 0.6911 - val_accuracy: 0.4887\n",
            "Epoch 12/30\n",
            "50/50 [==============================] - 0s 2ms/step - loss: 0.6750 - accuracy: 0.6020 - val_loss: 0.6823 - val_accuracy: 0.5338\n",
            "Epoch 13/30\n",
            "50/50 [==============================] - 0s 2ms/step - loss: 0.6704 - accuracy: 0.6158 - val_loss: 0.6702 - val_accuracy: 0.6316\n",
            "Epoch 14/30\n",
            "50/50 [==============================] - 0s 2ms/step - loss: 0.6650 - accuracy: 0.6390 - val_loss: 0.6797 - val_accuracy: 0.5363\n",
            "Epoch 15/30\n",
            "50/50 [==============================] - 0s 2ms/step - loss: 0.6595 - accuracy: 0.6271 - val_loss: 0.6743 - val_accuracy: 0.5439\n",
            "Epoch 16/30\n",
            "50/50 [==============================] - 0s 2ms/step - loss: 0.6529 - accuracy: 0.6334 - val_loss: 0.6621 - val_accuracy: 0.6015\n",
            "Epoch 17/30\n",
            "50/50 [==============================] - 0s 2ms/step - loss: 0.6458 - accuracy: 0.6441 - val_loss: 0.6594 - val_accuracy: 0.5965\n",
            "Epoch 18/30\n",
            "50/50 [==============================] - 0s 2ms/step - loss: 0.6398 - accuracy: 0.6560 - val_loss: 0.6564 - val_accuracy: 0.5940\n",
            "Epoch 19/30\n",
            "50/50 [==============================] - 0s 2ms/step - loss: 0.6329 - accuracy: 0.6616 - val_loss: 0.6632 - val_accuracy: 0.5639\n",
            "Epoch 20/30\n",
            "50/50 [==============================] - 0s 2ms/step - loss: 0.6256 - accuracy: 0.6817 - val_loss: 0.6524 - val_accuracy: 0.5840\n",
            "Epoch 21/30\n",
            "50/50 [==============================] - 0s 2ms/step - loss: 0.6165 - accuracy: 0.6736 - val_loss: 0.6216 - val_accuracy: 0.6992\n",
            "Epoch 22/30\n",
            "50/50 [==============================] - 0s 2ms/step - loss: 0.6100 - accuracy: 0.6849 - val_loss: 0.6222 - val_accuracy: 0.6767\n",
            "Epoch 23/30\n",
            "50/50 [==============================] - 0s 2ms/step - loss: 0.6012 - accuracy: 0.7062 - val_loss: 0.6199 - val_accuracy: 0.6541\n",
            "Epoch 24/30\n",
            "50/50 [==============================] - 0s 2ms/step - loss: 0.5935 - accuracy: 0.7075 - val_loss: 0.6151 - val_accuracy: 0.6566\n",
            "Epoch 25/30\n",
            "50/50 [==============================] - 0s 2ms/step - loss: 0.5861 - accuracy: 0.7056 - val_loss: 0.6142 - val_accuracy: 0.6466\n",
            "Epoch 26/30\n",
            "50/50 [==============================] - 0s 2ms/step - loss: 0.5783 - accuracy: 0.7150 - val_loss: 0.6059 - val_accuracy: 0.6692\n",
            "Epoch 27/30\n",
            "50/50 [==============================] - 0s 2ms/step - loss: 0.5714 - accuracy: 0.7125 - val_loss: 0.6024 - val_accuracy: 0.6591\n",
            "Epoch 28/30\n",
            "50/50 [==============================] - 0s 2ms/step - loss: 0.5646 - accuracy: 0.7276 - val_loss: 0.5917 - val_accuracy: 0.7043\n",
            "Epoch 29/30\n",
            "50/50 [==============================] - 0s 2ms/step - loss: 0.5585 - accuracy: 0.7414 - val_loss: 0.6189 - val_accuracy: 0.6140\n",
            "Epoch 30/30\n",
            "50/50 [==============================] - 0s 2ms/step - loss: 0.5542 - accuracy: 0.7181 - val_loss: 0.6086 - val_accuracy: 0.6165\n"
          ],
          "name": "stdout"
        }
      ]
    },
    {
      "cell_type": "code",
      "metadata": {
        "id": "fYMeAusatPqR",
        "colab_type": "code",
        "colab": {}
      },
      "source": [
        "# accuracy is not so good, lets visualize it\n",
        "\n",
        "\n",
        "import matplotlib.pyplot as plt\n",
        "\n",
        "\n",
        "def plot_graphs(history, string):\n",
        "    plt.plot(history.history[string])\n",
        "    plt.plot(history.history['val_'+string])\n",
        "    plt.xlabel('epochs')\n",
        "    plt.ylabel(string)\n",
        "    plt.legend([string, 'val_'+string])\n",
        "    plt.show()"
      ],
      "execution_count": null,
      "outputs": []
    },
    {
      "cell_type": "code",
      "metadata": {
        "id": "eGu_zSTUweyh",
        "colab_type": "code",
        "colab": {
          "base_uri": "https://localhost:8080/",
          "height": 279
        },
        "outputId": "36782e21-1224-47a7-b62e-9746b5e27494"
      },
      "source": [
        "plot_graphs(history,'accuracy')"
      ],
      "execution_count": null,
      "outputs": [
        {
          "output_type": "display_data",
          "data": {
            "image/png": "[encoded data removed]",
            "text/plain": [
              "<Figure size 432x288 with 1 Axes>"
            ]
          },
          "metadata": {
            "tags": [],
            "needs_background": "light"
          }
        }
      ]
    },
    {
      "cell_type": "code",
      "metadata": {
        "id": "maJkG57jwiar",
        "colab_type": "code",
        "colab": {
          "base_uri": "https://localhost:8080/",
          "height": 279
        },
        "outputId": "079c7fed-4b35-441f-be4d-555eb0360643"
      },
      "source": [
        "plot_graphs(history,'loss')"
      ],
      "execution_count": null,
      "outputs": [
        {
          "output_type": "display_data",
          "data": {
            "image/png": "[encoded data removed]",
            "text/plain": [
              "<Figure size 432x288 with 1 Axes>"
            ]
          },
          "metadata": {
            "tags": [],
            "needs_background": "light"
          }
        }
      ]
    },
    {
      "cell_type": "code",
      "metadata": {
        "id": "1wy_bgOJwku2",
        "colab_type": "code",
        "colab": {}
      },
      "source": [
        "# this is the example of the overfitting where validation loss increases"
      ],
      "execution_count": null,
      "outputs": []
    },
    {
      "cell_type": "code",
      "metadata": {
        "id": "iTibtjAEwvTv",
        "colab_type": "code",
        "colab": {}
      },
      "source": [
        "fake_reviews = ['I love this phone', 'I hate spaghetti', \n",
        "                'Everything was cold',\n",
        "                'Everything was hot exactly as I wanted', \n",
        "                'Everything was green', \n",
        "                'the host seated us immediately',\n",
        "                'they gave us free chocolate cake', \n",
        "                'not sure about the wilted flowers on the table',\n",
        "                'only works when I stand on tippy toes', \n",
        "                'does not work when I stand on my head']"
      ],
      "execution_count": null,
      "outputs": []
    },
    {
      "cell_type": "code",
      "metadata": {
        "id": "nt0VL44dxCUP",
        "colab_type": "code",
        "colab": {}
      },
      "source": [
        "sample_seq = tokenizer.texts_to_sequences(fake_reviews)"
      ],
      "execution_count": null,
      "outputs": []
    },
    {
      "cell_type": "code",
      "metadata": {
        "id": "DWJWjAN7xKlT",
        "colab_type": "code",
        "colab": {}
      },
      "source": [
        "sample_padd = pad_sequences(sample_seq,padding='post')"
      ],
      "execution_count": null,
      "outputs": []
    },
    {
      "cell_type": "code",
      "metadata": {
        "id": "TIGlf_GIxP1f",
        "colab_type": "code",
        "colab": {
          "base_uri": "https://localhost:8080/",
          "height": 187
        },
        "outputId": "4912d1c3-dde6-4ee3-a4e5-8e1ce0269dd7"
      },
      "source": [
        "sample_padd"
      ],
      "execution_count": null,
      "outputs": [
        {
          "output_type": "execute_result",
          "data": {
            "text/plain": [
              "array([[ 4, 88,  9, 15,  0,  0,  0,  0,  0],\n",
              "       [ 4,  1,  1,  0,  0,  0,  0,  0,  0],\n",
              "       [ 1, 10,  1,  0,  0,  0,  0,  0,  0],\n",
              "       [ 1, 10,  1,  1, 32,  4,  1,  0,  0],\n",
              "       [ 1, 10,  1,  0,  0,  0,  0,  0,  0],\n",
              "       [ 2,  1,  1,  1,  1,  0,  0,  0,  0],\n",
              "       [43,  1,  1,  1,  1,  1,  0,  0,  0],\n",
              "       [14,  1,  1,  2,  1,  1, 21,  2,  1],\n",
              "       [65, 48, 77,  4,  1, 21,  1,  1,  0],\n",
              "       [ 1, 14, 79, 77,  4,  1, 21, 12,  1]], dtype=int32)"
            ]
          },
          "metadata": {
            "tags": []
          },
          "execution_count": 79
        }
      ]
    },
    {
      "cell_type": "code",
      "metadata": {
        "id": "xT3UXo24xSGn",
        "colab_type": "code",
        "colab": {
          "base_uri": "https://localhost:8080/",
          "height": 54
        },
        "outputId": "ba587a63-5641-4e44-b102-376162544971"
      },
      "source": [
        "classes = model.predict(sample_padd)"
      ],
      "execution_count": null,
      "outputs": [
        {
          "output_type": "stream",
          "text": [
            "WARNING:tensorflow:Model was constructed with shape (None, 100) for input Tensor(\"embedding_input:0\", shape=(None, 100), dtype=float32), but it was called on an input with incompatible shape (None, 9).\n"
          ],
          "name": "stdout"
        }
      ]
    },
    {
      "cell_type": "code",
      "metadata": {
        "id": "_cxN_TaFxW1T",
        "colab_type": "code",
        "colab": {
          "base_uri": "https://localhost:8080/",
          "height": 697
        },
        "outputId": "f40e7087-cc34-4071-9cd8-ae4693571a69"
      },
      "source": [
        "for x in range(len(fake_reviews)):\n",
        "    print(fake_reviews[x])\n",
        "    print(classes[x])\n",
        "    print('\\n')"
      ],
      "execution_count": null,
      "outputs": [
        {
          "output_type": "stream",
          "text": [
            "I love this phone\n",
            "[0.98066014]\n",
            "\n",
            "\n",
            "I hate spaghetti\n",
            "[0.10879326]\n",
            "\n",
            "\n",
            "Everything was cold\n",
            "[0.10088009]\n",
            "\n",
            "\n",
            "Everything was hot exactly as I wanted\n",
            "[0.01084393]\n",
            "\n",
            "\n",
            "Everything was green\n",
            "[0.10088009]\n",
            "\n",
            "\n",
            "the host seated us immediately\n",
            "[0.06182706]\n",
            "\n",
            "\n",
            "they gave us free chocolate cake\n",
            "[0.0505031]\n",
            "\n",
            "\n",
            "not sure about the wilted flowers on the table\n",
            "[0.00048742]\n",
            "\n",
            "\n",
            "only works when I stand on tippy toes\n",
            "[0.5405068]\n",
            "\n",
            "\n",
            "does not work when I stand on my head\n",
            "[4.7257465e-05]\n",
            "\n",
            "\n"
          ],
          "name": "stdout"
        }
      ]
    },
    {
      "cell_type": "markdown",
      "metadata": {
        "id": "Q7hTVbMJxXwP",
        "colab_type": "text"
      },
      "source": [
        "CLoser to 1, the more positive reviews"
      ]
    },
    {
      "cell_type": "code",
      "metadata": {
        "id": "hLUGbYx3xtZh",
        "colab_type": "code",
        "colab": {}
      },
      "source": [
        "more_review = ['not really like that watch', 'I want to gift this watch to my friend']\n",
        "con_seq = tokenizer.texts_to_sequences(more_review)"
      ],
      "execution_count": null,
      "outputs": []
    },
    {
      "cell_type": "code",
      "metadata": {
        "id": "D4FTWokjx7rW",
        "colab_type": "code",
        "colab": {}
      },
      "source": [
        "padd_Seq = pad_sequences(con_seq, padding='post')"
      ],
      "execution_count": null,
      "outputs": []
    },
    {
      "cell_type": "code",
      "metadata": {
        "id": "TDULE3XVyAKy",
        "colab_type": "code",
        "colab": {}
      },
      "source": [
        "classes = model.predict(padd_Seq)"
      ],
      "execution_count": null,
      "outputs": []
    },
    {
      "cell_type": "code",
      "metadata": {
        "id": "lTzIt6McyCna",
        "colab_type": "code",
        "colab": {
          "base_uri": "https://localhost:8080/",
          "height": 153
        },
        "outputId": "6d8cb3b4-a1aa-4e32-f92d-550888eead99"
      },
      "source": [
        "for data in range(len(more_review)):\n",
        "    print(more_review[data])\n",
        "    print(classes[data])\n",
        "    print('\\n')"
      ],
      "execution_count": null,
      "outputs": [
        {
          "output_type": "stream",
          "text": [
            "not really like that watch\n",
            "[0.00539661]\n",
            "\n",
            "\n",
            "I want to gift this watch to my friend\n",
            "[0.02741472]\n",
            "\n",
            "\n"
          ],
          "name": "stdout"
        }
      ]
    },
    {
      "cell_type": "markdown",
      "metadata": {
        "id": "S9bzUmufyLld",
        "colab_type": "text"
      },
      "source": [
        "### More CLoser to 1, more positive review. and vice versa"
      ]
    },
    {
      "cell_type": "code",
      "metadata": {
        "id": "SHCfYJ8ZyXEZ",
        "colab_type": "code",
        "colab": {
          "base_uri": "https://localhost:8080/",
          "height": 54
        },
        "outputId": "591c1246-7032-493a-fdc2-c3c57a20cc32"
      },
      "source": [
        "# let visualize the data\n",
        "\n",
        "print(word_index)"
      ],
      "execution_count": null,
      "outputs": [
        {
          "output_type": "stream",
          "text": [
            "{'<OOV>': 1, 'the': 2, 'and': 3, 'i': 4, 'it': 5, 'a': 6, 'is': 7, 'to': 8, 'this': 9, 'was': 10, 'of': 11, 'my': 12, 'for': 13, 'not': 14, 'phone': 15, 'in': 16, 'very': 17, 'with': 18, 'great': 19, 'good': 20, 'on': 21, 'that': 22, 'have': 23, 'you': 24, 'had': 25, 'so': 26, 'but': 27, 'are': 28, 'food': 29, 'service': 30, 'be': 31, 'as': 32, 'place': 33, 'all': 34, 'like': 35, 'quality': 36, 'time': 37, 'product': 38, 'one': 39, 'at': 40, 'we': 41, 'well': 42, 'they': 43, 'would': 44, 'back': 45, 'if': 46, 'headset': 47, 'works': 48, 'battery': 49, 'really': 50, \"don't\": 51, 'sound': 52, 'your': 53, 'use': 54, 'best': 55, 'up': 56, 'from': 57, 'has': 58, 'just': 59, 'an': 60, \"i've\": 61, 'will': 62, 'no': 63, 'were': 64, 'only': 65, 'also': 66, 'me': 67, 'there': 68, 'ever': 69, 'than': 70, \"it's\": 71, 'out': 72, 'nice': 73, 'ear': 74, 'go': 75, 'excellent': 76, 'when': 77, 'first': 78, 'work': 79, 'recommend': 80, '2': 81, 'here': 82, 'after': 83, \"i'm\": 84, 'or': 85, 'never': 86, 'too': 87, 'love': 88, 'price': 89, 'case': 90, 'get': 91, 'can': 92, 'been': 93, 'more': 94, 'what': 95, 'any': 96, 'could': 97, 'again': 98, 'even': 99, 'because': 100, 'better': 101, 'did': 102, 'does': 103, 'about': 104, 'do': 105, 'made': 106, 'which': 107, 'our': 108, 'by': 109, 'now': 110, 'their': 111, 'bad': 112, 'other': 113, 'am': 114, 'worst': 115, 'them': 116, 'much': 117, 'got': 118, 'money': 119, 'new': 120, 'disappointed': 121, 'enough': 122, 'these': 123, 'delicious': 124, 'then': 125, 'think': 126, 'still': 127, 'happy': 128, 'off': 129, 'minutes': 130, 'right': 131, 'car': 132, 'pretty': 133, 'item': 134, 'worked': 135, 'friendly': 136, 'charger': 137, 'buy': 138, 'while': 139, 'vegas': 140, 'waste': 141, 'comfortable': 142, 'far': 143, 'poor': 144, 'bluetooth': 145, 'easy': 146, 'some': 147, 'he': 148, 'two': 149, 'bought': 150, 'everything': 151, 'few': 152, 'definitely': 153, 'reception': 154, 'used': 155, 'restaurant': 156, 'going': 157, 'how': 158, 'went': 159, 'people': 160, \"doesn't\": 161, 'fine': 162, 'thing': 163, '1': 164, 'its': 165, 'being': 166, \"didn't\": 167, 'make': 168, 'piece': 169, 'over': 170, 'came': 171, 'always': 172, 'way': 173, 'say': 174, 'long': 175, 'charge': 176, 'little': 177, 'life': 178, 'purchase': 179, 'down': 180, 'cell': 181, 'terrible': 182, 'times': 183, 'take': 184, 'amazing': 185, '5': 186, 'problem': 187, '3': 188, 'camera': 189, 'want': 190, 'calls': 191, 'device': 192, 'know': 193, 'same': 194, 'another': 195, 'come': 196, 'us': 197, 'problems': 198, 'volume': 199, 'into': 200, 'last': 201, 'hear': 202, 'clear': 203, 'lot': 204, 'working': 205, 'found': 206, 'using': 207, 'motorola': 208, 'fit': 209, 'small': 210, 'fantastic': 211, 'every': 212, 'before': 213, 'horrible': 214, 'worth': 215, 'many': 216, 'quite': 217, 'plug': 218, 'impressed': 219, 'design': 220, 'highly': 221, 'makes': 222, 'years': 223, 'sure': 224, 'order': 225, 'both': 226, \"couldn't\": 227, 'fits': 228, 'look': 229, 'experience': 230, 'ordered': 231, 'customer': 232, 'try': 233, 'nothing': 234, \"can't\": 235, 'taste': 236, 'staff': 237, 'several': 238, 'loved': 239, 'without': 240, 'months': 241, 'left': 242, 'phones': 243, 'real': 244, 'since': 245, 'looks': 246, 'cool': 247, 'tried': 248, 'call': 249, 'around': 250, 'screen': 251, 'cheap': 252, 'side': 253, 'where': 254, 'overall': 255, \"i'd\": 256, 'year': 257, 'stars': 258, 'however': 259, 'deal': 260, 'give': 261, \"wasn't\": 262, \"won't\": 263, 'fresh': 264, 'salad': 265, 'steak': 266, 'waited': 267, 'days': 268, 'she': 269, 'talk': 270, 'find': 271, 'wear': 272, 'kind': 273, 'perfectly': 274, '10': 275, 'night': 276, 'company': 277, 'either': 278, 'old': 279, 'low': 280, 'amazon': 281, 'hard': 282, 'said': 283, 'day': 284, 'next': 285, 'menu': 286, 'burger': 287, 'pizza': 288, 'who': 289, 'absolutely': 290, 'most': 291, 'need': 292, 'priced': 293, 'verizon': 294, 'dropped': 295, 'buttons': 296, 'seriously': 297, 'big': 298, 'broke': 299, 'black': 300, 'light': 301, 'completely': 302, 'jabra': 303, 'voice': 304, 'area': 305, 'slow': 306, 'probably': 307, 'return': 308, 'junk': 309, 'looking': 310, \"i'll\": 311, 'unit': 312, 'away': 313, 'anyone': 314, 'took': 315, 'none': 316, 'tasty': 317, 'selection': 318, 'eat': 319, 'breakfast': 320, 'flavor': 321, 'must': 322, 'everyone': 323, 'helpful': 324, 'kept': 325, 'picture': 326, 'audio': 327, 'loud': 328, 'end': 329, 'different': 330, 'feels': 331, 'headsets': 332, 'gets': 333, 'home': 334, 'arrived': 335, 'quickly': 336, 'received': 337, 'pleased': 338, 'job': 339, 'getting': 340, 'software': 341, 'hours': 342, 'internet': 343, 'less': 344, 'stay': 345, 'extremely': 346, 'useless': 347, 'felt': 348, 'hands': 349, 'family': 350, 'nokia': 351, 'sucks': 352, 'couple': 353, 'disappointing': 354, 'bland': 355, 'those': 356, 'wrong': 357, 'things': 358, 'feel': 359, 'coming': 360, 'waitress': 361, 'sushi': 362, 'unless': 363, 'value': 364, 'each': 365, 'original': 366, 'though': 367, 'bars': 368, 'three': 369, 'simple': 370, 'ears': 371, 'hate': 372, 'turn': 373, 'headphones': 374, 'week': 375, 'later': 376, 'within': 377, 'expect': 378, 'free': 379, 'huge': 380, 'high': 381, 'fast': 382, 'full': 383, 'may': 384, 'signal': 385, 'avoid': 386, 'glad': 387, 'put': 388, 'awesome': 389, 'incredible': 390, 'check': 391, 'color': 392, 'part': 393, 'expected': 394, 'tell': 395, 'authentic': 396, 'disappointment': 397, 'cable': 398, 'care': 399, 'ago': 400, 'having': 401, 'crap': 402, 'especially': 403, 'rather': 404, 'difficult': 405, 'cannot': 406, 'zero': 407, 'samsung': 408, 'extra': 409, 'soon': 410, 'inside': 411, 'prices': 412, 'cooked': 413, 'wonderful': 414, 'sauce': 415, 'dish': 416, 'buffet': 417, 'eating': 418, 'dining': 419, 'atmosphere': 420, 'clean': 421, 'line': 422, 'decent': 423, 'razr': 424, 'started': 425, 'yet': 426, 'charging': 427, 'mobile': 428, 'hold': 429, 'least': 430, 'seems': 431, 'should': 432, 'actually': 433, 'sturdy': 434, 'large': 435, 'front': 436, 'beautiful': 437, 'bargain': 438, 'super': 439, 'shipping': 440, 'between': 441, 'pictures': 442, 'wife': 443, 'strong': 444, 'done': 445, 'set': 446, 'weeks': 447, 'during': 448, 'charm': 449, 'hit': 450, 'thought': 451, 'reasonably': 452, 'range': 453, 'bit': 454, 'mistake': 455, 'important': 456, 'feature': 457, 'buying': 458, 'lacking': 459, 'anything': 460, 'belt': 461, 'data': 462, 'sides': 463, 'others': 464, 'trying': 465, 'today': 466, 'satisfied': 467, 'keep': 468, 'plastic': 469, 'oh': 470, 'clarity': 471, '20': 472, 'unfortunately': 473, 'given': 474, 'star': 475, 'replace': 476, 'quick': 477, 'plus': 478, 'cases': 479, 'pay': 480, 'connection': 481, 'told': 482, 'hour': 483, '4': 484, 'management': 485, 'easily': 486, 'see': 487, 'wow': 488, 'pho': 489, 'fries': 490, 'beer': 491, 'waiter': 492, 'table': 493, 'tender': 494, 'server': 495, 'potato': 496, 'lunch': 497, 'chicken': 498, 'town': 499, 'spicy': 500, 'served': 501, 'eaten': 502, 'spot': 503, 'ambiance': 504, 'mic': 505, 'sending': 506, 'clip': 507, 'blue': 508, 'instructions': 509, 'provided': 510, 'included': 511, 'recommended': 512, 'performance': 513, 'keyboard': 514, 'instead': 515, 'reasonable': 516, 'support': 517, 'perhaps': 518, 'party': 519, 'player': 520, 'person': 521, 'station': 522, 'purchased': 523, 'holds': 524, 'music': 525, 'dont': 526, 'decision': 527, 'white': 528, 'although': 529, 'such': 530, 'ask': 531, 'leather': 532, 'comfortably': 533, 'basically': 534, 'almost': 535, 'stuff': 536, 'house': 537, 'literally': 538, 'goes': 539, 'tool': 540, 'obviously': 541, 'once': 542, 'simply': 543, 'lasts': 544, 'able': 545, 'lightweight': 546, 'earpiece': 547, 'unreliable': 548, 'gave': 549, 'seller': 550, 'plantronics': 551, 'charged': 552, 'weak': 553, 'lg': 554, 'cant': 555, 'easier': 556, 'hot': 557, 'face': 558, 'happier': 559, 'finally': 560, 'wanted': 561, 'waiting': 562, 'comes': 563, 'might': 564, 'expensive': 565, 'under': 566, 'liked': 567, 'palm': 568, 'store': 569, 'touch': 570, 'above': 571, 'own': 572, 'cingular': 573, 't': 574, 'enjoy': 575, 'please': 576, 'ringtones': 577, 'stop': 578, 'needed': 579, 'treo': 580, 'usb': 581, 'point': 582, 'red': 583, 'reviews': 584, 'awful': 585, 'something': 586, 'bar': 587, 'third': 588, 'wall': 589, 'hand': 590, 'break': 591, 'perfect': 592, 'until': 593, 'totally': 594, 'fact': 595, 'places': 596, 'tables': 597, 'shrimp': 598, 'servers': 599, 'pasta': 600, 'wait': 601, 'meat': 602, 'dishes': 603, 'thai': 604, 'steaks': 605, 'rude': 606, 'bacon': 607, 'wings': 608, 'folks': 609, 'special': 610, '0': 611, 'location': 612, 'jawbone': 613, 'conversations': 614, 'contacts': 615, 'fun': 616, 'static': 617, 'website': 618, 'pair': 619, 'below': 620, \"that's\": 621, 'pocket': 622, 'pc': 623, '7': 624, 'worthless': 625, 'thats': 626, 'features': 627, 'mind': 628, 'returned': 629, 'protection': 630, 'seconds': 631, '510': 632, 'complaints': 633, 'particular': 634, \"phone's\": 635, 'cover': 636, 'let': 637, 'trouble': 638, 'choice': 639, 'longer': 640, 'packaged': 641, 'loves': 642, 'construction': 643, 'boy': 644, 'ease': 645, 'play': 646, 'plan': 647, 'match': 648, 'fall': 649, 'display': 650, 'rocks': 651, 'number': 652, 'setup': 653, 'earpieces': 654, 'bt': 655, 'earbud': 656, 'failed': 657, 'coverage': 658, 'experienced': 659, 'drops': 660, 'forever': 661, 'description': 662, 'hoping': 663, \"wouldn't\": 664, 'sharp': 665, 'wasting': 666, 'chargers': 667, 'options': 668, 'needs': 669, 'handsfree': 670, 'network': 671, 'lost': 672, 'replacement': 673, 'thin': 674, 'nearly': 675, 'form': 676, 'anyway': 677, 'room': 678, \"there's\": 679, 'certainly': 680, 'mess': 681, 'hair': 682, 'sony': 683, 'favorite': 684, 'market': 685, 'comfort': 686, 'whatsoever': 687, '8': 688, 'drain': 689, 'whole': 690, 'poorly': 691, 'scratched': 692, 'someone': 693, 'microphone': 694, 'uncomfortable': 695, 'plugged': 696, 'driving': 697, 'immediately': 698, 'flip': 699, 'inexpensive': 700, 'wireless': 701, 'outside': 702, 'exactly': 703, \"you'd\": 704, 'stupid': 705, 'dead': 706, 'breaks': 707, 'note': 708, 'alone': 709, 'q': 710, 'size': 711, 'turned': 712, 'wearing': 713, 'sunglasses': 714, 'computer': 715, 'results': 716, 'im': 717, 'noise': 718, 'holster': 719, 'review': 720, 'ended': 721, 'refund': 722, 'drop': 723, 'sucked': 724, 'total': 725, 'friends': 726, \"isn't\": 727, 'joke': 728, 'walked': 729, 'through': 730, 'speaker': 731, 'sprint': 732, 'stopped': 733, 'guess': 734, 'tinny': 735, 'spring': 736, 'pairing': 737, 'ripped': 738, 'beat': 739, 'iphone': 740, 'despite': 741, 'power': 742, 'outlet': 743, 'etc': 744, 'elsewhere': 745, 'mediocre': 746, 'passed': 747, '100': 748, 'cut': 749, 'date': 750, 'bottom': 751, 'else': 752, 'boot': 753, 'thumbs': 754, 'checked': 755, 'send': 756, 'says': 757, 'top': 758, 'making': 759, 'beep': 760, 'word': 761, 'seen': 762, 'damn': 763, 'warm': 764, 'running': 765, 'salmon': 766, 'portions': 767, 'establishment': 768, 'sick': 769, 'attentive': 770, 'dessert': 771, 'sandwich': 772, 'greek': 773, 'dressing': 774, 'husband': 775, 'heart': 776, 'seafood': 777, 'tasteless': 778, 'second': 779, 'fish': 780, 'drinks': 781, 'rice': 782, '30': 783, 'sweet': 784, 'rolls': 785, \"you're\": 786, 'cafe': 787, 'meal': 788, 'trip': 789, 'leave': 790, 'pork': 791, 'delish': 792, 'cream': 793, 'empty': 794, 'itself': 795, 'considering': 796, 'seated': 797, 'phoenix': 798, 'treated': 799, 'sat': 800, 'ice': 801, 'interesting': 802, 'bread': 803, 'business': 804, 'cold': 805, 'possible': 806, 'outstanding': 807, 'pizzas': 808, 'enjoyed': 809, 'lasting': 810, '45': 811, 'wasted': 812, 'extended': 813, 'notice': 814, 'tooth': 815, 'advise': 816, 'fire': 817, 'run': 818, 'combination': 819, 'owned': 820, 'pull': 821, 'unusable': 822, 'book': 823, 'short': 824, 'regarding': 825, 'turns': 826, 'pda': 827, 'world': 828, '15': 829, 'essentially': 830, 'forget': 831, 'tech': 832, 'clearly': 833, 'mp3': 834, 'lock': 835, 'died': 836, 'glasses': 837, 'sometimes': 838, 'series': 839, 'quiet': 840, 'saying': 841, 'docking': 842, 'd807': 843, 'advertised': 844, 'handy': 845, '6': 846, 'cheaper': 847, 'costs': 848, 'buyer': 849, 'beware': 850, 'apparently': 851, 'pros': 852, 'flaw': 853, 'rated': 854, 'impressive': 855, 'expectations': 856, 'resolution': 857, 'slim': 858, 'sex': 859, 'toast': 860, 'sleek': 861, 'keypad': 862, 'unhappy': 863, 'winner': 864, 'careful': 865, 'logitech': 866, 'recognition': 867, 'tremendous': 868, 'takes': 869, 'stated': 870, 'blackberry': 871, 'sounds': 872, 'funny': 873, 'technology': 874, 'wired': 875, 'previous': 876, 's': 877, 'w810i': 878, 'superb': 879, 'maintain': 880, \"shouldn't\": 881, 'graphics': 882, 'button': 883, 'thank': 884, 'igo': 885, 'tips': 886, 'connected': 887, \"wife's\": 888, 'whether': 889, 'storage': 890, 'buzzing': 891, 'override': 892, 'functionality': 893, 'recently': 894, 'bucks': 895, 'ring': 896, 'dropping': 897, 'incredibly': 898, 'strange': 899, 'bother': 900, 'living': 901, 'issues': 902, 'embarrassing': 903, 'consumer': 904, 'background': 905, 'usually': 906, 'excited': 907, 'cute': 908, 'additional': 909, 'gels': 910, 'purpose': 911, 'secure': 912, 'appears': 913, 'rubber': 914, 'smell': 915, 'caused': 916, 'flimsy': 917, 'month': 918, 'flawlessly': 919, 'fry': 920, 'adorable': 921, 'strip': 922, 'wise': 923, 'gotten': 924, 'dialing': 925, 'neither': 926, 'games': 927, 'ipod': 928, 'recharge': 929, 'save': 930, 'along': 931, 'starts': 932, 'ringing': 933, 'reason': 934, 'auto': 935, 'push': 936, 'skype': 937, 'self': 938, 'help': 939, 'shipped': 940, 'prompt': 941, 'noticed': 942, 'att': 943, 'mention': 944, 'effect': 945, 'model': 946, 'warning': 947, 'wish': 948, 'dying': 949, 'install': 950, 'purchasing': 951, 'moto': 952, 'figure': 953, 'reading': 954, 'memory': 955, 'solid': 956, 'returning': 957, 'changing': 958, 'update': 959, 'cumbersome': 960, 'delivery': 961, 'switch': 962, 'worthwhile': 963, 'understand': 964, 'pricing': 965, 'batteries': 966, 'user': 967, 'ability': 968, 'receiving': 969, 'exchanged': 970, 'cellphone': 971, 'described': 972, 'nyc': 973, 'defective': 974, 'unacceptable': 975, 'catching': 976, 'amazed': 977, 'timeframe': 978, 'complaint': 979, 'standard': 980, 'accidentally': 981, 'listening': 982, 'kitchen': 983, 'conversation': 984, 'ample': 985, 'eargels': 986, 'seem': 987, 'missed': 988, 'numerous': 989, 'barely': 990, 'due': 991, 'forced': 992, 'menus': 993, 'holding': 994, 'broken': 995, 'effort': 996, 'course': 997, 'breaking': 998, '50': 999, 'operate': 1000, 'paired': 1001, 'pack': 1002, 'believe': 1003, 'apart': 1004, 'brand': 1005, 'performed': 1006, 'echo': 1007, 'wind': 1008, 'warranty': 1009, 'placed': 1010, 'falling': 1011, 'tiny': 1012, 'tries': 1013, 'download': 1014, 'happened': 1015, 'access': 1016, 'continue': 1017, 'flash': 1018, 'truly': 1019, 'tones': 1020, 'prime': 1021, 'chinese': 1022, 'crisp': 1023, 'video': 1024, 'accept': 1025, 'allows': 1026, 'multiple': 1027, 'signs': 1028, 'sizes': 1029, 'classy': 1030, 'metro': 1031, 'cost': 1032, 'convenient': 1033, 'son': 1034, 'protector': 1035, '12': 1036, 'discount': 1037, 'double': 1038, 'disgusting': 1039, 'rare': 1040, 'five': 1041, 'lots': 1042, 'sounded': 1043, 'together': 1044, 'feet': 1045, 'everywhere': 1046, 'ordering': 1047, 'awkward': 1048, 'current': 1049, 'dirty': 1050, 'answer': 1051, \"haven't\": 1052, 'laptop': 1053, 'normal': 1054, 'fails': 1055, 'lose': 1056, 'exceptional': 1057, 'setting': 1058, 'show': 1059, 'ok': 1060, 'managed': 1061, 'seat': 1062, 'lightly': 1063, 'rating': 1064, 'rest': 1065, 'joy': 1066, 'covered': 1067, 'disappoint': 1068, 'crust': 1069, 'texture': 1070, 'nasty': 1071, 'late': 1072, 'recommendation': 1073, 'potatoes': 1074, 'overpriced': 1075, 'asked': 1076, 'mexican': 1077, 'tacos': 1078, 'overwhelmed': 1079, 'familiar': 1080, 'visit': 1081, 'grossed': 1082, 'beef': 1083, 'duck': 1084, 'char': 1085, 'realized': 1086, 'his': 1087, 'towards': 1088, 'customers': 1089, 'portion': 1090, 'attack': 1091, 'excuse': 1092, 'scallop': 1093, 'water': 1094, 'appetizers': 1095, 'heard': 1096, 'salt': 1097, 'batter': 1098, 'chewy': 1099, 'min': 1100, 'known': 1101, 'opportunity': 1102, 'die': 1103, 'mouth': 1104, 'bye': 1105, \"we'll\": 1106, 'serves': 1107, 'marrow': 1108, 'wine': 1109, 'bartender': 1110, 'lovers': 1111, 'busy': 1112, 'gross': 1113, 'preparing': 1114, 'belly': 1115, 'melt': 1116, 'burgers': 1117, 'cheese': 1118, 'subway': 1119, 'restaurants': 1120, 'dine': 1121, 'drink': 1122, 'rarely': 1123, 'curry': 1124, 'bathrooms': 1125, 'decorated': 1126, 'bay': 1127, 'stale': 1128, 'bakery': 1129, 'sad': 1130, 'ladies': 1131, 'decided': 1132, 'looked': 1133, 'healthy': 1134, 'butter': 1135, 'chips': 1136, 'watch': 1137, 'egg': 1138, 'dog': 1139, 'bowl': 1140, 'live': 1141, 'insulted': 1142, 'drive': 1143, 'hope': 1144, 'brunch': 1145, 'stepped': 1146, 'gold': 1147, 'bug': 1148, \"we're\": 1149, 'her': 1150, 'shower': 1151, 'lobster': 1152, 'bisque': 1153, 'yum': 1154, 'stayed': 1155, 'flavorful': 1156, 'dark': 1157, 'par': 1158, 'creamy': 1159, 'generous': 1160, 'coffee': 1161, 'tea': 1162, 'patio': 1163, 'bachi': 1164, \"friend's\": 1165, 'why': 1166, 'pulled': 1167, 'stir': 1168, 'fried': 1169, 'doubt': 1170, 'mom': 1171, 'pleasant': 1172, 'omg': 1173, 'ten': 1174, 'pancakes': 1175, 'eggs': 1176, 'tasted': 1177, 'deserves': 1178, 'green': 1179, 'stuffed': 1180, 'kids': 1181, 'assure': 1182, 'regular': 1183, 'dinner': 1184, '40': 1185, 'anytime': 1186, 'driest': 1187, 'manager': 1188, 'acknowledged': 1189, 'group': 1190, 'crab': 1191, 'legs': 1192, 'bunch': 1193, 'homemade': 1194, 'desserts': 1195, 'recent': 1196, 'converter': 1197, 'tied': 1198, 'major': 1199, 'jiggle': 1200, 'dozen': 1201, 'hundred': 1202, 'imagine': 1203, 'owner': 1204, 'needless': 1205, 'seperated': 1206, 'mere': 1207, 'ft': 1208, 'excessive': 1209, 'garbled': 1210, 'odd': 1211, 'fooled': 1212, 'clicks': 1213, 'wonder': 1214, 'mechanism': 1215, \"motorola's\": 1216, 'followed': 1217, 'directions': 1218, 'kindle': 1219, 'commercials': 1220, 'misleading': 1221, 'mother': 1222, 'couldnt': 1223, 'earphone': 1224, 'breakage': 1225, 'unacceptible': 1226, 'ideal': 1227, 'whose': 1228, 'sensitive': 1229, 'moving': 1230, 'freeway': 1231, 'speed': 1232, 'contract': 1233, 'ac': 1234, 'juice': 1235, 'highy': 1236, 'mins': 1237, '680': 1238, '2mp': 1239, 'pics': 1240, 'garbage': 1241, 'gonna': 1242, 'arguing': 1243, 'bulky': 1244, 'usable': 1245, 'useful': 1246, 'machine': 1247, 'neat': 1248, 'gadget': 1249, 'e': 1250, 'stream': 1251, 'submerged': 1252, \"microsoft's\": 1253, 'faceplates': 1254, 'elegant': 1255, 'angle': 1256, 'drawback': 1257, 'pause': 1258, 'skip': 1259, 'songs': 1260, 'activated': 1261, 'suddenly': 1262, 'ipods': 1263, 'situations': 1264, 'bmw': 1265, 'fairly': 1266, 'hearing': 1267, 'wrongly': 1268, 'everyday': 1269, 'intended': 1270, 'runs': 1271, 'loads': 1272, 'greater': 1273, 'buds': 1274, 'waaay': 1275, 'bluetooths': 1276, 'listener': 1277, 'integrated': 1278, 'seamlessly': 1279, 'flush': 1280, 'toilet': 1281, 'supposedly': 1282, '375': 1283, 'styles': 1284, 'correctly': 1285, '350': 1286, 'jabra350': 1287, 'megapixels': 1288, 'renders': 1289, 'images': 1290, 'relatively': 1291, 'purcashed': 1292, 'geeky': 1293, 'oozes': 1294, 'embedded': 1295, 'stylish': 1296, 'compromise': 1297, 'qwerty': 1298, 'basic': 1299, 'simpler': 1300, 'iam': 1301, 'disapoinment': 1302, 'realize': 1303, 'accompanied': 1304, 'brilliant': 1305, 'nicely': 1306, 'damage': 1307, 'definitly': 1308, 'majority': 1309, 'peachy': 1310, 'keen': 1311, 'upstairs': 1312, 'basement': 1313, 'minute': 1314, 'reccomendation': 1315, 'relative': 1316, 'items': 1317, 'sudden': 1318, 'linking': 1319, '8530': 1320, 'curve': 1321, 'seemed': 1322, 'sketchy': 1323, 'messages': 1324, 'web': 1325, 'browsing': 1326, 'significantly': 1327, 'faster': 1328, 'build': 1329, 'unlike': 1330, 'colors': 1331, 'whine': 1332, 'communications': 1333, 'communicate': 1334, 'monkeys': 1335, 'share': 1336, 'dna': 1337, 'copy': 1338, 'humans': 1339, 'bougth': 1340, 'l7c': 1341, 'mode': 1342, 'file': 1343, 'browser': 1344, 'offers': 1345, 'hs850': 1346, 'latest': 1347, 'os': 1348, 'v1': 1349, '15g': 1350, 'likes': 1351, 'crawl': 1352, 'recognizes': 1353, 'bluetoooth': 1354, 'thorn': 1355, 'abhor': 1356, 'disconnected': 1357, '13': 1358, 'mail': 1359, 'backlight': 1360, 'message': 1361, 'tone': 1362, 'lately': 1363, 'wit': 1364, 'weight': 1365, 'hardly': 1366, \"you'll\": 1367, 'pleather': 1368, 'deaf': 1369, 'prettier': 1370, 'investment': 1371, 'ticking': 1372, 'noises': 1373, 'ends': 1374, 'electronics': 1375, 'available': 1376, 'fm': 1377, 'transmitters': 1378, 'h500': 1379, 'mega': 1380, 'pixel': 1381, 'good7': 1382, 'transmit': 1383, 'contacting': 1384, 'dollar': 1385, 'learned': 1386, 'lesson': 1387, 'online': 1388, 'earbugs': 1389, 'means': 1390, 'roam': 1391, 'crack': 1392, 'infatuated': 1393, 'freezes': 1394, 'frequently4': 1395, 'mostly': 1396, 'child': 1397, 'tick': 1398, 'headbands': 1399, 'ericsson': 1400, 'purchases': 1401, 'shine': 1402, 'calendar': 1403, 'sync': 1404, 'defeats': 1405, 'penny': 1406, 'wallet': 1407, 'type': 1408, 'excrutiatingly': 1409, 'aspect': 1410, 'glove': 1411, 'durable': 1412, 'o': 1413, 'gosh': 1414, 'attractive': 1415, 'factor': 1416, 'petroleum': 1417, 'unbearable': 1418, 'scary': 1419, 'stereo': 1420, 'absolutel': 1421, 'potentially': 1422, 'giving': 1423, 'reversible': 1424, 'rotating': 1425, 'contstruct': 1426, 'hinge': 1427, 'installed': 1428, 'overnite': 1429, 'thru': 1430, 'handset': 1431, 'cat': 1432, 'attacked': 1433, 'protective': 1434, 'destroying': 1435, 'razor': 1436, 'v3i': 1437, 'shouldve': 1438, 'invented': 1439, 'sooner': 1440, 'engineered': 1441, 'clever': 1442, 'complained': 1443, \"headset's\": 1444, '2160': 1445, 'tracfone': 1446, 'instruction': 1447, 'manual': 1448, 'alarm': 1449, 'clock': 1450, 'removing': 1451, 'antena': 1452, 'compared': 1453, 'compliments': 1454, 'state': 1455, 'allow': 1456, 'usage': 1457, 'ngage': 1458, 'earbuds': 1459, 'riingtones': 1460, 'rip': 1461, 'frequentyly': 1462, 'adhesive': 1463, 'practically': 1464, 'add': 1465, 'boost': 1466, 'concrete': 1467, 'knock': 1468, 'wood': 1469, 'transformed': 1470, 'organizational': 1471, 'capability': 1472, 'sitting': 1473, 'vehicle': 1474, 'cradle': 1475, 'jerks': 1476, 'los': 1477, 'angeles': 1478, 'starter': 1479, 'loudspeaker': 1480, 'option': 1481, 'bumpers': 1482, 'lights': 1483, 'appealing': 1484, 'improve': 1485, 'leaks': 1486, 'according': 1487, 'called': 1488, 'applifies': 1489, 'specially': 1490, 'transmission': 1491, 's11': 1492, 'finished': 1493, 'drivng': 1494, 'reverse': 1495, 'tape': 1496, 'embarassing': 1497, 'hurt': 1498, 'protects': 1499, 'average': 1500, 'operates': 1501, 'soyo': 1502, 'portraits': 1503, 'exterior': 1504, 'mentioned': 1505, 'gadgets': 1506, 'magical': 1507, 'promptly': 1508, 'comparably': 1509, 'offering': 1510, 'encourage': 1511, 'effective': 1512, 'recieve': 1513, 'cradles': 1514, 'kits': 1515, 'excelent': 1516, 'cingulair': 1517, 'nicer': 1518, 'era': 1519, 'colored': 1520, 'hoursthe': 1521, 'thereplacement': 1522, '2000': 1523, 'cheaply': 1524, 'distorted': 1525, 'yell': 1526, 'forgot': 1527, 'weird': 1528, 'iriver': 1529, 'spinn': 1530, 'fond': 1531, 'magnetic': 1532, 'strap': 1533, 'psyched': 1534, 'appointments': 1535, 'appearance': 1536, 'sanyo': 1537, 'survived': 1538, 'dozens': 1539, 'blacktop': 1540, 'ill': 1541, 'earphones': 1542, 'finds': 1543, 'enter': 1544, 'modest': 1545, 'cellular': 1546, 'awsome': 1547, 'drained': 1548, 'earpad': 1549, 'displeased': 1550, 'defect': 1551, 'risk': 1552, 'built': 1553, 'restored': 1554, 'jx': 1555, 'searched': 1556, 'key': 1557, 'pad': 1558, 'lit': 1559, 'portable': 1560, 'colleague': 1561, 'fully': 1562, 'bed': 1563, 'wi': 1564, 'fi': 1565, 'morning': 1566, 'card': 1567, 'hat': 1568, 'timely': 1569, 'shipment': 1570, 'surefire': 1571, 'gx2': 1572, 'bt50': 1573, 'buyers': 1574, 'remorse': 1575, 'accessoryone': 1576, 'inexcusable': 1577, 'carriers': 1578, 'tmobile': 1579, 'procedure': 1580, 'motorolas': 1581, 'vx9900': 1582, 'env': 1583, 'rocketed': 1584, 'destination': 1585, 'unknown': 1586, 'conditions': 1587, 'usefulness': 1588, \"verizon's\": 1589, 'bills': 1590, 'plans': 1591, 'overnight': 1592, 'regret': 1593, 'pitiful': 1594, 'respect': 1595, 'stuck': 1596, 'max': 1597, 'mute': 1598, 'hybrid': 1599, 'palmtop': 1600, 'excels': 1601, 'roles': 1602, 'bt250v': 1603, '11': 1604, 'bose': 1605, 'cancelling': 1606, 'commuter': 1607, 'photo': 1608, 'ad': 1609, 'earlier': 1610, 'noted': 1611, 'happens': 1612, 'frog': 1613, 'eye': 1614, 'pushed': 1615, 'function': 1616, 'aluminum': 1617, 'vx': 1618, 'protected': 1619, 'handheld': 1620, 'tools': 1621, 'sturdiness': 1622, 'orders': 1623, 'source': 1624, 'waterproof': 1625, 'thanks': 1626, 'sliding': 1627, 'edge': 1628, 'pants': 1629, 'pockets': 1630, 'ugly': 1631, 'shield': 1632, 'incrediable': 1633, 'improvement': 1634, 'refuse': 1635, 'activate': 1636, 'gentle': 1637, 'threw': 1638, 'window': 1639, 'inches': 1640, 'counter': 1641, 'cracked': 1642, 'laughing': 1643, 'trunk': 1644, 'carried': 1645, 'hitch': 1646, 'practical': 1647, 'channel': 1648, 'directly': 1649, 'increase': 1650, 'ones': 1651, 'properly': 1652, 'shifting': 1653, 'bubbling': 1654, 'peeling': 1655, 'scratch': 1656, 'droid': 1657, 'exercise': 1658, 'frustration': 1659, 'earset': 1660, 'outgoing': 1661, 'package': 1662, 'understanding': 1663, 'patient': 1664, 'wirefly': 1665, 'contact': 1666, 'inform': 1667, 'practice': 1668, 'aggravating': 1669, 'virgin': 1670, 'muddy': 1671, 'casing': 1672, \"wire's\": 1673, 'insert': 1674, 'glued': 1675, 'slid': 1676, 'plantronincs': 1677, 'continues': 1678, 'flawed': 1679, 'disapointing': 1680, 'fourth': 1681, 'hated': 1682, 'fixes': 1683, 'accessing': 1684, 'downloading': 1685, 'performing': 1686, 'functions': 1687, 'constantly': 1688, 'happening': 1689, 'adapters': 1690, 'procedures': 1691, 're': 1692, 'wiping': 1693, 'strength': 1694, 'plays': 1695, 'louder': 1696, 'constructed': 1697, 'navigate': 1698, 'recessed': 1699, 'avoiding': 1700, 'smoking': 1701, 'linked': 1702, 'possesed': 1703, 'idea': 1704, 'trash': 1705, 'research': 1706, 'development': 1707, 'division': 1708, 'knows': 1709, \"they're\": 1710, 'doing': 1711, 'killer': 1712, 'infuriating': 1713, 'walkman': 1714, 'charges': 1715, 'europe': 1716, 'asia': 1717, 'clipping': 1718, 'deffinitely': 1719, \"cent's\": 1720, 'behing': 1721, '5020': 1722, 'comfortible': 1723, '24': 1724, 'pain': 1725, 'arrival': 1726, 'fraction': 1727, 'crappy': 1728, 'e715': 1729, 'seeen': 1730, 'interface': 1731, 'decade': 1732, 'compete': 1733, 'designs': 1734, '700w': 1735, 'transceiver': 1736, 'steer': 1737, 'genuine': 1738, 'replacementr': 1739, 'pens': 1740, 'buyit': 1741, 'beats': 1742, 'fingers': 1743, 'steep': 1744, 'normally': 1745, 'haul': 1746, 'dissapointing': 1747, 'originally': 1748, 'discarded': 1749, 'players': 1750, 'posted': 1751, 'detailed': 1752, 'comments': 1753, 'grey': 1754, 'existing': 1755, 'cds': 1756, 'surprised': 1757, 'fabulous': 1758, 'currently': 1759, 'shooters': 1760, 'delay': 1761, 'messes': 1762, 'bitpim': 1763, 'program': 1764, 'transfer': 1765, 'accessory': 1766, 'manufacturer': 1767, 'muffled': 1768, 'incoming': 1769, 'severe': 1770, 'resistant': 1771, 'overly': 1772, 'contacted': 1773, 'produce': 1774, 'receipt': 1775, 'luck': 1776, 'linksys': 1777, 'exchange': 1778, 'refurb': 1779, 'snug': 1780, 'heavy': 1781, 'keeps': 1782, 'utter': 1783, 'promised': 1784, 'loop': 1785, 'four': 1786, 'latch': 1787, 'visor': 1788, 'address': 1789, 'reboots': 1790, 'rate': 1791, 'tungsten': 1792, 'e2': 1793, 'flipphones': 1794, 'designed': 1795, 'smoothly': 1796, 'study': 1797, 'interested': 1798, 'sins': 1799, 'industrial': 1800, 'tracking': 1801, 'detachable': 1802, 'periodically': 1803, 'somehow': 1804, 'upload': 1805, 'locks': 1806, 'screens': 1807, 'randomly': 1808, 'locked': 1809, '325': 1810, 'worn': 1811, 'ringer': 1812, 'choices': 1813, 'acceptable': 1814, 'balance': 1815, 'ready': 1816, 'upbeat': 1817, 'forgeries': 1818, 'abound': 1819, 'explain': 1820, 'jack': 1821, 'ca': 1822, '42': 1823, 'smallest': 1824, 'stays': 1825, 'biggest': 1826, 'drains': 1827, 'superfast': 1828, 'ergonomic': 1829, 'theory': 1830, 'stand': 1831, 'clips': 1832, 'occupied': 1833, 'distracting': 1834, 'entire': 1835, 'except': 1836, 'cbr': 1837, 'mp3s': 1838, 'preferably': 1839, 'windows': 1840, 'media': 1841, 'shots': 1842, 'sos': 1843, 'signals': 1844, 'connect': 1845, 'mini': 1846, 'near': 1847, 'open': 1848, 'allowing': 1849, 'startac': 1850, 'regretted': 1851, 'outperform': 1852, 'china': 1853, 'v325i': 1854, 'numbers': 1855, 'sim': 1856, '3o': 1857, 'r': 1858, 'crashed': 1859, 'replaced': 1860, 'quit': 1861, '18': 1862, '4s': 1863, 'connecting': 1864, 'sources': 1865, 'imac': 1866, 'external': 1867, 'bells': 1868, 'whistles': 1869, 'via': 1870, 'slide': 1871, 'grip': 1872, 'prevents': 1873, 'slipping': 1874, 'span': 1875, 'exclaim': 1876, 'whoa': 1877, 'tv': 1878, 'corded': 1879, 'freedom': 1880, 'mark': 1881, 'shows': 1882, 'functional': 1883, 'soft': 1884, 'tight': 1885, 'shape': 1886, 'copier': 1887, 'sent': 1888, 'anywhere': 1889, 'sold': 1890, 'units': 1891, 'provides': 1892, 'krussel': 1893, 'tracfonewebsite': 1894, 'toactivate': 1895, 'texas': 1896, 'dit': 1897, '5320': 1898, 'mainly': 1899, 'whatever': 1900, 'blueant': 1901, 'supertooth': 1902, 'pcs': 1903, 'sch': 1904, 'r450': 1905, 'slider': 1906, 'premium': 1907, 'plugs': 1908, 'plenty': 1909, 'capacity': 1910, 'confortable': 1911, 'somewhat': 1912, 'periods': 1913, 'ant': 1914, 'hey': 1915, 'pleasantly': 1916, 'suprised': 1917, 'dustpan': 1918, 'indoors': 1919, 'disposable': 1920, 'puff': 1921, 'smoke': 1922, 'ride': 1923, 'smoother': 1924, 'nano': 1925, 'dissapointed': 1926, 'reccommend': 1927, 'carries': 1928, 'highest': 1929, 'anti': 1930, 'glare': 1931, 'smartphone': 1932, 'wont': 1933, 'atleast': 1934, 'addition': 1935, 'amp': 1936, 'reoccure': 1937, 'somewhere': 1938, 'creaks': 1939, 'wooden': 1940, 'floor': 1941, 'apartment': 1942, 'generally': 1943, 'inconspicuous': 1944, 'slowly': 1945, 'sorry': 1946, 'impossible': 1947, 'refused': 1948, 'upgrade': 1949, 'securly': 1950, 'possibility': 1951, 'booking': 1952, 'entertainment': 1953, 'communication': 1954, 'activesync': 1955, 'optimal': 1956, 'synchronization': 1957, 'coupon': 1958, 'instance': 1959, 'ps3': 1960, 'cheapy': 1961, 'talking': 1962, 'shouting': 1963, 'telephone': 1964, 'yes': 1965, 'shiny': 1966, 'grtting': 1967, '44': 1968, 'v3c': 1969, 'exceeds': 1970, 'sight': 1971, 'improper': 1972, 'effects': 1973, 'palms': 1974, 'hoped': 1975, 'father': 1976, 'v265': 1977, 'pads': 1978, 'stops': 1979, 'intermittently': 1980, 'reaching': 1981, 'row': 1982, 'keys': 1983, 'nightmare': 1984, 'describe': 1985, 'speakerphone': 1986, 'cassette': 1987, 'cellphones': 1988, 'planning': 1989, 'read': 1990, \"other's\": 1991, 'products': 1992, 'sensor': 1993, 'reliability': 1994, 'beeping': 1995, 'letting': 1996, 'dieing': 1997, 'ir': 1998, 'cancellation': 1999, 'counterfeit': 2000, 'travled': 2001, 'swivel': 2002, 'sister': 2003, 'dual': 2004, '8125': 2005, 'keeping': 2006, 'bottowm': 2007, 'gimmick': 2008, 'opens': 2009, 'causing': 2010, 'discomfort': 2011, 'trust': 2012, 'maintains': 2013, 'flawless': 2014, 'devices': 2015, 'utterly': 2016, 'confusing': 2017, 'holder': 2018, 'cutouts': 2019, 'land': 2020, 'loops': 2021, 'material': 2022, 'flaws': 2023, 'owning': 2024, 'official': 2025, 'oem': 2026, 'loudest': 2027, 'competitors': 2028, 'saved': 2029, 'alot': 2030, 'cuts': 2031, 'unintelligible': 2032, 'restart': 2033, 'bend': 2034, 'leaf': 2035, 'metal': 2036, 'stress': 2037, 'leopard': 2038, 'print': 2039, 'wonderfully': 2040, 'wild': 2041, 'saggy': 2042, 'floppy': 2043, 'looses': 2044, 'snap': 2045, '8525': 2046, 'carry': 2047, 'fliptop': 2048, 'loose': 2049, 'wobbly': 2050, 'eventually': 2051, 'receive': 2052, 'fulfills': 2053, 'requirements': 2054, 'rests': 2055, 'against': 2056, 'websites': 2057, 'cables': 2058, 'lap': 2059, 'controls': 2060, 'accessable': 2061, 'mine': 2062, 'christmas': 2063, 'otherwise': 2064, 'satisifed': 2065, '2005': 2066, 's710a': 2067, 'specs': 2068, 'armband': 2069, 'allot': 2070, 'clearer': 2071, 'keypads': 2072, 'reach': 2073, 'ericson': 2074, 'z500a': 2075, 'motor': 2076, 'control': 2077, 'center': 2078, 'voltage': 2079, 'humming': 2080, 'equipment': 2081, 'certain': 2082, 'girl': 2083, 'complain': 2084, 'wake': 2085, 'styling': 2086, 'restocking': 2087, 'fee': 2088, 'darn': 2089, 'lousy': 2090, 'sweetest': 2091, 'securely': 2092, 'hook': 2093, 'directed': 2094, 'canal': 2095, 'unsatisfactory': 2096, 'videos': 2097, 'negatively': 2098, 'adapter': 2099, 'provide': 2100, 'hype': 2101, 'assumed': 2102, 'lense': 2103, 'falls': 2104, 'text': 2105, 'messaging': 2106, 'tricky': 2107, 'painful': 2108, 'lasted': 2109, 'blew': 2110, 'flops': 2111, 'smudged': 2112, 'touches': 2113, 'infra': 2114, 'port': 2115, 'irda': 2116, 'bank': 2117, 'holiday': 2118, 'rick': 2119, 'steve': 2120, 'angry': 2121, 'honeslty': 2122, 'ahead': 2123, 'warmer': 2124, 'cashier': 2125, 'wayyy': 2126, 'cape': 2127, 'cod': 2128, 'ravoli': 2129, 'chickenwith': 2130, 'cranberry': 2131, 'mmmm': 2132, 'disgusted': 2133, 'human': 2134, 'shocked': 2135, 'indicate': 2136, 'cash': 2137, 'burrittos': 2138, 'blah': 2139, 'interior': 2140, 'velvet': 2141, 'cake': 2142, 'ohhh': 2143, 'brought': 2144, 'hole': 2145, 'street': 2146, 'luke': 2147, 'sever': 2148, 'sashimi': 2149, 'combos': 2150, '23': 2151, 'final': 2152, 'blow': 2153, 'accident': 2154, 'grab': 2155, 'bite': 2156, 'pub': 2157, 'yourself': 2158, 'favor': 2159, 'redeeming': 2160, 'hiro': 2161, 'delight': 2162, 'moist': 2163, 'drag': 2164, 'judge': 2165, 'melted': 2166, 'styrofoam': 2167, 'fear': 2168, 'positive': 2169, 'frozen': 2170, 'pucks': 2171, 'disgust': 2172, 'behind': 2173, 'register': 2174, 'rib': 2175, 'section': 2176, 'generic': 2177, 'firehouse': 2178, 'pita': 2179, 'hummus': 2180, 'refreshing': 2181, 'pink': 2182, 'chow': 2183, 'mein': 2184, 'attitudes': 2185, 'imaginative': 2186, 'grill': 2187, 'downtown': 2188, 'flat': 2189, 'lined': 2190, 'strings': 2191, 'amount': 2192, 'banana': 2193, 'petrified': 2194, 'refill': 2195, 'struggle': 2196, 'wave': 2197, 'receives': 2198, 'cocktails': 2199, 'handmade': 2200, \"we'd\": 2201, 'military': 2202, 'dos': 2203, 'gringos': 2204, 'finish': 2205, 'tastings': 2206, 'jeff': 2207, 'beyond': 2208, 'meh': 2209, 'milkshake': 2210, 'chocolate': 2211, 'milk': 2212, 'suck': 2213, 'excalibur': 2214, 'common': 2215, 'sense': 2216, 'appalling': 2217, 'seasoned': 2218, 'cheated': 2219, 'experiencing': 2220, 'underwhelming': 2221, 'relationship': 2222, 'parties': 2223, 'smelled': 2224, 'grease': 2225, 'trap': 2226, 'turkey': 2227, 'roast': 2228, 'pan': 2229, 'cakes': 2230, 'raving': 2231, 'sugary': 2232, 'disaster': 2233, 'tailored': 2234, 'palate': 2235, 'six': 2236, 'yummy': 2237, 'ratio': 2238, 'tenders': 2239, 'unsatisfying': 2240, 'omelets': 2241, 'summary': 2242, 'largely': 2243, 'sexy': 2244, 'outrageously': 2245, 'flirting': 2246, 'hottest': 2247, 'rock': 2248, 'casino': 2249, 'step': 2250, 'forward': 2251, 'tip': 2252, 'lady': 2253, 'roasted': 2254, 'garlic': 2255, 'bone': 2256, 'added': 2257, 'bloddy': 2258, \"mary's\": 2259, 'mussels': 2260, 'reduction': 2261, 'buffets': 2262, 'tigerlilly': 2263, 'afternoon': 2264, 'personable': 2265, 'ambience': 2266, 'playing': 2267, 'sooooo': 2268, \"let's\": 2269, 'honest': 2270, 'yama': 2271, '40min': 2272, 'arriving': 2273, 'actual': 2274, 'blandest': 2275, 'indian': 2276, 'cuisine': 2277, 'worries': 2278, 'guys': 2279, 'loving': 2280, \"he's\": 2281, 'venture': 2282, 'further': 2283, 'host': 2284, 'lack': 2285, 'bitches': 2286, 'liking': 2287, 'reasons': 2288, 'reviewing': 2289, 'phenomenal': 2290, 'venturing': 2291, 'penne': 2292, 'vodka': 2293, 'including': 2294, 'massive': 2295, 'meatloaf': 2296, 'crispy': 2297, 'wrap': 2298, 'tuna': 2299, 'bagels': 2300, 'selections': 2301, 'lox': 2302, 'capers': 2303, 'meet': 2304, 'weekend': 2305, 'suggestions': 2306, 'ate': 2307, 'bamboo': 2308, 'shoots': 2309, 'blanket': 2310, 'moz': 2311, 'subpar': 2312, 'pace': 2313, 'watched': 2314, 'attention': 2315, 'ignore': 2316, 'fiancé': 2317, 'middle': 2318, 'greeted': 2319, 'mandalay': 2320, 'forty': 2321, 'vain': 2322, 'crostini': 2323, 'highlights': 2324, 'nigiri': 2325, 'joint': 2326, 'flavored': 2327, 'voodoo': 2328, 'gluten': 2329, 'leftover': 2330, 'relocated': 2331, 'diverse': 2332, 'hella': 2333, 'salty': 2334, 'spinach': 2335, 'avocado': 2336, 'ingredients': 2337, 'handed': 2338, 'listed': 2339, 'waitresses': 2340, 'lordy': 2341, 'khao': 2342, 'soi': 2343, 'terrific': 2344, 'thrilled': 2345, 'accommodations': 2346, 'vegetarian': 2347, 'daughter': 2348, 'caught': 2349, 'judging': 2350, 'inspired': 2351, 'leaves': 2352, 'desired': 2353, 'modern': 2354, 'hip': 2355, 'maintaining': 2356, 'coziness': 2357, 'weekly': 2358, 'haunt': 2359, 'asking': 2360, 'overcooked': 2361, 'charcoal': 2362, 'verge': 2363, 'dressed': 2364, 'rudely': 2365, 'dirt': 2366, 'hits': 2367, 'quantity': 2368, 'lemon': 2369, 'raspberry': 2370, 'cocktail': 2371, 'imagined': 2372, 'decor': 2373, 'crepe': 2374, 'bits': 2375, 'gyros': 2376, 'missing': 2377, 'feeling': 2378, \"joey's\": 2379, 'voted': 2380, 'valley': 2381, 'readers': 2382, 'magazine': 2383, 'fridays': 2384, 'blows': 2385, 'disrespected': 2386, 'exceeding': 2387, 'dreamed': 2388, 'serivce': 2389, 'inviting': 2390, 'lived': 2391, '1979': 2392, 'foot': 2393, 'mixed': 2394, 'mushrooms': 2395, 'yukon': 2396, 'puree': 2397, 'corn': 2398, 'beateous': 2399, 'showed': 2400, 'climbing': 2401, 'friend': 2402, 'tartar': 2403, 'soggy': 2404, 'jamaican': 2405, 'mojitos': 2406, 'rich': 2407, 'accordingly': 2408, 'rinse': 2409, 'nude': 2410, 'bussell': 2411, 'sprouts': 2412, 'risotto': 2413, 'filet': 2414, 'pepper': 2415, 'hopefully': 2416, 'bodes': 2417, 'cook': 2418, 'wrapped': 2419, 'dates': 2420, 'unbelievable': 2421, 'otto': 2422, 'welcome': 2423, 'mains': 2424, 'uninspired': 2425, 'whenever': 2426, 'dealing': 2427, \"world's\": 2428, 'annoying': 2429, 'drunk': 2430, 'chef': 2431, 'cheeseburger': 2432, 'single': 2433, 'patty': 2434, 'uploaded': 2435, 'yeah': 2436, 'sporting': 2437, 'events': 2438, 'walls': 2439, \"tv's\": 2440, \"they'd\": 2441, 'descriptions': 2442, 'eel': 2443, 'mayo': 2444, 'sauces': 2445, 'hardest': 2446, 'honestly': 2447, \"m's\": 2448, 'supposed': 2449, 'rolled': 2450, 'eyes': 2451, 'providing': 2452, 'flavourful': 2453, 'building': 2454, 'freezing': 2455, 'reviewer': 2456, 'close': 2457, 'delights': 2458, 'ayce': 2459, 'lighting': 2460, 'mood': 2461, 'based': 2462, 'sub': 2463, 'gratitude': 2464, \"owner's\": 2465, 'privileged': 2466, 'parents': 2467, 'similar': 2468, 'silently': 2469, 'peanut': 2470, \"would've\": 2471, 'godfathers': 2472, 'tough': 2473, 'sticks': 2474, 'recall': 2475, 'tap': 2476, 'exquisite': 2477, 'thus': 2478, 'visited': 2479, 'twice': 2480, 'proclaimed': 2481, 'wildly': 2482, 'veggitarian': 2483, 'platter': 2484, 'madison': 2485, 'ironman': 2486, 'chefs': 2487, 'dedicated': 2488, 'boba': 2489, 'spots': 2490, 'jenni': 2491, 'goat': 2492, 'taco': 2493, 'skimp': 2494, 'mac': 2495, 'stinks': 2496, 'salads': 2497, 'burned': 2498, 'saganaki': 2499, 'disagree': 2500, 'fellow': 2501, 'yelpers': 2502, 'neighborhood': 2503, 'soooo': 2504, 'prepared': 2505, 'writing': 2506, 'noodles': 2507, 'chip': 2508, 'count': 2509, 'box': 2510, 'boring': 2511, 'greedy': 2512, 'corporation': 2513, 'dime': 2514, 'atrocious': 2515, 'summer': 2516, 'charming': 2517, 'outdoor': 2518, 'delightful': 2519, 'toasted': 2520, 'english': 2521, 'muffin': 2522, 'untoasted': 2523, 'bus': 2524, 'figured': 2525, 'publicly': 2526, 'loudly': 2527, 'bbq': 2528, 'lighter': 2529, 'fare': 2530, 'public': 2531, 'ways': 2532, 'downside': 2533, 'shawarrrrrrma': 2534, 'eyed': 2535, 'peas': 2536, 'unreal': 2537, 'serve': 2538, 'vinaigrette': 2539, '00': 2540, 'bites': 2541, 'honor': 2542, 'hut': 2543, 'coupons': 2544, 'unbelievably': 2545, 'covers': 2546, 'replenished': 2547, 'plain': 2548, 'yucky': 2549, '17': 2550, 'delicioso': 2551, 'spaghetti': 2552, 'vegetables': 2553, 'tucson': 2554, 'chipotle': 2555, 'succulent': 2556, 'baseball': 2557, 'brick': 2558, 'oven': 2559, 'app': 2560, 'equally': 2561, 'genuinely': 2562, 'enthusiastic': 2563, 'treat': 2564, 'sadly': 2565, 'gordon': 2566, \"ramsey's\": 2567, 'shall': 2568, 'sharply': 2569, 'evening': 2570, 'bathroom': 2571, 'door': 2572, 'offered': 2573, 'handling': 2574, 'rowdy': 2575, 'despicable': 2576, 'soup': 2577, 'lukewarm': 2578, 'craving': 2579, 'stomach': 2580, 'ache': 2581, 'ball': 2582, 'space': 2583, 'elegantly': 2584, 'customize': 2585, 'usual': 2586, 'eggplant': 2587, 'bean': 2588, 'beans': 2589, 'outta': 2590, 'inconsiderate': 2591, 'hi': 2592, 'dinners': 2593, 'outshining': 2594, 'halibut': 2595, 'starving': 2596, '90': 2597, 'disgrace': 2598, 'def': 2599, 'ethic': 2600, 'andddd': 2601, 'past': 2602, 'located': 2603, 'crystals': 2604, 'shopping': 2605, 'mall': 2606, 'aria': 2607, 'summarize': 2608, 'nay': 2609, 'transcendant': 2610, 'brings': 2611, 'pneumatic': 2612, 'condiment': 2613, 'dispenser': 2614, 'ians': 2615, 'kiddos': 2616, 'perfection': 2617, 'impeccable': 2618, 'bouchon': 2619, 'accountant': 2620, 'screwed': 2621, 'reminds': 2622, 'pop': 2623, 'shops': 2624, 'san': 2625, 'francisco': 2626, 'buldogis': 2627, 'gourmet': 2628, 'frustrated': 2629, 'petty': 2630, 'iced': 2631, 'hungry': 2632, 'teeth': 2633, 'sore': 2634, 'become': 2635, 'professional': 2636, 'companions': 2637, 'ground': 2638, 'smeared': 2639, 'tracked': 2640, 'pile': 2641, 'bird': 2642, 'poop': 2643, 'furthermore': 2644, 'operation': 2645, \"we've\": 2646, 'expert': 2647, 'connisseur': 2648, 'topic': 2649, 'jerk': 2650, 'strike': 2651, 'wants': 2652, 'rushed': 2653, 'nicest': 2654, 'owners': 2655, 'across': 2656, 'biscuits': 2657, 'appetizer': 2658, 'absolutley': 2659, '5lb': 2660, 'cow': 2661, '4ths': 2662, 'gristle': 2663, 'fat': 2664, 'steiners': 2665, 'dollars': 2666, 'fs': 2667, 'pears': 2668, 'almonds': 2669, 'spicier': 2670, 'prefer': 2671, 'ribeye': 2672, 'mesquite': 2673, 'gooodd': 2674, 'connoisseur': 2675, 'difference': 2676, 'contained': 2677, 'mouthful': 2678, 'enjoyable': 2679, 'relaxed': 2680, 'venue': 2681, 'couples': 2682, 'groups': 2683, 'nargile': 2684, 'tater': 2685, 'tots': 2686, 'southwest': 2687, 'paid': 2688, 'vanilla': 2689, 'smooth': 2690, 'profiterole': 2691, 'choux': 2692, 'pastry': 2693, 'az': 2694, \"carly's\": 2695, '35': 2696, 'forgetting': 2697, 'margaritas': 2698, 'ventilation': 2699, 'upgrading': 2700, 'letdown': 2701, 'camelback': 2702, 'flower': 2703, 'shop': 2704, 'cartel': 2705, 'trimmed': 2706, '70': 2707, 'claimed': 2708, 'handled': 2709, 'beautifully': 2710, 'bill': 2711, 'bring': 2712, 'jewel': 2713, 'las': 2714, 'limited': 2715, 'boiled': 2716, 'toro': 2717, 'tartare': 2718, 'cavier': 2719, 'extraordinary': 2720, 'thinly': 2721, 'sliced': 2722, 'wagyu': 2723, 'truffle': 2724, 'attached': 2725, 'gas': 2726, 'sign': 2727, 'decide': 2728, 'worse': 2729, 'humiliated': 2730, 'worker': 2731, 'name': 2732, 'callings': 2733, 'conclusion': 2734, 'filling': 2735, 'meals': 2736, 'daily': 2737, 'specials': 2738, 'tragedy': 2739, 'struck': 2740, 'pancake': 2741, 'crawfish': 2742, 'monster': 2743, \"mom's\": 2744, 'multi': 2745, 'grain': 2746, 'pumpkin': 2747, 'pecan': 2748, 'fluffy': 2749, 'airline': 2750, 'noca': 2751, 'gyro': 2752, 'lettuce': 2753, 'thoroughly': 2754, 'pastas': 2755, 'cheesecurds': 2756, 'typical': 2757, 'glance': 2758, 'lovely': 2759, 'finger': 2760, 'beauty': 2761, 'gone': 2762, 'greasy': 2763, 'unhealthy': 2764, 'similarly': 2765, 'man': 2766, 'apology': 2767, 'tiramisu': 2768, 'cannoli': 2769, 'sun': 2770, 'meats': 2771, 'choose': 2772, 'frenchman': 2773, 'martini': 2774, 'opinion': 2775, 'entrees': 2776, 'gc': 2777, 'sample': 2778, 'thirty': 2779, 'vacant': 2780, 'yellowtail': 2781, 'carpaccio': 2782, 'strangers': 2783, 'hello': 2784, 'boyfriend': 2785, 'donut': 2786, 'saving': 2787, 'maybe': 2788, 'disgraceful': 2789, 'suffers': 2790, 'tapas': 2791, 'vinegrette': 2792, 'baby': 2793, 'greens': 2794, 'hearts': 2795, 'hankering': 2796, 'forth': 2797, 'helped': 2798, 'consider': 2799, 'theft': 2800, 'eew': 2801, 'complete': 2802, 'overhaul': 2803, 'witnessed': 2804, 'guests': 2805, 'regularly': 2806, 'swung': 2807, 'deeply': 2808, 'efficient': 2809, 'fan': 2810, 'sucker': 2811, 'dry': 2812, 'olives': 2813, 'perpared': 2814, 'presentation': 2815, 'giant': 2816, 'slices': 2817, 'dusted': 2818, 'powdered': 2819, 'sugar': 2820, 'fo': 2821, 'accomodate': 2822, 'vegan': 2823, 'veggie': 2824, 'crumby': 2825, 'pale': 2826, 'croutons': 2827, \"it'll\": 2828, 'trips': 2829, 'crema': 2830, 'café': 2831, 'expanded': 2832, 'miss': 2833, 'philadelphia': 2834}\n"
          ],
          "name": "stdout"
        }
      ]
    },
    {
      "cell_type": "code",
      "metadata": {
        "id": "SU4RazD_A855",
        "colab_type": "code",
        "colab": {}
      },
      "source": [
        "reverse_word_index = dict([(value, key) for (key, value) in word_index.items()])\n"
      ],
      "execution_count": null,
      "outputs": []
    },
    {
      "cell_type": "code",
      "metadata": {
        "id": "AE4WYx3FBGwY",
        "colab_type": "code",
        "colab": {
          "base_uri": "https://localhost:8080/",
          "height": 1000
        },
        "outputId": "f960f158-73f1-4608-cb05-cb08be3dc9b5"
      },
      "source": [
        "reverse_word_index"
      ],
      "execution_count": null,
      "outputs": [
        {
          "output_type": "execute_result",
          "data": {
            "text/plain": [
              "{1: '<OOV>',\n",
              " 2: 'the',\n",
              " 3: 'and',\n",
              " 4: 'i',\n",
              " 5: 'it',\n",
              " 6: 'a',\n",
              " 7: 'is',\n",
              " 8: 'to',\n",
              " 9: 'this',\n",
              " 10: 'was',\n",
              " 11: 'of',\n",
              " 12: 'my',\n",
              " 13: 'for',\n",
              " 14: 'not',\n",
              " 15: 'phone',\n",
              " 16: 'in',\n",
              " 17: 'very',\n",
              " 18: 'with',\n",
              " 19: 'great',\n",
              " 20: 'good',\n",
              " 21: 'on',\n",
              " 22: 'that',\n",
              " 23: 'have',\n",
              " 24: 'you',\n",
              " 25: 'had',\n",
              " 26: 'so',\n",
              " 27: 'but',\n",
              " 28: 'are',\n",
              " 29: 'food',\n",
              " 30: 'service',\n",
              " 31: 'be',\n",
              " 32: 'as',\n",
              " 33: 'place',\n",
              " 34: 'all',\n",
              " 35: 'like',\n",
              " 36: 'quality',\n",
              " 37: 'time',\n",
              " 38: 'product',\n",
              " 39: 'one',\n",
              " 40: 'at',\n",
              " 41: 'we',\n",
              " 42: 'well',\n",
              " 43: 'they',\n",
              " 44: 'would',\n",
              " 45: 'back',\n",
              " 46: 'if',\n",
              " 47: 'headset',\n",
              " 48: 'works',\n",
              " 49: 'battery',\n",
              " 50: 'really',\n",
              " 51: \"don't\",\n",
              " 52: 'sound',\n",
              " 53: 'your',\n",
              " 54: 'use',\n",
              " 55: 'best',\n",
              " 56: 'up',\n",
              " 57: 'from',\n",
              " 58: 'has',\n",
              " 59: 'just',\n",
              " 60: 'an',\n",
              " 61: \"i've\",\n",
              " 62: 'will',\n",
              " 63: 'no',\n",
              " 64: 'were',\n",
              " 65: 'only',\n",
              " 66: 'also',\n",
              " 67: 'me',\n",
              " 68: 'there',\n",
              " 69: 'ever',\n",
              " 70: 'than',\n",
              " 71: \"it's\",\n",
              " 72: 'out',\n",
              " 73: 'nice',\n",
              " 74: 'ear',\n",
              " 75: 'go',\n",
              " 76: 'excellent',\n",
              " 77: 'when',\n",
              " 78: 'first',\n",
              " 79: 'work',\n",
              " 80: 'recommend',\n",
              " 81: '2',\n",
              " 82: 'here',\n",
              " 83: 'after',\n",
              " 84: \"i'm\",\n",
              " 85: 'or',\n",
              " 86: 'never',\n",
              " 87: 'too',\n",
              " 88: 'love',\n",
              " 89: 'price',\n",
              " 90: 'case',\n",
              " 91: 'get',\n",
              " 92: 'can',\n",
              " 93: 'been',\n",
              " 94: 'more',\n",
              " 95: 'what',\n",
              " 96: 'any',\n",
              " 97: 'could',\n",
              " 98: 'again',\n",
              " 99: 'even',\n",
              " 100: 'because',\n",
              " 101: 'better',\n",
              " 102: 'did',\n",
              " 103: 'does',\n",
              " 104: 'about',\n",
              " 105: 'do',\n",
              " 106: 'made',\n",
              " 107: 'which',\n",
              " 108: 'our',\n",
              " 109: 'by',\n",
              " 110: 'now',\n",
              " 111: 'their',\n",
              " 112: 'bad',\n",
              " 113: 'other',\n",
              " 114: 'am',\n",
              " 115: 'worst',\n",
              " 116: 'them',\n",
              " 117: 'much',\n",
              " 118: 'got',\n",
              " 119: 'money',\n",
              " 120: 'new',\n",
              " 121: 'disappointed',\n",
              " 122: 'enough',\n",
              " 123: 'these',\n",
              " 124: 'delicious',\n",
              " 125: 'then',\n",
              " 126: 'think',\n",
              " 127: 'still',\n",
              " 128: 'happy',\n",
              " 129: 'off',\n",
              " 130: 'minutes',\n",
              " 131: 'right',\n",
              " 132: 'car',\n",
              " 133: 'pretty',\n",
              " 134: 'item',\n",
              " 135: 'worked',\n",
              " 136: 'friendly',\n",
              " 137: 'charger',\n",
              " 138: 'buy',\n",
              " 139: 'while',\n",
              " 140: 'vegas',\n",
              " 141: 'waste',\n",
              " 142: 'comfortable',\n",
              " 143: 'far',\n",
              " 144: 'poor',\n",
              " 145: 'bluetooth',\n",
              " 146: 'easy',\n",
              " 147: 'some',\n",
              " 148: 'he',\n",
              " 149: 'two',\n",
              " 150: 'bought',\n",
              " 151: 'everything',\n",
              " 152: 'few',\n",
              " 153: 'definitely',\n",
              " 154: 'reception',\n",
              " 155: 'used',\n",
              " 156: 'restaurant',\n",
              " 157: 'going',\n",
              " 158: 'how',\n",
              " 159: 'went',\n",
              " 160: 'people',\n",
              " 161: \"doesn't\",\n",
              " 162: 'fine',\n",
              " 163: 'thing',\n",
              " 164: '1',\n",
              " 165: 'its',\n",
              " 166: 'being',\n",
              " 167: \"didn't\",\n",
              " 168: 'make',\n",
              " 169: 'piece',\n",
              " 170: 'over',\n",
              " 171: 'came',\n",
              " 172: 'always',\n",
              " 173: 'way',\n",
              " 174: 'say',\n",
              " 175: 'long',\n",
              " 176: 'charge',\n",
              " 177: 'little',\n",
              " 178: 'life',\n",
              " 179: 'purchase',\n",
              " 180: 'down',\n",
              " 181: 'cell',\n",
              " 182: 'terrible',\n",
              " 183: 'times',\n",
              " 184: 'take',\n",
              " 185: 'amazing',\n",
              " 186: '5',\n",
              " 187: 'problem',\n",
              " 188: '3',\n",
              " 189: 'camera',\n",
              " 190: 'want',\n",
              " 191: 'calls',\n",
              " 192: 'device',\n",
              " 193: 'know',\n",
              " 194: 'same',\n",
              " 195: 'another',\n",
              " 196: 'come',\n",
              " 197: 'us',\n",
              " 198: 'problems',\n",
              " 199: 'volume',\n",
              " 200: 'into',\n",
              " 201: 'last',\n",
              " 202: 'hear',\n",
              " 203: 'clear',\n",
              " 204: 'lot',\n",
              " 205: 'working',\n",
              " 206: 'found',\n",
              " 207: 'using',\n",
              " 208: 'motorola',\n",
              " 209: 'fit',\n",
              " 210: 'small',\n",
              " 211: 'fantastic',\n",
              " 212: 'every',\n",
              " 213: 'before',\n",
              " 214: 'horrible',\n",
              " 215: 'worth',\n",
              " 216: 'many',\n",
              " 217: 'quite',\n",
              " 218: 'plug',\n",
              " 219: 'impressed',\n",
              " 220: 'design',\n",
              " 221: 'highly',\n",
              " 222: 'makes',\n",
              " 223: 'years',\n",
              " 224: 'sure',\n",
              " 225: 'order',\n",
              " 226: 'both',\n",
              " 227: \"couldn't\",\n",
              " 228: 'fits',\n",
              " 229: 'look',\n",
              " 230: 'experience',\n",
              " 231: 'ordered',\n",
              " 232: 'customer',\n",
              " 233: 'try',\n",
              " 234: 'nothing',\n",
              " 235: \"can't\",\n",
              " 236: 'taste',\n",
              " 237: 'staff',\n",
              " 238: 'several',\n",
              " 239: 'loved',\n",
              " 240: 'without',\n",
              " 241: 'months',\n",
              " 242: 'left',\n",
              " 243: 'phones',\n",
              " 244: 'real',\n",
              " 245: 'since',\n",
              " 246: 'looks',\n",
              " 247: 'cool',\n",
              " 248: 'tried',\n",
              " 249: 'call',\n",
              " 250: 'around',\n",
              " 251: 'screen',\n",
              " 252: 'cheap',\n",
              " 253: 'side',\n",
              " 254: 'where',\n",
              " 255: 'overall',\n",
              " 256: \"i'd\",\n",
              " 257: 'year',\n",
              " 258: 'stars',\n",
              " 259: 'however',\n",
              " 260: 'deal',\n",
              " 261: 'give',\n",
              " 262: \"wasn't\",\n",
              " 263: \"won't\",\n",
              " 264: 'fresh',\n",
              " 265: 'salad',\n",
              " 266: 'steak',\n",
              " 267: 'waited',\n",
              " 268: 'days',\n",
              " 269: 'she',\n",
              " 270: 'talk',\n",
              " 271: 'find',\n",
              " 272: 'wear',\n",
              " 273: 'kind',\n",
              " 274: 'perfectly',\n",
              " 275: '10',\n",
              " 276: 'night',\n",
              " 277: 'company',\n",
              " 278: 'either',\n",
              " 279: 'old',\n",
              " 280: 'low',\n",
              " 281: 'amazon',\n",
              " 282: 'hard',\n",
              " 283: 'said',\n",
              " 284: 'day',\n",
              " 285: 'next',\n",
              " 286: 'menu',\n",
              " 287: 'burger',\n",
              " 288: 'pizza',\n",
              " 289: 'who',\n",
              " 290: 'absolutely',\n",
              " 291: 'most',\n",
              " 292: 'need',\n",
              " 293: 'priced',\n",
              " 294: 'verizon',\n",
              " 295: 'dropped',\n",
              " 296: 'buttons',\n",
              " 297: 'seriously',\n",
              " 298: 'big',\n",
              " 299: 'broke',\n",
              " 300: 'black',\n",
              " 301: 'light',\n",
              " 302: 'completely',\n",
              " 303: 'jabra',\n",
              " 304: 'voice',\n",
              " 305: 'area',\n",
              " 306: 'slow',\n",
              " 307: 'probably',\n",
              " 308: 'return',\n",
              " 309: 'junk',\n",
              " 310: 'looking',\n",
              " 311: \"i'll\",\n",
              " 312: 'unit',\n",
              " 313: 'away',\n",
              " 314: 'anyone',\n",
              " 315: 'took',\n",
              " 316: 'none',\n",
              " 317: 'tasty',\n",
              " 318: 'selection',\n",
              " 319: 'eat',\n",
              " 320: 'breakfast',\n",
              " 321: 'flavor',\n",
              " 322: 'must',\n",
              " 323: 'everyone',\n",
              " 324: 'helpful',\n",
              " 325: 'kept',\n",
              " 326: 'picture',\n",
              " 327: 'audio',\n",
              " 328: 'loud',\n",
              " 329: 'end',\n",
              " 330: 'different',\n",
              " 331: 'feels',\n",
              " 332: 'headsets',\n",
              " 333: 'gets',\n",
              " 334: 'home',\n",
              " 335: 'arrived',\n",
              " 336: 'quickly',\n",
              " 337: 'received',\n",
              " 338: 'pleased',\n",
              " 339: 'job',\n",
              " 340: 'getting',\n",
              " 341: 'software',\n",
              " 342: 'hours',\n",
              " 343: 'internet',\n",
              " 344: 'less',\n",
              " 345: 'stay',\n",
              " 346: 'extremely',\n",
              " 347: 'useless',\n",
              " 348: 'felt',\n",
              " 349: 'hands',\n",
              " 350: 'family',\n",
              " 351: 'nokia',\n",
              " 352: 'sucks',\n",
              " 353: 'couple',\n",
              " 354: 'disappointing',\n",
              " 355: 'bland',\n",
              " 356: 'those',\n",
              " 357: 'wrong',\n",
              " 358: 'things',\n",
              " 359: 'feel',\n",
              " 360: 'coming',\n",
              " 361: 'waitress',\n",
              " 362: 'sushi',\n",
              " 363: 'unless',\n",
              " 364: 'value',\n",
              " 365: 'each',\n",
              " 366: 'original',\n",
              " 367: 'though',\n",
              " 368: 'bars',\n",
              " 369: 'three',\n",
              " 370: 'simple',\n",
              " 371: 'ears',\n",
              " 372: 'hate',\n",
              " 373: 'turn',\n",
              " 374: 'headphones',\n",
              " 375: 'week',\n",
              " 376: 'later',\n",
              " 377: 'within',\n",
              " 378: 'expect',\n",
              " 379: 'free',\n",
              " 380: 'huge',\n",
              " 381: 'high',\n",
              " 382: 'fast',\n",
              " 383: 'full',\n",
              " 384: 'may',\n",
              " 385: 'signal',\n",
              " 386: 'avoid',\n",
              " 387: 'glad',\n",
              " 388: 'put',\n",
              " 389: 'awesome',\n",
              " 390: 'incredible',\n",
              " 391: 'check',\n",
              " 392: 'color',\n",
              " 393: 'part',\n",
              " 394: 'expected',\n",
              " 395: 'tell',\n",
              " 396: 'authentic',\n",
              " 397: 'disappointment',\n",
              " 398: 'cable',\n",
              " 399: 'care',\n",
              " 400: 'ago',\n",
              " 401: 'having',\n",
              " 402: 'crap',\n",
              " 403: 'especially',\n",
              " 404: 'rather',\n",
              " 405: 'difficult',\n",
              " 406: 'cannot',\n",
              " 407: 'zero',\n",
              " 408: 'samsung',\n",
              " 409: 'extra',\n",
              " 410: 'soon',\n",
              " 411: 'inside',\n",
              " 412: 'prices',\n",
              " 413: 'cooked',\n",
              " 414: 'wonderful',\n",
              " 415: 'sauce',\n",
              " 416: 'dish',\n",
              " 417: 'buffet',\n",
              " 418: 'eating',\n",
              " 419: 'dining',\n",
              " 420: 'atmosphere',\n",
              " 421: 'clean',\n",
              " 422: 'line',\n",
              " 423: 'decent',\n",
              " 424: 'razr',\n",
              " 425: 'started',\n",
              " 426: 'yet',\n",
              " 427: 'charging',\n",
              " 428: 'mobile',\n",
              " 429: 'hold',\n",
              " 430: 'least',\n",
              " 431: 'seems',\n",
              " 432: 'should',\n",
              " 433: 'actually',\n",
              " 434: 'sturdy',\n",
              " 435: 'large',\n",
              " 436: 'front',\n",
              " 437: 'beautiful',\n",
              " 438: 'bargain',\n",
              " 439: 'super',\n",
              " 440: 'shipping',\n",
              " 441: 'between',\n",
              " 442: 'pictures',\n",
              " 443: 'wife',\n",
              " 444: 'strong',\n",
              " 445: 'done',\n",
              " 446: 'set',\n",
              " 447: 'weeks',\n",
              " 448: 'during',\n",
              " 449: 'charm',\n",
              " 450: 'hit',\n",
              " 451: 'thought',\n",
              " 452: 'reasonably',\n",
              " 453: 'range',\n",
              " 454: 'bit',\n",
              " 455: 'mistake',\n",
              " 456: 'important',\n",
              " 457: 'feature',\n",
              " 458: 'buying',\n",
              " 459: 'lacking',\n",
              " 460: 'anything',\n",
              " 461: 'belt',\n",
              " 462: 'data',\n",
              " 463: 'sides',\n",
              " 464: 'others',\n",
              " 465: 'trying',\n",
              " 466: 'today',\n",
              " 467: 'satisfied',\n",
              " 468: 'keep',\n",
              " 469: 'plastic',\n",
              " 470: 'oh',\n",
              " 471: 'clarity',\n",
              " 472: '20',\n",
              " 473: 'unfortunately',\n",
              " 474: 'given',\n",
              " 475: 'star',\n",
              " 476: 'replace',\n",
              " 477: 'quick',\n",
              " 478: 'plus',\n",
              " 479: 'cases',\n",
              " 480: 'pay',\n",
              " 481: 'connection',\n",
              " 482: 'told',\n",
              " 483: 'hour',\n",
              " 484: '4',\n",
              " 485: 'management',\n",
              " 486: 'easily',\n",
              " 487: 'see',\n",
              " 488: 'wow',\n",
              " 489: 'pho',\n",
              " 490: 'fries',\n",
              " 491: 'beer',\n",
              " 492: 'waiter',\n",
              " 493: 'table',\n",
              " 494: 'tender',\n",
              " 495: 'server',\n",
              " 496: 'potato',\n",
              " 497: 'lunch',\n",
              " 498: 'chicken',\n",
              " 499: 'town',\n",
              " 500: 'spicy',\n",
              " 501: 'served',\n",
              " 502: 'eaten',\n",
              " 503: 'spot',\n",
              " 504: 'ambiance',\n",
              " 505: 'mic',\n",
              " 506: 'sending',\n",
              " 507: 'clip',\n",
              " 508: 'blue',\n",
              " 509: 'instructions',\n",
              " 510: 'provided',\n",
              " 511: 'included',\n",
              " 512: 'recommended',\n",
              " 513: 'performance',\n",
              " 514: 'keyboard',\n",
              " 515: 'instead',\n",
              " 516: 'reasonable',\n",
              " 517: 'support',\n",
              " 518: 'perhaps',\n",
              " 519: 'party',\n",
              " 520: 'player',\n",
              " 521: 'person',\n",
              " 522: 'station',\n",
              " 523: 'purchased',\n",
              " 524: 'holds',\n",
              " 525: 'music',\n",
              " 526: 'dont',\n",
              " 527: 'decision',\n",
              " 528: 'white',\n",
              " 529: 'although',\n",
              " 530: 'such',\n",
              " 531: 'ask',\n",
              " 532: 'leather',\n",
              " 533: 'comfortably',\n",
              " 534: 'basically',\n",
              " 535: 'almost',\n",
              " 536: 'stuff',\n",
              " 537: 'house',\n",
              " 538: 'literally',\n",
              " 539: 'goes',\n",
              " 540: 'tool',\n",
              " 541: 'obviously',\n",
              " 542: 'once',\n",
              " 543: 'simply',\n",
              " 544: 'lasts',\n",
              " 545: 'able',\n",
              " 546: 'lightweight',\n",
              " 547: 'earpiece',\n",
              " 548: 'unreliable',\n",
              " 549: 'gave',\n",
              " 550: 'seller',\n",
              " 551: 'plantronics',\n",
              " 552: 'charged',\n",
              " 553: 'weak',\n",
              " 554: 'lg',\n",
              " 555: 'cant',\n",
              " 556: 'easier',\n",
              " 557: 'hot',\n",
              " 558: 'face',\n",
              " 559: 'happier',\n",
              " 560: 'finally',\n",
              " 561: 'wanted',\n",
              " 562: 'waiting',\n",
              " 563: 'comes',\n",
              " 564: 'might',\n",
              " 565: 'expensive',\n",
              " 566: 'under',\n",
              " 567: 'liked',\n",
              " 568: 'palm',\n",
              " 569: 'store',\n",
              " 570: 'touch',\n",
              " 571: 'above',\n",
              " 572: 'own',\n",
              " 573: 'cingular',\n",
              " 574: 't',\n",
              " 575: 'enjoy',\n",
              " 576: 'please',\n",
              " 577: 'ringtones',\n",
              " 578: 'stop',\n",
              " 579: 'needed',\n",
              " 580: 'treo',\n",
              " 581: 'usb',\n",
              " 582: 'point',\n",
              " 583: 'red',\n",
              " 584: 'reviews',\n",
              " 585: 'awful',\n",
              " 586: 'something',\n",
              " 587: 'bar',\n",
              " 588: 'third',\n",
              " 589: 'wall',\n",
              " 590: 'hand',\n",
              " 591: 'break',\n",
              " 592: 'perfect',\n",
              " 593: 'until',\n",
              " 594: 'totally',\n",
              " 595: 'fact',\n",
              " 596: 'places',\n",
              " 597: 'tables',\n",
              " 598: 'shrimp',\n",
              " 599: 'servers',\n",
              " 600: 'pasta',\n",
              " 601: 'wait',\n",
              " 602: 'meat',\n",
              " 603: 'dishes',\n",
              " 604: 'thai',\n",
              " 605: 'steaks',\n",
              " 606: 'rude',\n",
              " 607: 'bacon',\n",
              " 608: 'wings',\n",
              " 609: 'folks',\n",
              " 610: 'special',\n",
              " 611: '0',\n",
              " 612: 'location',\n",
              " 613: 'jawbone',\n",
              " 614: 'conversations',\n",
              " 615: 'contacts',\n",
              " 616: 'fun',\n",
              " 617: 'static',\n",
              " 618: 'website',\n",
              " 619: 'pair',\n",
              " 620: 'below',\n",
              " 621: \"that's\",\n",
              " 622: 'pocket',\n",
              " 623: 'pc',\n",
              " 624: '7',\n",
              " 625: 'worthless',\n",
              " 626: 'thats',\n",
              " 627: 'features',\n",
              " 628: 'mind',\n",
              " 629: 'returned',\n",
              " 630: 'protection',\n",
              " 631: 'seconds',\n",
              " 632: '510',\n",
              " 633: 'complaints',\n",
              " 634: 'particular',\n",
              " 635: \"phone's\",\n",
              " 636: 'cover',\n",
              " 637: 'let',\n",
              " 638: 'trouble',\n",
              " 639: 'choice',\n",
              " 640: 'longer',\n",
              " 641: 'packaged',\n",
              " 642: 'loves',\n",
              " 643: 'construction',\n",
              " 644: 'boy',\n",
              " 645: 'ease',\n",
              " 646: 'play',\n",
              " 647: 'plan',\n",
              " 648: 'match',\n",
              " 649: 'fall',\n",
              " 650: 'display',\n",
              " 651: 'rocks',\n",
              " 652: 'number',\n",
              " 653: 'setup',\n",
              " 654: 'earpieces',\n",
              " 655: 'bt',\n",
              " 656: 'earbud',\n",
              " 657: 'failed',\n",
              " 658: 'coverage',\n",
              " 659: 'experienced',\n",
              " 660: 'drops',\n",
              " 661: 'forever',\n",
              " 662: 'description',\n",
              " 663: 'hoping',\n",
              " 664: \"wouldn't\",\n",
              " 665: 'sharp',\n",
              " 666: 'wasting',\n",
              " 667: 'chargers',\n",
              " 668: 'options',\n",
              " 669: 'needs',\n",
              " 670: 'handsfree',\n",
              " 671: 'network',\n",
              " 672: 'lost',\n",
              " 673: 'replacement',\n",
              " 674: 'thin',\n",
              " 675: 'nearly',\n",
              " 676: 'form',\n",
              " 677: 'anyway',\n",
              " 678: 'room',\n",
              " 679: \"there's\",\n",
              " 680: 'certainly',\n",
              " 681: 'mess',\n",
              " 682: 'hair',\n",
              " 683: 'sony',\n",
              " 684: 'favorite',\n",
              " 685: 'market',\n",
              " 686: 'comfort',\n",
              " 687: 'whatsoever',\n",
              " 688: '8',\n",
              " 689: 'drain',\n",
              " 690: 'whole',\n",
              " 691: 'poorly',\n",
              " 692: 'scratched',\n",
              " 693: 'someone',\n",
              " 694: 'microphone',\n",
              " 695: 'uncomfortable',\n",
              " 696: 'plugged',\n",
              " 697: 'driving',\n",
              " 698: 'immediately',\n",
              " 699: 'flip',\n",
              " 700: 'inexpensive',\n",
              " 701: 'wireless',\n",
              " 702: 'outside',\n",
              " 703: 'exactly',\n",
              " 704: \"you'd\",\n",
              " 705: 'stupid',\n",
              " 706: 'dead',\n",
              " 707: 'breaks',\n",
              " 708: 'note',\n",
              " 709: 'alone',\n",
              " 710: 'q',\n",
              " 711: 'size',\n",
              " 712: 'turned',\n",
              " 713: 'wearing',\n",
              " 714: 'sunglasses',\n",
              " 715: 'computer',\n",
              " 716: 'results',\n",
              " 717: 'im',\n",
              " 718: 'noise',\n",
              " 719: 'holster',\n",
              " 720: 'review',\n",
              " 721: 'ended',\n",
              " 722: 'refund',\n",
              " 723: 'drop',\n",
              " 724: 'sucked',\n",
              " 725: 'total',\n",
              " 726: 'friends',\n",
              " 727: \"isn't\",\n",
              " 728: 'joke',\n",
              " 729: 'walked',\n",
              " 730: 'through',\n",
              " 731: 'speaker',\n",
              " 732: 'sprint',\n",
              " 733: 'stopped',\n",
              " 734: 'guess',\n",
              " 735: 'tinny',\n",
              " 736: 'spring',\n",
              " 737: 'pairing',\n",
              " 738: 'ripped',\n",
              " 739: 'beat',\n",
              " 740: 'iphone',\n",
              " 741: 'despite',\n",
              " 742: 'power',\n",
              " 743: 'outlet',\n",
              " 744: 'etc',\n",
              " 745: 'elsewhere',\n",
              " 746: 'mediocre',\n",
              " 747: 'passed',\n",
              " 748: '100',\n",
              " 749: 'cut',\n",
              " 750: 'date',\n",
              " 751: 'bottom',\n",
              " 752: 'else',\n",
              " 753: 'boot',\n",
              " 754: 'thumbs',\n",
              " 755: 'checked',\n",
              " 756: 'send',\n",
              " 757: 'says',\n",
              " 758: 'top',\n",
              " 759: 'making',\n",
              " 760: 'beep',\n",
              " 761: 'word',\n",
              " 762: 'seen',\n",
              " 763: 'damn',\n",
              " 764: 'warm',\n",
              " 765: 'running',\n",
              " 766: 'salmon',\n",
              " 767: 'portions',\n",
              " 768: 'establishment',\n",
              " 769: 'sick',\n",
              " 770: 'attentive',\n",
              " 771: 'dessert',\n",
              " 772: 'sandwich',\n",
              " 773: 'greek',\n",
              " 774: 'dressing',\n",
              " 775: 'husband',\n",
              " 776: 'heart',\n",
              " 777: 'seafood',\n",
              " 778: 'tasteless',\n",
              " 779: 'second',\n",
              " 780: 'fish',\n",
              " 781: 'drinks',\n",
              " 782: 'rice',\n",
              " 783: '30',\n",
              " 784: 'sweet',\n",
              " 785: 'rolls',\n",
              " 786: \"you're\",\n",
              " 787: 'cafe',\n",
              " 788: 'meal',\n",
              " 789: 'trip',\n",
              " 790: 'leave',\n",
              " 791: 'pork',\n",
              " 792: 'delish',\n",
              " 793: 'cream',\n",
              " 794: 'empty',\n",
              " 795: 'itself',\n",
              " 796: 'considering',\n",
              " 797: 'seated',\n",
              " 798: 'phoenix',\n",
              " 799: 'treated',\n",
              " 800: 'sat',\n",
              " 801: 'ice',\n",
              " 802: 'interesting',\n",
              " 803: 'bread',\n",
              " 804: 'business',\n",
              " 805: 'cold',\n",
              " 806: 'possible',\n",
              " 807: 'outstanding',\n",
              " 808: 'pizzas',\n",
              " 809: 'enjoyed',\n",
              " 810: 'lasting',\n",
              " 811: '45',\n",
              " 812: 'wasted',\n",
              " 813: 'extended',\n",
              " 814: 'notice',\n",
              " 815: 'tooth',\n",
              " 816: 'advise',\n",
              " 817: 'fire',\n",
              " 818: 'run',\n",
              " 819: 'combination',\n",
              " 820: 'owned',\n",
              " 821: 'pull',\n",
              " 822: 'unusable',\n",
              " 823: 'book',\n",
              " 824: 'short',\n",
              " 825: 'regarding',\n",
              " 826: 'turns',\n",
              " 827: 'pda',\n",
              " 828: 'world',\n",
              " 829: '15',\n",
              " 830: 'essentially',\n",
              " 831: 'forget',\n",
              " 832: 'tech',\n",
              " 833: 'clearly',\n",
              " 834: 'mp3',\n",
              " 835: 'lock',\n",
              " 836: 'died',\n",
              " 837: 'glasses',\n",
              " 838: 'sometimes',\n",
              " 839: 'series',\n",
              " 840: 'quiet',\n",
              " 841: 'saying',\n",
              " 842: 'docking',\n",
              " 843: 'd807',\n",
              " 844: 'advertised',\n",
              " 845: 'handy',\n",
              " 846: '6',\n",
              " 847: 'cheaper',\n",
              " 848: 'costs',\n",
              " 849: 'buyer',\n",
              " 850: 'beware',\n",
              " 851: 'apparently',\n",
              " 852: 'pros',\n",
              " 853: 'flaw',\n",
              " 854: 'rated',\n",
              " 855: 'impressive',\n",
              " 856: 'expectations',\n",
              " 857: 'resolution',\n",
              " 858: 'slim',\n",
              " 859: 'sex',\n",
              " 860: 'toast',\n",
              " 861: 'sleek',\n",
              " 862: 'keypad',\n",
              " 863: 'unhappy',\n",
              " 864: 'winner',\n",
              " 865: 'careful',\n",
              " 866: 'logitech',\n",
              " 867: 'recognition',\n",
              " 868: 'tremendous',\n",
              " 869: 'takes',\n",
              " 870: 'stated',\n",
              " 871: 'blackberry',\n",
              " 872: 'sounds',\n",
              " 873: 'funny',\n",
              " 874: 'technology',\n",
              " 875: 'wired',\n",
              " 876: 'previous',\n",
              " 877: 's',\n",
              " 878: 'w810i',\n",
              " 879: 'superb',\n",
              " 880: 'maintain',\n",
              " 881: \"shouldn't\",\n",
              " 882: 'graphics',\n",
              " 883: 'button',\n",
              " 884: 'thank',\n",
              " 885: 'igo',\n",
              " 886: 'tips',\n",
              " 887: 'connected',\n",
              " 888: \"wife's\",\n",
              " 889: 'whether',\n",
              " 890: 'storage',\n",
              " 891: 'buzzing',\n",
              " 892: 'override',\n",
              " 893: 'functionality',\n",
              " 894: 'recently',\n",
              " 895: 'bucks',\n",
              " 896: 'ring',\n",
              " 897: 'dropping',\n",
              " 898: 'incredibly',\n",
              " 899: 'strange',\n",
              " 900: 'bother',\n",
              " 901: 'living',\n",
              " 902: 'issues',\n",
              " 903: 'embarrassing',\n",
              " 904: 'consumer',\n",
              " 905: 'background',\n",
              " 906: 'usually',\n",
              " 907: 'excited',\n",
              " 908: 'cute',\n",
              " 909: 'additional',\n",
              " 910: 'gels',\n",
              " 911: 'purpose',\n",
              " 912: 'secure',\n",
              " 913: 'appears',\n",
              " 914: 'rubber',\n",
              " 915: 'smell',\n",
              " 916: 'caused',\n",
              " 917: 'flimsy',\n",
              " 918: 'month',\n",
              " 919: 'flawlessly',\n",
              " 920: 'fry',\n",
              " 921: 'adorable',\n",
              " 922: 'strip',\n",
              " 923: 'wise',\n",
              " 924: 'gotten',\n",
              " 925: 'dialing',\n",
              " 926: 'neither',\n",
              " 927: 'games',\n",
              " 928: 'ipod',\n",
              " 929: 'recharge',\n",
              " 930: 'save',\n",
              " 931: 'along',\n",
              " 932: 'starts',\n",
              " 933: 'ringing',\n",
              " 934: 'reason',\n",
              " 935: 'auto',\n",
              " 936: 'push',\n",
              " 937: 'skype',\n",
              " 938: 'self',\n",
              " 939: 'help',\n",
              " 940: 'shipped',\n",
              " 941: 'prompt',\n",
              " 942: 'noticed',\n",
              " 943: 'att',\n",
              " 944: 'mention',\n",
              " 945: 'effect',\n",
              " 946: 'model',\n",
              " 947: 'warning',\n",
              " 948: 'wish',\n",
              " 949: 'dying',\n",
              " 950: 'install',\n",
              " 951: 'purchasing',\n",
              " 952: 'moto',\n",
              " 953: 'figure',\n",
              " 954: 'reading',\n",
              " 955: 'memory',\n",
              " 956: 'solid',\n",
              " 957: 'returning',\n",
              " 958: 'changing',\n",
              " 959: 'update',\n",
              " 960: 'cumbersome',\n",
              " 961: 'delivery',\n",
              " 962: 'switch',\n",
              " 963: 'worthwhile',\n",
              " 964: 'understand',\n",
              " 965: 'pricing',\n",
              " 966: 'batteries',\n",
              " 967: 'user',\n",
              " 968: 'ability',\n",
              " 969: 'receiving',\n",
              " 970: 'exchanged',\n",
              " 971: 'cellphone',\n",
              " 972: 'described',\n",
              " 973: 'nyc',\n",
              " 974: 'defective',\n",
              " 975: 'unacceptable',\n",
              " 976: 'catching',\n",
              " 977: 'amazed',\n",
              " 978: 'timeframe',\n",
              " 979: 'complaint',\n",
              " 980: 'standard',\n",
              " 981: 'accidentally',\n",
              " 982: 'listening',\n",
              " 983: 'kitchen',\n",
              " 984: 'conversation',\n",
              " 985: 'ample',\n",
              " 986: 'eargels',\n",
              " 987: 'seem',\n",
              " 988: 'missed',\n",
              " 989: 'numerous',\n",
              " 990: 'barely',\n",
              " 991: 'due',\n",
              " 992: 'forced',\n",
              " 993: 'menus',\n",
              " 994: 'holding',\n",
              " 995: 'broken',\n",
              " 996: 'effort',\n",
              " 997: 'course',\n",
              " 998: 'breaking',\n",
              " 999: '50',\n",
              " 1000: 'operate',\n",
              " ...}"
            ]
          },
          "metadata": {
            "tags": []
          },
          "execution_count": 91
        }
      ]
    },
    {
      "cell_type": "code",
      "metadata": {
        "id": "W12e9v2aBOTK",
        "colab_type": "code",
        "colab": {}
      },
      "source": [
        "# take the embedding layers\n",
        "e= model.layers[0]"
      ],
      "execution_count": null,
      "outputs": []
    },
    {
      "cell_type": "code",
      "metadata": {
        "id": "XJjVt6RZBXgi",
        "colab_type": "code",
        "colab": {
          "base_uri": "https://localhost:8080/",
          "height": 34
        },
        "outputId": "89d64b4e-5c93-42a8-8217-17b6b83ce9c8"
      },
      "source": [
        "e\n"
      ],
      "execution_count": null,
      "outputs": [
        {
          "output_type": "execute_result",
          "data": {
            "text/plain": [
              "<tensorflow.python.keras.layers.embeddings.Embedding at 0x7fe8a0010588>"
            ]
          },
          "metadata": {
            "tags": []
          },
          "execution_count": 95
        }
      ]
    },
    {
      "cell_type": "code",
      "metadata": {
        "id": "eZWuHY9XBb10",
        "colab_type": "code",
        "colab": {}
      },
      "source": [
        "weights = e.get_weights()[0]"
      ],
      "execution_count": null,
      "outputs": []
    },
    {
      "cell_type": "code",
      "metadata": {
        "id": "L1trmZmyBfHy",
        "colab_type": "code",
        "colab": {
          "base_uri": "https://localhost:8080/",
          "height": 34
        },
        "outputId": "2df18749-360e-4fd1-85dc-71daaf5679c4"
      },
      "source": [
        "weights.shape"
      ],
      "execution_count": null,
      "outputs": [
        {
          "output_type": "execute_result",
          "data": {
            "text/plain": [
              "(1000, 16)"
            ]
          },
          "metadata": {
            "tags": []
          },
          "execution_count": 100
        }
      ]
    },
    {
      "cell_type": "code",
      "metadata": {
        "id": "ViXgwBV4BhVh",
        "colab_type": "code",
        "colab": {}
      },
      "source": [
        "import io\n",
        "\n",
        "# let take vectos and metadata\n",
        "\n",
        "out_v = io.open('vecs.tsv','w',encoding='utf-8')\n",
        "out_m = io.open('meta.tsv','w',encoding='utf-8')"
      ],
      "execution_count": null,
      "outputs": []
    },
    {
      "cell_type": "code",
      "metadata": {
        "id": "p0sMkHbEBylv",
        "colab_type": "code",
        "colab": {}
      },
      "source": [
        "for word_num in range(1,vocab_size):\n",
        "    word = reverse_word_index[word_num]\n",
        "    embedding = weights[word_num]\n",
        "    out_m.write(word+'\\n')\n",
        "    out_v.write('\\t'.join([str(x) for x in embedding]) +'\\n')"
      ],
      "execution_count": null,
      "outputs": []
    },
    {
      "cell_type": "code",
      "metadata": {
        "id": "gvsD_hOXDhPs",
        "colab_type": "code",
        "colab": {}
      },
      "source": [
        "out_v.close()\n",
        "out_m.close()"
      ],
      "execution_count": null,
      "outputs": []
    },
    {
      "cell_type": "code",
      "metadata": {
        "id": "87mEDLQnDjmJ",
        "colab_type": "code",
        "colab": {}
      },
      "source": [
        "from google.colab import files"
      ],
      "execution_count": null,
      "outputs": []
    },
    {
      "cell_type": "code",
      "metadata": {
        "id": "pv3r2G16DphV",
        "colab_type": "code",
        "colab": {}
      },
      "source": [
        "files.download('meta.tsv')"
      ],
      "execution_count": null,
      "outputs": []
    },
    {
      "cell_type": "code",
      "metadata": {
        "id": "nkoJnSVpDsg1",
        "colab_type": "code",
        "colab": {}
      },
      "source": [
        "files.download('vecs.tsv')"
      ],
      "execution_count": null,
      "outputs": []
    },
    {
      "cell_type": "markdown",
      "metadata": {
        "id": "KHOHN2CGDvSH",
        "colab_type": "text"
      },
      "source": [
        "Upload the downloaded files into the website: http://projector.tensorflow.org/"
      ]
    },
    {
      "cell_type": "code",
      "metadata": {
        "id": "er7yqb0dD1A0",
        "colab_type": "code",
        "colab": {}
      },
      "source": [
        ""
      ],
      "execution_count": null,
      "outputs": []
    }
  ]
}