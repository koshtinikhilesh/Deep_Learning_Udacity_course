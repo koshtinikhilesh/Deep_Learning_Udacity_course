{
  "nbformat": 4,
  "nbformat_minor": 0,
  "metadata": {
    "colab": {
      "name": "Udacity_Fashion_Mnist",
      "provenance": [],
      "collapsed_sections": []
    },
    "kernelspec": {
      "name": "python3",
      "display_name": "Python 3"
    },
    "widgets": {
      "application/vnd.jupyter.widget-state+json": {
        "c08c23b3e8624232995635f27d05f2f2": {
          "model_module": "@jupyter-widgets/controls",
          "model_name": "HBoxModel",
          "state": {
            "_view_name": "HBoxView",
            "_dom_classes": [],
            "_model_name": "HBoxModel",
            "_view_module": "@jupyter-widgets/controls",
            "_model_module_version": "1.5.0",
            "_view_count": null,
            "_view_module_version": "1.5.0",
            "box_style": "",
            "layout": "IPY_MODEL_17e752e2ef784dada2b03a0c95dcd6ae",
            "_model_module": "@jupyter-widgets/controls",
            "children": [
              "IPY_MODEL_57b21656b5214722b3cc4cd89b41c2c5",
              "IPY_MODEL_77eeb1d71172461c8ab362146c7db797"
            ]
          }
        },
        "17e752e2ef784dada2b03a0c95dcd6ae": {
          "model_module": "@jupyter-widgets/base",
          "model_name": "LayoutModel",
          "state": {
            "_view_name": "LayoutView",
            "grid_template_rows": null,
            "right": null,
            "justify_content": null,
            "_view_module": "@jupyter-widgets/base",
            "overflow": null,
            "_model_module_version": "1.2.0",
            "_view_count": null,
            "flex_flow": null,
            "width": null,
            "min_width": null,
            "border": null,
            "align_items": null,
            "bottom": null,
            "_model_module": "@jupyter-widgets/base",
            "top": null,
            "grid_column": null,
            "overflow_y": null,
            "overflow_x": null,
            "grid_auto_flow": null,
            "grid_area": null,
            "grid_template_columns": null,
            "flex": null,
            "_model_name": "LayoutModel",
            "justify_items": null,
            "grid_row": null,
            "max_height": null,
            "align_content": null,
            "visibility": null,
            "align_self": null,
            "height": null,
            "min_height": null,
            "padding": null,
            "grid_auto_rows": null,
            "grid_gap": null,
            "max_width": null,
            "order": null,
            "_view_module_version": "1.2.0",
            "grid_template_areas": null,
            "object_position": null,
            "object_fit": null,
            "grid_auto_columns": null,
            "margin": null,
            "display": null,
            "left": null
          }
        },
        "57b21656b5214722b3cc4cd89b41c2c5": {
          "model_module": "@jupyter-widgets/controls",
          "model_name": "IntProgressModel",
          "state": {
            "_view_name": "ProgressView",
            "style": "IPY_MODEL_c2dd523a652d4563916308c1903f7962",
            "_dom_classes": [],
            "description": "Dl Completed...: 100%",
            "_model_name": "IntProgressModel",
            "bar_style": "success",
            "max": 1,
            "_view_module": "@jupyter-widgets/controls",
            "_model_module_version": "1.5.0",
            "value": 1,
            "_view_count": null,
            "_view_module_version": "1.5.0",
            "orientation": "horizontal",
            "min": 0,
            "description_tooltip": null,
            "_model_module": "@jupyter-widgets/controls",
            "layout": "IPY_MODEL_ee038dc31b9a45a4819f580fe3b107c2"
          }
        },
        "77eeb1d71172461c8ab362146c7db797": {
          "model_module": "@jupyter-widgets/controls",
          "model_name": "HTMLModel",
          "state": {
            "_view_name": "HTMLView",
            "style": "IPY_MODEL_2ab77a0fd77940b5bdd95404f3de706b",
            "_dom_classes": [],
            "description": "",
            "_model_name": "HTMLModel",
            "placeholder": "​",
            "_view_module": "@jupyter-widgets/controls",
            "_model_module_version": "1.5.0",
            "value": " 4/4 [00:05&lt;00:00,  1.26s/ url]",
            "_view_count": null,
            "_view_module_version": "1.5.0",
            "description_tooltip": null,
            "_model_module": "@jupyter-widgets/controls",
            "layout": "IPY_MODEL_092e70e35f53400b9c86e350a87b5970"
          }
        },
        "c2dd523a652d4563916308c1903f7962": {
          "model_module": "@jupyter-widgets/controls",
          "model_name": "ProgressStyleModel",
          "state": {
            "_view_name": "StyleView",
            "_model_name": "ProgressStyleModel",
            "description_width": "initial",
            "_view_module": "@jupyter-widgets/base",
            "_model_module_version": "1.5.0",
            "_view_count": null,
            "_view_module_version": "1.2.0",
            "bar_color": null,
            "_model_module": "@jupyter-widgets/controls"
          }
        },
        "ee038dc31b9a45a4819f580fe3b107c2": {
          "model_module": "@jupyter-widgets/base",
          "model_name": "LayoutModel",
          "state": {
            "_view_name": "LayoutView",
            "grid_template_rows": null,
            "right": null,
            "justify_content": null,
            "_view_module": "@jupyter-widgets/base",
            "overflow": null,
            "_model_module_version": "1.2.0",
            "_view_count": null,
            "flex_flow": null,
            "width": null,
            "min_width": null,
            "border": null,
            "align_items": null,
            "bottom": null,
            "_model_module": "@jupyter-widgets/base",
            "top": null,
            "grid_column": null,
            "overflow_y": null,
            "overflow_x": null,
            "grid_auto_flow": null,
            "grid_area": null,
            "grid_template_columns": null,
            "flex": null,
            "_model_name": "LayoutModel",
            "justify_items": null,
            "grid_row": null,
            "max_height": null,
            "align_content": null,
            "visibility": null,
            "align_self": null,
            "height": null,
            "min_height": null,
            "padding": null,
            "grid_auto_rows": null,
            "grid_gap": null,
            "max_width": null,
            "order": null,
            "_view_module_version": "1.2.0",
            "grid_template_areas": null,
            "object_position": null,
            "object_fit": null,
            "grid_auto_columns": null,
            "margin": null,
            "display": null,
            "left": null
          }
        },
        "2ab77a0fd77940b5bdd95404f3de706b": {
          "model_module": "@jupyter-widgets/controls",
          "model_name": "DescriptionStyleModel",
          "state": {
            "_view_name": "StyleView",
            "_model_name": "DescriptionStyleModel",
            "description_width": "",
            "_view_module": "@jupyter-widgets/base",
            "_model_module_version": "1.5.0",
            "_view_count": null,
            "_view_module_version": "1.2.0",
            "_model_module": "@jupyter-widgets/controls"
          }
        },
        "092e70e35f53400b9c86e350a87b5970": {
          "model_module": "@jupyter-widgets/base",
          "model_name": "LayoutModel",
          "state": {
            "_view_name": "LayoutView",
            "grid_template_rows": null,
            "right": null,
            "justify_content": null,
            "_view_module": "@jupyter-widgets/base",
            "overflow": null,
            "_model_module_version": "1.2.0",
            "_view_count": null,
            "flex_flow": null,
            "width": null,
            "min_width": null,
            "border": null,
            "align_items": null,
            "bottom": null,
            "_model_module": "@jupyter-widgets/base",
            "top": null,
            "grid_column": null,
            "overflow_y": null,
            "overflow_x": null,
            "grid_auto_flow": null,
            "grid_area": null,
            "grid_template_columns": null,
            "flex": null,
            "_model_name": "LayoutModel",
            "justify_items": null,
            "grid_row": null,
            "max_height": null,
            "align_content": null,
            "visibility": null,
            "align_self": null,
            "height": null,
            "min_height": null,
            "padding": null,
            "grid_auto_rows": null,
            "grid_gap": null,
            "max_width": null,
            "order": null,
            "_view_module_version": "1.2.0",
            "grid_template_areas": null,
            "object_position": null,
            "object_fit": null,
            "grid_auto_columns": null,
            "margin": null,
            "display": null,
            "left": null
          }
        },
        "39fbdc8165e04f98ad33fd8c0e1c09c4": {
          "model_module": "@jupyter-widgets/controls",
          "model_name": "HBoxModel",
          "state": {
            "_view_name": "HBoxView",
            "_dom_classes": [],
            "_model_name": "HBoxModel",
            "_view_module": "@jupyter-widgets/controls",
            "_model_module_version": "1.5.0",
            "_view_count": null,
            "_view_module_version": "1.5.0",
            "box_style": "",
            "layout": "IPY_MODEL_f66dfed90fff4b49ab1c9cc010f26f20",
            "_model_module": "@jupyter-widgets/controls",
            "children": [
              "IPY_MODEL_e8b264f5a4854d27999176d93b40bfb9",
              "IPY_MODEL_aba4d7da5ba3436eb212f54f4696a810"
            ]
          }
        },
        "f66dfed90fff4b49ab1c9cc010f26f20": {
          "model_module": "@jupyter-widgets/base",
          "model_name": "LayoutModel",
          "state": {
            "_view_name": "LayoutView",
            "grid_template_rows": null,
            "right": null,
            "justify_content": null,
            "_view_module": "@jupyter-widgets/base",
            "overflow": null,
            "_model_module_version": "1.2.0",
            "_view_count": null,
            "flex_flow": null,
            "width": null,
            "min_width": null,
            "border": null,
            "align_items": null,
            "bottom": null,
            "_model_module": "@jupyter-widgets/base",
            "top": null,
            "grid_column": null,
            "overflow_y": null,
            "overflow_x": null,
            "grid_auto_flow": null,
            "grid_area": null,
            "grid_template_columns": null,
            "flex": null,
            "_model_name": "LayoutModel",
            "justify_items": null,
            "grid_row": null,
            "max_height": null,
            "align_content": null,
            "visibility": null,
            "align_self": null,
            "height": null,
            "min_height": null,
            "padding": null,
            "grid_auto_rows": null,
            "grid_gap": null,
            "max_width": null,
            "order": null,
            "_view_module_version": "1.2.0",
            "grid_template_areas": null,
            "object_position": null,
            "object_fit": null,
            "grid_auto_columns": null,
            "margin": null,
            "display": null,
            "left": null
          }
        },
        "e8b264f5a4854d27999176d93b40bfb9": {
          "model_module": "@jupyter-widgets/controls",
          "model_name": "IntProgressModel",
          "state": {
            "_view_name": "ProgressView",
            "style": "IPY_MODEL_d825a971d2ca4858ad08c68a4ab6753f",
            "_dom_classes": [],
            "description": "Dl Size...: 100%",
            "_model_name": "IntProgressModel",
            "bar_style": "success",
            "max": 1,
            "_view_module": "@jupyter-widgets/controls",
            "_model_module_version": "1.5.0",
            "value": 1,
            "_view_count": null,
            "_view_module_version": "1.5.0",
            "orientation": "horizontal",
            "min": 0,
            "description_tooltip": null,
            "_model_module": "@jupyter-widgets/controls",
            "layout": "IPY_MODEL_d7de2b2ffa924bc9a72dc411db09f856"
          }
        },
        "aba4d7da5ba3436eb212f54f4696a810": {
          "model_module": "@jupyter-widgets/controls",
          "model_name": "HTMLModel",
          "state": {
            "_view_name": "HTMLView",
            "style": "IPY_MODEL_687f7a0a803a4d2f980911cc5ea1c7cc",
            "_dom_classes": [],
            "description": "",
            "_model_name": "HTMLModel",
            "placeholder": "​",
            "_view_module": "@jupyter-widgets/controls",
            "_model_module_version": "1.5.0",
            "value": " 29/29 [00:04&lt;00:00,  5.80 MiB/s]",
            "_view_count": null,
            "_view_module_version": "1.5.0",
            "description_tooltip": null,
            "_model_module": "@jupyter-widgets/controls",
            "layout": "IPY_MODEL_2094472575de45bea34f1ac323a24f88"
          }
        },
        "d825a971d2ca4858ad08c68a4ab6753f": {
          "model_module": "@jupyter-widgets/controls",
          "model_name": "ProgressStyleModel",
          "state": {
            "_view_name": "StyleView",
            "_model_name": "ProgressStyleModel",
            "description_width": "initial",
            "_view_module": "@jupyter-widgets/base",
            "_model_module_version": "1.5.0",
            "_view_count": null,
            "_view_module_version": "1.2.0",
            "bar_color": null,
            "_model_module": "@jupyter-widgets/controls"
          }
        },
        "d7de2b2ffa924bc9a72dc411db09f856": {
          "model_module": "@jupyter-widgets/base",
          "model_name": "LayoutModel",
          "state": {
            "_view_name": "LayoutView",
            "grid_template_rows": null,
            "right": null,
            "justify_content": null,
            "_view_module": "@jupyter-widgets/base",
            "overflow": null,
            "_model_module_version": "1.2.0",
            "_view_count": null,
            "flex_flow": null,
            "width": null,
            "min_width": null,
            "border": null,
            "align_items": null,
            "bottom": null,
            "_model_module": "@jupyter-widgets/base",
            "top": null,
            "grid_column": null,
            "overflow_y": null,
            "overflow_x": null,
            "grid_auto_flow": null,
            "grid_area": null,
            "grid_template_columns": null,
            "flex": null,
            "_model_name": "LayoutModel",
            "justify_items": null,
            "grid_row": null,
            "max_height": null,
            "align_content": null,
            "visibility": null,
            "align_self": null,
            "height": null,
            "min_height": null,
            "padding": null,
            "grid_auto_rows": null,
            "grid_gap": null,
            "max_width": null,
            "order": null,
            "_view_module_version": "1.2.0",
            "grid_template_areas": null,
            "object_position": null,
            "object_fit": null,
            "grid_auto_columns": null,
            "margin": null,
            "display": null,
            "left": null
          }
        },
        "687f7a0a803a4d2f980911cc5ea1c7cc": {
          "model_module": "@jupyter-widgets/controls",
          "model_name": "DescriptionStyleModel",
          "state": {
            "_view_name": "StyleView",
            "_model_name": "DescriptionStyleModel",
            "description_width": "",
            "_view_module": "@jupyter-widgets/base",
            "_model_module_version": "1.5.0",
            "_view_count": null,
            "_view_module_version": "1.2.0",
            "_model_module": "@jupyter-widgets/controls"
          }
        },
        "2094472575de45bea34f1ac323a24f88": {
          "model_module": "@jupyter-widgets/base",
          "model_name": "LayoutModel",
          "state": {
            "_view_name": "LayoutView",
            "grid_template_rows": null,
            "right": null,
            "justify_content": null,
            "_view_module": "@jupyter-widgets/base",
            "overflow": null,
            "_model_module_version": "1.2.0",
            "_view_count": null,
            "flex_flow": null,
            "width": null,
            "min_width": null,
            "border": null,
            "align_items": null,
            "bottom": null,
            "_model_module": "@jupyter-widgets/base",
            "top": null,
            "grid_column": null,
            "overflow_y": null,
            "overflow_x": null,
            "grid_auto_flow": null,
            "grid_area": null,
            "grid_template_columns": null,
            "flex": null,
            "_model_name": "LayoutModel",
            "justify_items": null,
            "grid_row": null,
            "max_height": null,
            "align_content": null,
            "visibility": null,
            "align_self": null,
            "height": null,
            "min_height": null,
            "padding": null,
            "grid_auto_rows": null,
            "grid_gap": null,
            "max_width": null,
            "order": null,
            "_view_module_version": "1.2.0",
            "grid_template_areas": null,
            "object_position": null,
            "object_fit": null,
            "grid_auto_columns": null,
            "margin": null,
            "display": null,
            "left": null
          }
        },
        "a2f44c9e7cc6477ab50536abebbcf5c9": {
          "model_module": "@jupyter-widgets/controls",
          "model_name": "HBoxModel",
          "state": {
            "_view_name": "HBoxView",
            "_dom_classes": [],
            "_model_name": "HBoxModel",
            "_view_module": "@jupyter-widgets/controls",
            "_model_module_version": "1.5.0",
            "_view_count": null,
            "_view_module_version": "1.5.0",
            "box_style": "",
            "layout": "IPY_MODEL_e935417c77694f52a784301104a471cb",
            "_model_module": "@jupyter-widgets/controls",
            "children": [
              "IPY_MODEL_46e3b5d4b1904e67aec91b7b2f6c299d",
              "IPY_MODEL_c51a14e14d924e64b144e422fc860d80"
            ]
          }
        },
        "e935417c77694f52a784301104a471cb": {
          "model_module": "@jupyter-widgets/base",
          "model_name": "LayoutModel",
          "state": {
            "_view_name": "LayoutView",
            "grid_template_rows": null,
            "right": null,
            "justify_content": null,
            "_view_module": "@jupyter-widgets/base",
            "overflow": null,
            "_model_module_version": "1.2.0",
            "_view_count": null,
            "flex_flow": null,
            "width": null,
            "min_width": null,
            "border": null,
            "align_items": null,
            "bottom": null,
            "_model_module": "@jupyter-widgets/base",
            "top": null,
            "grid_column": null,
            "overflow_y": null,
            "overflow_x": null,
            "grid_auto_flow": null,
            "grid_area": null,
            "grid_template_columns": null,
            "flex": null,
            "_model_name": "LayoutModel",
            "justify_items": null,
            "grid_row": null,
            "max_height": null,
            "align_content": null,
            "visibility": null,
            "align_self": null,
            "height": null,
            "min_height": null,
            "padding": null,
            "grid_auto_rows": null,
            "grid_gap": null,
            "max_width": null,
            "order": null,
            "_view_module_version": "1.2.0",
            "grid_template_areas": null,
            "object_position": null,
            "object_fit": null,
            "grid_auto_columns": null,
            "margin": null,
            "display": null,
            "left": null
          }
        },
        "46e3b5d4b1904e67aec91b7b2f6c299d": {
          "model_module": "@jupyter-widgets/controls",
          "model_name": "IntProgressModel",
          "state": {
            "_view_name": "ProgressView",
            "style": "IPY_MODEL_91738a85daca44578cb590ed9bab6ae6",
            "_dom_classes": [],
            "description": "Extraction completed...: 100%",
            "_model_name": "IntProgressModel",
            "bar_style": "success",
            "max": 1,
            "_view_module": "@jupyter-widgets/controls",
            "_model_module_version": "1.5.0",
            "value": 1,
            "_view_count": null,
            "_view_module_version": "1.5.0",
            "orientation": "horizontal",
            "min": 0,
            "description_tooltip": null,
            "_model_module": "@jupyter-widgets/controls",
            "layout": "IPY_MODEL_4bfae4ae9a194b908e39bec211976b72"
          }
        },
        "c51a14e14d924e64b144e422fc860d80": {
          "model_module": "@jupyter-widgets/controls",
          "model_name": "HTMLModel",
          "state": {
            "_view_name": "HTMLView",
            "style": "IPY_MODEL_e6d5c9a9194f471b8060e95806596ab2",
            "_dom_classes": [],
            "description": "",
            "_model_name": "HTMLModel",
            "placeholder": "​",
            "_view_module": "@jupyter-widgets/controls",
            "_model_module_version": "1.5.0",
            "value": " 4/4 [00:04&lt;00:00,  1.24s/ file]",
            "_view_count": null,
            "_view_module_version": "1.5.0",
            "description_tooltip": null,
            "_model_module": "@jupyter-widgets/controls",
            "layout": "IPY_MODEL_29c2d1f4b3214bf9bfa12f00726dcce7"
          }
        },
        "91738a85daca44578cb590ed9bab6ae6": {
          "model_module": "@jupyter-widgets/controls",
          "model_name": "ProgressStyleModel",
          "state": {
            "_view_name": "StyleView",
            "_model_name": "ProgressStyleModel",
            "description_width": "initial",
            "_view_module": "@jupyter-widgets/base",
            "_model_module_version": "1.5.0",
            "_view_count": null,
            "_view_module_version": "1.2.0",
            "bar_color": null,
            "_model_module": "@jupyter-widgets/controls"
          }
        },
        "4bfae4ae9a194b908e39bec211976b72": {
          "model_module": "@jupyter-widgets/base",
          "model_name": "LayoutModel",
          "state": {
            "_view_name": "LayoutView",
            "grid_template_rows": null,
            "right": null,
            "justify_content": null,
            "_view_module": "@jupyter-widgets/base",
            "overflow": null,
            "_model_module_version": "1.2.0",
            "_view_count": null,
            "flex_flow": null,
            "width": null,
            "min_width": null,
            "border": null,
            "align_items": null,
            "bottom": null,
            "_model_module": "@jupyter-widgets/base",
            "top": null,
            "grid_column": null,
            "overflow_y": null,
            "overflow_x": null,
            "grid_auto_flow": null,
            "grid_area": null,
            "grid_template_columns": null,
            "flex": null,
            "_model_name": "LayoutModel",
            "justify_items": null,
            "grid_row": null,
            "max_height": null,
            "align_content": null,
            "visibility": null,
            "align_self": null,
            "height": null,
            "min_height": null,
            "padding": null,
            "grid_auto_rows": null,
            "grid_gap": null,
            "max_width": null,
            "order": null,
            "_view_module_version": "1.2.0",
            "grid_template_areas": null,
            "object_position": null,
            "object_fit": null,
            "grid_auto_columns": null,
            "margin": null,
            "display": null,
            "left": null
          }
        },
        "e6d5c9a9194f471b8060e95806596ab2": {
          "model_module": "@jupyter-widgets/controls",
          "model_name": "DescriptionStyleModel",
          "state": {
            "_view_name": "StyleView",
            "_model_name": "DescriptionStyleModel",
            "description_width": "",
            "_view_module": "@jupyter-widgets/base",
            "_model_module_version": "1.5.0",
            "_view_count": null,
            "_view_module_version": "1.2.0",
            "_model_module": "@jupyter-widgets/controls"
          }
        },
        "29c2d1f4b3214bf9bfa12f00726dcce7": {
          "model_module": "@jupyter-widgets/base",
          "model_name": "LayoutModel",
          "state": {
            "_view_name": "LayoutView",
            "grid_template_rows": null,
            "right": null,
            "justify_content": null,
            "_view_module": "@jupyter-widgets/base",
            "overflow": null,
            "_model_module_version": "1.2.0",
            "_view_count": null,
            "flex_flow": null,
            "width": null,
            "min_width": null,
            "border": null,
            "align_items": null,
            "bottom": null,
            "_model_module": "@jupyter-widgets/base",
            "top": null,
            "grid_column": null,
            "overflow_y": null,
            "overflow_x": null,
            "grid_auto_flow": null,
            "grid_area": null,
            "grid_template_columns": null,
            "flex": null,
            "_model_name": "LayoutModel",
            "justify_items": null,
            "grid_row": null,
            "max_height": null,
            "align_content": null,
            "visibility": null,
            "align_self": null,
            "height": null,
            "min_height": null,
            "padding": null,
            "grid_auto_rows": null,
            "grid_gap": null,
            "max_width": null,
            "order": null,
            "_view_module_version": "1.2.0",
            "grid_template_areas": null,
            "object_position": null,
            "object_fit": null,
            "grid_auto_columns": null,
            "margin": null,
            "display": null,
            "left": null
          }
        },
        "bbd58e1db077460db8d9bcff3c5f8191": {
          "model_module": "@jupyter-widgets/controls",
          "model_name": "HBoxModel",
          "state": {
            "_view_name": "HBoxView",
            "_dom_classes": [],
            "_model_name": "HBoxModel",
            "_view_module": "@jupyter-widgets/controls",
            "_model_module_version": "1.5.0",
            "_view_count": null,
            "_view_module_version": "1.5.0",
            "box_style": "",
            "layout": "IPY_MODEL_07de5363ce1e47e0a4f069e0664a5f7d",
            "_model_module": "@jupyter-widgets/controls",
            "children": [
              "IPY_MODEL_3fd763636bcf41c9b60c1c190f785b93",
              "IPY_MODEL_d526f242b7a84c38a38a648529b1f8fc"
            ]
          }
        },
        "07de5363ce1e47e0a4f069e0664a5f7d": {
          "model_module": "@jupyter-widgets/base",
          "model_name": "LayoutModel",
          "state": {
            "_view_name": "LayoutView",
            "grid_template_rows": null,
            "right": null,
            "justify_content": null,
            "_view_module": "@jupyter-widgets/base",
            "overflow": null,
            "_model_module_version": "1.2.0",
            "_view_count": null,
            "flex_flow": null,
            "width": null,
            "min_width": null,
            "border": null,
            "align_items": null,
            "bottom": null,
            "_model_module": "@jupyter-widgets/base",
            "top": null,
            "grid_column": null,
            "overflow_y": null,
            "overflow_x": null,
            "grid_auto_flow": null,
            "grid_area": null,
            "grid_template_columns": null,
            "flex": null,
            "_model_name": "LayoutModel",
            "justify_items": null,
            "grid_row": null,
            "max_height": null,
            "align_content": null,
            "visibility": null,
            "align_self": null,
            "height": null,
            "min_height": null,
            "padding": null,
            "grid_auto_rows": null,
            "grid_gap": null,
            "max_width": null,
            "order": null,
            "_view_module_version": "1.2.0",
            "grid_template_areas": null,
            "object_position": null,
            "object_fit": null,
            "grid_auto_columns": null,
            "margin": null,
            "display": null,
            "left": null
          }
        },
        "3fd763636bcf41c9b60c1c190f785b93": {
          "model_module": "@jupyter-widgets/controls",
          "model_name": "IntProgressModel",
          "state": {
            "_view_name": "ProgressView",
            "style": "IPY_MODEL_4e7c8d288a2e48d3bedbfd6b0302decd",
            "_dom_classes": [],
            "description": "",
            "_model_name": "IntProgressModel",
            "bar_style": "info",
            "max": 1,
            "_view_module": "@jupyter-widgets/controls",
            "_model_module_version": "1.5.0",
            "value": 1,
            "_view_count": null,
            "_view_module_version": "1.5.0",
            "orientation": "horizontal",
            "min": 0,
            "description_tooltip": null,
            "_model_module": "@jupyter-widgets/controls",
            "layout": "IPY_MODEL_9cce809d880b4e53a5eb2fd0b4e06103"
          }
        },
        "d526f242b7a84c38a38a648529b1f8fc": {
          "model_module": "@jupyter-widgets/controls",
          "model_name": "HTMLModel",
          "state": {
            "_view_name": "HTMLView",
            "style": "IPY_MODEL_7649cb62ab2a41b6998339987c0d1643",
            "_dom_classes": [],
            "description": "",
            "_model_name": "HTMLModel",
            "placeholder": "​",
            "_view_module": "@jupyter-widgets/controls",
            "_model_module_version": "1.5.0",
            "value": " 60000/0 [00:23&lt;00:00, 2499.25 examples/s]",
            "_view_count": null,
            "_view_module_version": "1.5.0",
            "description_tooltip": null,
            "_model_module": "@jupyter-widgets/controls",
            "layout": "IPY_MODEL_35f55c6f93dd4e988158c5c23c3b1f92"
          }
        },
        "4e7c8d288a2e48d3bedbfd6b0302decd": {
          "model_module": "@jupyter-widgets/controls",
          "model_name": "ProgressStyleModel",
          "state": {
            "_view_name": "StyleView",
            "_model_name": "ProgressStyleModel",
            "description_width": "initial",
            "_view_module": "@jupyter-widgets/base",
            "_model_module_version": "1.5.0",
            "_view_count": null,
            "_view_module_version": "1.2.0",
            "bar_color": null,
            "_model_module": "@jupyter-widgets/controls"
          }
        },
        "9cce809d880b4e53a5eb2fd0b4e06103": {
          "model_module": "@jupyter-widgets/base",
          "model_name": "LayoutModel",
          "state": {
            "_view_name": "LayoutView",
            "grid_template_rows": null,
            "right": null,
            "justify_content": null,
            "_view_module": "@jupyter-widgets/base",
            "overflow": null,
            "_model_module_version": "1.2.0",
            "_view_count": null,
            "flex_flow": null,
            "width": null,
            "min_width": null,
            "border": null,
            "align_items": null,
            "bottom": null,
            "_model_module": "@jupyter-widgets/base",
            "top": null,
            "grid_column": null,
            "overflow_y": null,
            "overflow_x": null,
            "grid_auto_flow": null,
            "grid_area": null,
            "grid_template_columns": null,
            "flex": null,
            "_model_name": "LayoutModel",
            "justify_items": null,
            "grid_row": null,
            "max_height": null,
            "align_content": null,
            "visibility": null,
            "align_self": null,
            "height": null,
            "min_height": null,
            "padding": null,
            "grid_auto_rows": null,
            "grid_gap": null,
            "max_width": null,
            "order": null,
            "_view_module_version": "1.2.0",
            "grid_template_areas": null,
            "object_position": null,
            "object_fit": null,
            "grid_auto_columns": null,
            "margin": null,
            "display": null,
            "left": null
          }
        },
        "7649cb62ab2a41b6998339987c0d1643": {
          "model_module": "@jupyter-widgets/controls",
          "model_name": "DescriptionStyleModel",
          "state": {
            "_view_name": "StyleView",
            "_model_name": "DescriptionStyleModel",
            "description_width": "",
            "_view_module": "@jupyter-widgets/base",
            "_model_module_version": "1.5.0",
            "_view_count": null,
            "_view_module_version": "1.2.0",
            "_model_module": "@jupyter-widgets/controls"
          }
        },
        "35f55c6f93dd4e988158c5c23c3b1f92": {
          "model_module": "@jupyter-widgets/base",
          "model_name": "LayoutModel",
          "state": {
            "_view_name": "LayoutView",
            "grid_template_rows": null,
            "right": null,
            "justify_content": null,
            "_view_module": "@jupyter-widgets/base",
            "overflow": null,
            "_model_module_version": "1.2.0",
            "_view_count": null,
            "flex_flow": null,
            "width": null,
            "min_width": null,
            "border": null,
            "align_items": null,
            "bottom": null,
            "_model_module": "@jupyter-widgets/base",
            "top": null,
            "grid_column": null,
            "overflow_y": null,
            "overflow_x": null,
            "grid_auto_flow": null,
            "grid_area": null,
            "grid_template_columns": null,
            "flex": null,
            "_model_name": "LayoutModel",
            "justify_items": null,
            "grid_row": null,
            "max_height": null,
            "align_content": null,
            "visibility": null,
            "align_self": null,
            "height": null,
            "min_height": null,
            "padding": null,
            "grid_auto_rows": null,
            "grid_gap": null,
            "max_width": null,
            "order": null,
            "_view_module_version": "1.2.0",
            "grid_template_areas": null,
            "object_position": null,
            "object_fit": null,
            "grid_auto_columns": null,
            "margin": null,
            "display": null,
            "left": null
          }
        },
        "0d3f01bd001f41c4bcccf22cfcc00184": {
          "model_module": "@jupyter-widgets/controls",
          "model_name": "HBoxModel",
          "state": {
            "_view_name": "HBoxView",
            "_dom_classes": [],
            "_model_name": "HBoxModel",
            "_view_module": "@jupyter-widgets/controls",
            "_model_module_version": "1.5.0",
            "_view_count": null,
            "_view_module_version": "1.5.0",
            "box_style": "",
            "layout": "IPY_MODEL_d9df041a965844aa9e58bd2222c9cba1",
            "_model_module": "@jupyter-widgets/controls",
            "children": [
              "IPY_MODEL_4ed3e5b3dee44960ad31df3a553fa5f3",
              "IPY_MODEL_b73931a9834c4895957846e71ebe5d26"
            ]
          }
        },
        "d9df041a965844aa9e58bd2222c9cba1": {
          "model_module": "@jupyter-widgets/base",
          "model_name": "LayoutModel",
          "state": {
            "_view_name": "LayoutView",
            "grid_template_rows": null,
            "right": null,
            "justify_content": null,
            "_view_module": "@jupyter-widgets/base",
            "overflow": null,
            "_model_module_version": "1.2.0",
            "_view_count": null,
            "flex_flow": null,
            "width": null,
            "min_width": null,
            "border": null,
            "align_items": null,
            "bottom": null,
            "_model_module": "@jupyter-widgets/base",
            "top": null,
            "grid_column": null,
            "overflow_y": null,
            "overflow_x": null,
            "grid_auto_flow": null,
            "grid_area": null,
            "grid_template_columns": null,
            "flex": null,
            "_model_name": "LayoutModel",
            "justify_items": null,
            "grid_row": null,
            "max_height": null,
            "align_content": null,
            "visibility": null,
            "align_self": null,
            "height": null,
            "min_height": null,
            "padding": null,
            "grid_auto_rows": null,
            "grid_gap": null,
            "max_width": null,
            "order": null,
            "_view_module_version": "1.2.0",
            "grid_template_areas": null,
            "object_position": null,
            "object_fit": null,
            "grid_auto_columns": null,
            "margin": null,
            "display": null,
            "left": null
          }
        },
        "4ed3e5b3dee44960ad31df3a553fa5f3": {
          "model_module": "@jupyter-widgets/controls",
          "model_name": "IntProgressModel",
          "state": {
            "_view_name": "ProgressView",
            "style": "IPY_MODEL_f22d808e37654d1f87383594a97ea143",
            "_dom_classes": [],
            "description": " 57%",
            "_model_name": "IntProgressModel",
            "bar_style": "danger",
            "max": 60000,
            "_view_module": "@jupyter-widgets/controls",
            "_model_module_version": "1.5.0",
            "value": 34121,
            "_view_count": null,
            "_view_module_version": "1.5.0",
            "orientation": "horizontal",
            "min": 0,
            "description_tooltip": null,
            "_model_module": "@jupyter-widgets/controls",
            "layout": "IPY_MODEL_5a839f0379d9477a82bc518c5f1f8302"
          }
        },
        "b73931a9834c4895957846e71ebe5d26": {
          "model_module": "@jupyter-widgets/controls",
          "model_name": "HTMLModel",
          "state": {
            "_view_name": "HTMLView",
            "style": "IPY_MODEL_4375903e2fd14d32a3fa49dc7c113c7d",
            "_dom_classes": [],
            "description": "",
            "_model_name": "HTMLModel",
            "placeholder": "​",
            "_view_module": "@jupyter-widgets/controls",
            "_model_module_version": "1.5.0",
            "value": " 34121/60000 [00:00&lt;30:46, 14.02 examples/s]",
            "_view_count": null,
            "_view_module_version": "1.5.0",
            "description_tooltip": null,
            "_model_module": "@jupyter-widgets/controls",
            "layout": "IPY_MODEL_7ab1086950224e4d8324c8dfd40b6dbb"
          }
        },
        "f22d808e37654d1f87383594a97ea143": {
          "model_module": "@jupyter-widgets/controls",
          "model_name": "ProgressStyleModel",
          "state": {
            "_view_name": "StyleView",
            "_model_name": "ProgressStyleModel",
            "description_width": "initial",
            "_view_module": "@jupyter-widgets/base",
            "_model_module_version": "1.5.0",
            "_view_count": null,
            "_view_module_version": "1.2.0",
            "bar_color": null,
            "_model_module": "@jupyter-widgets/controls"
          }
        },
        "5a839f0379d9477a82bc518c5f1f8302": {
          "model_module": "@jupyter-widgets/base",
          "model_name": "LayoutModel",
          "state": {
            "_view_name": "LayoutView",
            "grid_template_rows": null,
            "right": null,
            "justify_content": null,
            "_view_module": "@jupyter-widgets/base",
            "overflow": null,
            "_model_module_version": "1.2.0",
            "_view_count": null,
            "flex_flow": null,
            "width": null,
            "min_width": null,
            "border": null,
            "align_items": null,
            "bottom": null,
            "_model_module": "@jupyter-widgets/base",
            "top": null,
            "grid_column": null,
            "overflow_y": null,
            "overflow_x": null,
            "grid_auto_flow": null,
            "grid_area": null,
            "grid_template_columns": null,
            "flex": null,
            "_model_name": "LayoutModel",
            "justify_items": null,
            "grid_row": null,
            "max_height": null,
            "align_content": null,
            "visibility": null,
            "align_self": null,
            "height": null,
            "min_height": null,
            "padding": null,
            "grid_auto_rows": null,
            "grid_gap": null,
            "max_width": null,
            "order": null,
            "_view_module_version": "1.2.0",
            "grid_template_areas": null,
            "object_position": null,
            "object_fit": null,
            "grid_auto_columns": null,
            "margin": null,
            "display": null,
            "left": null
          }
        },
        "4375903e2fd14d32a3fa49dc7c113c7d": {
          "model_module": "@jupyter-widgets/controls",
          "model_name": "DescriptionStyleModel",
          "state": {
            "_view_name": "StyleView",
            "_model_name": "DescriptionStyleModel",
            "description_width": "",
            "_view_module": "@jupyter-widgets/base",
            "_model_module_version": "1.5.0",
            "_view_count": null,
            "_view_module_version": "1.2.0",
            "_model_module": "@jupyter-widgets/controls"
          }
        },
        "7ab1086950224e4d8324c8dfd40b6dbb": {
          "model_module": "@jupyter-widgets/base",
          "model_name": "LayoutModel",
          "state": {
            "_view_name": "LayoutView",
            "grid_template_rows": null,
            "right": null,
            "justify_content": null,
            "_view_module": "@jupyter-widgets/base",
            "overflow": null,
            "_model_module_version": "1.2.0",
            "_view_count": null,
            "flex_flow": null,
            "width": null,
            "min_width": null,
            "border": null,
            "align_items": null,
            "bottom": null,
            "_model_module": "@jupyter-widgets/base",
            "top": null,
            "grid_column": null,
            "overflow_y": null,
            "overflow_x": null,
            "grid_auto_flow": null,
            "grid_area": null,
            "grid_template_columns": null,
            "flex": null,
            "_model_name": "LayoutModel",
            "justify_items": null,
            "grid_row": null,
            "max_height": null,
            "align_content": null,
            "visibility": null,
            "align_self": null,
            "height": null,
            "min_height": null,
            "padding": null,
            "grid_auto_rows": null,
            "grid_gap": null,
            "max_width": null,
            "order": null,
            "_view_module_version": "1.2.0",
            "grid_template_areas": null,
            "object_position": null,
            "object_fit": null,
            "grid_auto_columns": null,
            "margin": null,
            "display": null,
            "left": null
          }
        },
        "6e20ebff50004c70874c8b452f3c3770": {
          "model_module": "@jupyter-widgets/controls",
          "model_name": "HBoxModel",
          "state": {
            "_view_name": "HBoxView",
            "_dom_classes": [],
            "_model_name": "HBoxModel",
            "_view_module": "@jupyter-widgets/controls",
            "_model_module_version": "1.5.0",
            "_view_count": null,
            "_view_module_version": "1.5.0",
            "box_style": "",
            "layout": "IPY_MODEL_296aa2fcb1ff498fa94ae925879bc5c2",
            "_model_module": "@jupyter-widgets/controls",
            "children": [
              "IPY_MODEL_a8d27140a0c049378399d7b94461c8aa",
              "IPY_MODEL_74a7c6d4bacc4922ad03b91934002c7c"
            ]
          }
        },
        "296aa2fcb1ff498fa94ae925879bc5c2": {
          "model_module": "@jupyter-widgets/base",
          "model_name": "LayoutModel",
          "state": {
            "_view_name": "LayoutView",
            "grid_template_rows": null,
            "right": null,
            "justify_content": null,
            "_view_module": "@jupyter-widgets/base",
            "overflow": null,
            "_model_module_version": "1.2.0",
            "_view_count": null,
            "flex_flow": null,
            "width": null,
            "min_width": null,
            "border": null,
            "align_items": null,
            "bottom": null,
            "_model_module": "@jupyter-widgets/base",
            "top": null,
            "grid_column": null,
            "overflow_y": null,
            "overflow_x": null,
            "grid_auto_flow": null,
            "grid_area": null,
            "grid_template_columns": null,
            "flex": null,
            "_model_name": "LayoutModel",
            "justify_items": null,
            "grid_row": null,
            "max_height": null,
            "align_content": null,
            "visibility": null,
            "align_self": null,
            "height": null,
            "min_height": null,
            "padding": null,
            "grid_auto_rows": null,
            "grid_gap": null,
            "max_width": null,
            "order": null,
            "_view_module_version": "1.2.0",
            "grid_template_areas": null,
            "object_position": null,
            "object_fit": null,
            "grid_auto_columns": null,
            "margin": null,
            "display": null,
            "left": null
          }
        },
        "a8d27140a0c049378399d7b94461c8aa": {
          "model_module": "@jupyter-widgets/controls",
          "model_name": "IntProgressModel",
          "state": {
            "_view_name": "ProgressView",
            "style": "IPY_MODEL_e06f7cd9f27a4a6da122a0c38fb92010",
            "_dom_classes": [],
            "description": "",
            "_model_name": "IntProgressModel",
            "bar_style": "info",
            "max": 1,
            "_view_module": "@jupyter-widgets/controls",
            "_model_module_version": "1.5.0",
            "value": 1,
            "_view_count": null,
            "_view_module_version": "1.5.0",
            "orientation": "horizontal",
            "min": 0,
            "description_tooltip": null,
            "_model_module": "@jupyter-widgets/controls",
            "layout": "IPY_MODEL_693b3bc9418a403b9651b91b8a5142ac"
          }
        },
        "74a7c6d4bacc4922ad03b91934002c7c": {
          "model_module": "@jupyter-widgets/controls",
          "model_name": "HTMLModel",
          "state": {
            "_view_name": "HTMLView",
            "style": "IPY_MODEL_0ce00d5bedab4f909a596e267ab52205",
            "_dom_classes": [],
            "description": "",
            "_model_name": "HTMLModel",
            "placeholder": "​",
            "_view_module": "@jupyter-widgets/controls",
            "_model_module_version": "1.5.0",
            "value": " 10000/0 [00:03&lt;00:00, 2602.99 examples/s]",
            "_view_count": null,
            "_view_module_version": "1.5.0",
            "description_tooltip": null,
            "_model_module": "@jupyter-widgets/controls",
            "layout": "IPY_MODEL_efb2cd5cc31846c09e0cab8f5e34dd6a"
          }
        },
        "e06f7cd9f27a4a6da122a0c38fb92010": {
          "model_module": "@jupyter-widgets/controls",
          "model_name": "ProgressStyleModel",
          "state": {
            "_view_name": "StyleView",
            "_model_name": "ProgressStyleModel",
            "description_width": "initial",
            "_view_module": "@jupyter-widgets/base",
            "_model_module_version": "1.5.0",
            "_view_count": null,
            "_view_module_version": "1.2.0",
            "bar_color": null,
            "_model_module": "@jupyter-widgets/controls"
          }
        },
        "693b3bc9418a403b9651b91b8a5142ac": {
          "model_module": "@jupyter-widgets/base",
          "model_name": "LayoutModel",
          "state": {
            "_view_name": "LayoutView",
            "grid_template_rows": null,
            "right": null,
            "justify_content": null,
            "_view_module": "@jupyter-widgets/base",
            "overflow": null,
            "_model_module_version": "1.2.0",
            "_view_count": null,
            "flex_flow": null,
            "width": null,
            "min_width": null,
            "border": null,
            "align_items": null,
            "bottom": null,
            "_model_module": "@jupyter-widgets/base",
            "top": null,
            "grid_column": null,
            "overflow_y": null,
            "overflow_x": null,
            "grid_auto_flow": null,
            "grid_area": null,
            "grid_template_columns": null,
            "flex": null,
            "_model_name": "LayoutModel",
            "justify_items": null,
            "grid_row": null,
            "max_height": null,
            "align_content": null,
            "visibility": null,
            "align_self": null,
            "height": null,
            "min_height": null,
            "padding": null,
            "grid_auto_rows": null,
            "grid_gap": null,
            "max_width": null,
            "order": null,
            "_view_module_version": "1.2.0",
            "grid_template_areas": null,
            "object_position": null,
            "object_fit": null,
            "grid_auto_columns": null,
            "margin": null,
            "display": null,
            "left": null
          }
        },
        "0ce00d5bedab4f909a596e267ab52205": {
          "model_module": "@jupyter-widgets/controls",
          "model_name": "DescriptionStyleModel",
          "state": {
            "_view_name": "StyleView",
            "_model_name": "DescriptionStyleModel",
            "description_width": "",
            "_view_module": "@jupyter-widgets/base",
            "_model_module_version": "1.5.0",
            "_view_count": null,
            "_view_module_version": "1.2.0",
            "_model_module": "@jupyter-widgets/controls"
          }
        },
        "efb2cd5cc31846c09e0cab8f5e34dd6a": {
          "model_module": "@jupyter-widgets/base",
          "model_name": "LayoutModel",
          "state": {
            "_view_name": "LayoutView",
            "grid_template_rows": null,
            "right": null,
            "justify_content": null,
            "_view_module": "@jupyter-widgets/base",
            "overflow": null,
            "_model_module_version": "1.2.0",
            "_view_count": null,
            "flex_flow": null,
            "width": null,
            "min_width": null,
            "border": null,
            "align_items": null,
            "bottom": null,
            "_model_module": "@jupyter-widgets/base",
            "top": null,
            "grid_column": null,
            "overflow_y": null,
            "overflow_x": null,
            "grid_auto_flow": null,
            "grid_area": null,
            "grid_template_columns": null,
            "flex": null,
            "_model_name": "LayoutModel",
            "justify_items": null,
            "grid_row": null,
            "max_height": null,
            "align_content": null,
            "visibility": null,
            "align_self": null,
            "height": null,
            "min_height": null,
            "padding": null,
            "grid_auto_rows": null,
            "grid_gap": null,
            "max_width": null,
            "order": null,
            "_view_module_version": "1.2.0",
            "grid_template_areas": null,
            "object_position": null,
            "object_fit": null,
            "grid_auto_columns": null,
            "margin": null,
            "display": null,
            "left": null
          }
        },
        "eb0cbef914b0458fb3f5ca694f3a8be3": {
          "model_module": "@jupyter-widgets/controls",
          "model_name": "HBoxModel",
          "state": {
            "_view_name": "HBoxView",
            "_dom_classes": [],
            "_model_name": "HBoxModel",
            "_view_module": "@jupyter-widgets/controls",
            "_model_module_version": "1.5.0",
            "_view_count": null,
            "_view_module_version": "1.5.0",
            "box_style": "",
            "layout": "IPY_MODEL_7342df7c6d9542c5b1b0cfb56e7a1aee",
            "_model_module": "@jupyter-widgets/controls",
            "children": [
              "IPY_MODEL_60d974020d094e8c8db9a6db7bade456",
              "IPY_MODEL_ff3a4bd4919347f99f44a7f5c536bc4e"
            ]
          }
        },
        "7342df7c6d9542c5b1b0cfb56e7a1aee": {
          "model_module": "@jupyter-widgets/base",
          "model_name": "LayoutModel",
          "state": {
            "_view_name": "LayoutView",
            "grid_template_rows": null,
            "right": null,
            "justify_content": null,
            "_view_module": "@jupyter-widgets/base",
            "overflow": null,
            "_model_module_version": "1.2.0",
            "_view_count": null,
            "flex_flow": null,
            "width": null,
            "min_width": null,
            "border": null,
            "align_items": null,
            "bottom": null,
            "_model_module": "@jupyter-widgets/base",
            "top": null,
            "grid_column": null,
            "overflow_y": null,
            "overflow_x": null,
            "grid_auto_flow": null,
            "grid_area": null,
            "grid_template_columns": null,
            "flex": null,
            "_model_name": "LayoutModel",
            "justify_items": null,
            "grid_row": null,
            "max_height": null,
            "align_content": null,
            "visibility": null,
            "align_self": null,
            "height": null,
            "min_height": null,
            "padding": null,
            "grid_auto_rows": null,
            "grid_gap": null,
            "max_width": null,
            "order": null,
            "_view_module_version": "1.2.0",
            "grid_template_areas": null,
            "object_position": null,
            "object_fit": null,
            "grid_auto_columns": null,
            "margin": null,
            "display": null,
            "left": null
          }
        },
        "60d974020d094e8c8db9a6db7bade456": {
          "model_module": "@jupyter-widgets/controls",
          "model_name": "IntProgressModel",
          "state": {
            "_view_name": "ProgressView",
            "style": "IPY_MODEL_8e9c793735f24d6285645a0c8c0288b5",
            "_dom_classes": [],
            "description": "  0%",
            "_model_name": "IntProgressModel",
            "bar_style": "danger",
            "max": 10000,
            "_view_module": "@jupyter-widgets/controls",
            "_model_module_version": "1.5.0",
            "value": 0,
            "_view_count": null,
            "_view_module_version": "1.5.0",
            "orientation": "horizontal",
            "min": 0,
            "description_tooltip": null,
            "_model_module": "@jupyter-widgets/controls",
            "layout": "IPY_MODEL_d86ab2207bf6489a80db81283973972a"
          }
        },
        "ff3a4bd4919347f99f44a7f5c536bc4e": {
          "model_module": "@jupyter-widgets/controls",
          "model_name": "HTMLModel",
          "state": {
            "_view_name": "HTMLView",
            "style": "IPY_MODEL_35d355dd69cd4f61a9a754014fa13c14",
            "_dom_classes": [],
            "description": "",
            "_model_name": "HTMLModel",
            "placeholder": "​",
            "_view_module": "@jupyter-widgets/controls",
            "_model_module_version": "1.5.0",
            "value": " 0/10000 [00:00&lt;?, ? examples/s]",
            "_view_count": null,
            "_view_module_version": "1.5.0",
            "description_tooltip": null,
            "_model_module": "@jupyter-widgets/controls",
            "layout": "IPY_MODEL_9cea2884e0dd4055a10d4712dfa4e56e"
          }
        },
        "8e9c793735f24d6285645a0c8c0288b5": {
          "model_module": "@jupyter-widgets/controls",
          "model_name": "ProgressStyleModel",
          "state": {
            "_view_name": "StyleView",
            "_model_name": "ProgressStyleModel",
            "description_width": "initial",
            "_view_module": "@jupyter-widgets/base",
            "_model_module_version": "1.5.0",
            "_view_count": null,
            "_view_module_version": "1.2.0",
            "bar_color": null,
            "_model_module": "@jupyter-widgets/controls"
          }
        },
        "d86ab2207bf6489a80db81283973972a": {
          "model_module": "@jupyter-widgets/base",
          "model_name": "LayoutModel",
          "state": {
            "_view_name": "LayoutView",
            "grid_template_rows": null,
            "right": null,
            "justify_content": null,
            "_view_module": "@jupyter-widgets/base",
            "overflow": null,
            "_model_module_version": "1.2.0",
            "_view_count": null,
            "flex_flow": null,
            "width": null,
            "min_width": null,
            "border": null,
            "align_items": null,
            "bottom": null,
            "_model_module": "@jupyter-widgets/base",
            "top": null,
            "grid_column": null,
            "overflow_y": null,
            "overflow_x": null,
            "grid_auto_flow": null,
            "grid_area": null,
            "grid_template_columns": null,
            "flex": null,
            "_model_name": "LayoutModel",
            "justify_items": null,
            "grid_row": null,
            "max_height": null,
            "align_content": null,
            "visibility": null,
            "align_self": null,
            "height": null,
            "min_height": null,
            "padding": null,
            "grid_auto_rows": null,
            "grid_gap": null,
            "max_width": null,
            "order": null,
            "_view_module_version": "1.2.0",
            "grid_template_areas": null,
            "object_position": null,
            "object_fit": null,
            "grid_auto_columns": null,
            "margin": null,
            "display": null,
            "left": null
          }
        },
        "35d355dd69cd4f61a9a754014fa13c14": {
          "model_module": "@jupyter-widgets/controls",
          "model_name": "DescriptionStyleModel",
          "state": {
            "_view_name": "StyleView",
            "_model_name": "DescriptionStyleModel",
            "description_width": "",
            "_view_module": "@jupyter-widgets/base",
            "_model_module_version": "1.5.0",
            "_view_count": null,
            "_view_module_version": "1.2.0",
            "_model_module": "@jupyter-widgets/controls"
          }
        },
        "9cea2884e0dd4055a10d4712dfa4e56e": {
          "model_module": "@jupyter-widgets/base",
          "model_name": "LayoutModel",
          "state": {
            "_view_name": "LayoutView",
            "grid_template_rows": null,
            "right": null,
            "justify_content": null,
            "_view_module": "@jupyter-widgets/base",
            "overflow": null,
            "_model_module_version": "1.2.0",
            "_view_count": null,
            "flex_flow": null,
            "width": null,
            "min_width": null,
            "border": null,
            "align_items": null,
            "bottom": null,
            "_model_module": "@jupyter-widgets/base",
            "top": null,
            "grid_column": null,
            "overflow_y": null,
            "overflow_x": null,
            "grid_auto_flow": null,
            "grid_area": null,
            "grid_template_columns": null,
            "flex": null,
            "_model_name": "LayoutModel",
            "justify_items": null,
            "grid_row": null,
            "max_height": null,
            "align_content": null,
            "visibility": null,
            "align_self": null,
            "height": null,
            "min_height": null,
            "padding": null,
            "grid_auto_rows": null,
            "grid_gap": null,
            "max_width": null,
            "order": null,
            "_view_module_version": "1.2.0",
            "grid_template_areas": null,
            "object_position": null,
            "object_fit": null,
            "grid_auto_columns": null,
            "margin": null,
            "display": null,
            "left": null
          }
        }
      }
    }
  },
  "cells": [
    {
      "cell_type": "markdown",
      "metadata": {
        "id": "aBsyLlP2YSg5",
        "colab_type": "text"
      },
      "source": [
        "References:- https://colab.research.google.com/github/tensorflow/examples/blob/master/courses/udacity_intro_to_tensorflow_for_deep_learning/l03c01_classifying_images_of_clothing.ipynb"
      ]
    },
    {
      "cell_type": "markdown",
      "metadata": {
        "id": "SzqlTaEUog2x",
        "colab_type": "text"
      },
      "source": [
        "**Goal**:-  \n",
        "\n",
        "To determine the fashion clothing style from the Handwritten Fashion clothes design"
      ]
    },
    {
      "cell_type": "markdown",
      "metadata": {
        "id": "ELTIcMgUYOXd",
        "colab_type": "text"
      },
      "source": [
        "Udacity Course:- Introduction to  Tensorflow for Deep Learning \n",
        "\n",
        "Link:- https://classroom.udacity.com/courses/ud187"
      ]
    },
    {
      "cell_type": "markdown",
      "metadata": {
        "id": "0dTSwBQDm-2j",
        "colab_type": "text"
      },
      "source": [
        "Install the tensorflow Datasets"
      ]
    },
    {
      "cell_type": "code",
      "metadata": {
        "id": "7a5xuOfNnCQU",
        "colab_type": "code",
        "outputId": "7e1fe6d7-431e-4443-a7e0-4226ad2468ba",
        "colab": {
          "base_uri": "https://localhost:8080/",
          "height": 466
        }
      },
      "source": [
        "!pip install -U tensorflow_datasets"
      ],
      "execution_count": 0,
      "outputs": [
        {
          "output_type": "stream",
          "text": [
            "Collecting tensorflow_datasets\n",
            "\u001b[?25l  Downloading https://files.pythonhosted.org/packages/76/41/8404fabb295025c1ced13bb150246f75770619889d8637afa523a4d09cdb/tensorflow_datasets-3.0.0-py3-none-any.whl (3.3MB)\n",
            "\u001b[K     |████████████████████████████████| 3.3MB 2.8MB/s \n",
            "\u001b[?25hRequirement already satisfied, skipping upgrade: tqdm in /usr/local/lib/python3.6/dist-packages (from tensorflow_datasets) (4.38.0)\n",
            "Requirement already satisfied, skipping upgrade: requests>=2.19.0 in /usr/local/lib/python3.6/dist-packages (from tensorflow_datasets) (2.21.0)\n",
            "Requirement already satisfied, skipping upgrade: wrapt in /usr/local/lib/python3.6/dist-packages (from tensorflow_datasets) (1.12.1)\n",
            "Requirement already satisfied, skipping upgrade: promise in /usr/local/lib/python3.6/dist-packages (from tensorflow_datasets) (2.3)\n",
            "Requirement already satisfied, skipping upgrade: dill in /usr/local/lib/python3.6/dist-packages (from tensorflow_datasets) (0.3.1.1)\n",
            "Requirement already satisfied, skipping upgrade: numpy in /usr/local/lib/python3.6/dist-packages (from tensorflow_datasets) (1.18.3)\n",
            "Requirement already satisfied, skipping upgrade: future in /usr/local/lib/python3.6/dist-packages (from tensorflow_datasets) (0.16.0)\n",
            "Requirement already satisfied, skipping upgrade: six in /usr/local/lib/python3.6/dist-packages (from tensorflow_datasets) (1.12.0)\n",
            "Requirement already satisfied, skipping upgrade: protobuf>=3.6.1 in /usr/local/lib/python3.6/dist-packages (from tensorflow_datasets) (3.10.0)\n",
            "Requirement already satisfied, skipping upgrade: absl-py in /usr/local/lib/python3.6/dist-packages (from tensorflow_datasets) (0.9.0)\n",
            "Requirement already satisfied, skipping upgrade: attrs>=18.1.0 in /usr/local/lib/python3.6/dist-packages (from tensorflow_datasets) (19.3.0)\n",
            "Requirement already satisfied, skipping upgrade: termcolor in /usr/local/lib/python3.6/dist-packages (from tensorflow_datasets) (1.1.0)\n",
            "Requirement already satisfied, skipping upgrade: tensorflow-metadata in /usr/local/lib/python3.6/dist-packages (from tensorflow_datasets) (0.21.2)\n",
            "Requirement already satisfied, skipping upgrade: urllib3<1.25,>=1.21.1 in /usr/local/lib/python3.6/dist-packages (from requests>=2.19.0->tensorflow_datasets) (1.24.3)\n",
            "Requirement already satisfied, skipping upgrade: idna<2.9,>=2.5 in /usr/local/lib/python3.6/dist-packages (from requests>=2.19.0->tensorflow_datasets) (2.8)\n",
            "Requirement already satisfied, skipping upgrade: certifi>=2017.4.17 in /usr/local/lib/python3.6/dist-packages (from requests>=2.19.0->tensorflow_datasets) (2020.4.5.1)\n",
            "Requirement already satisfied, skipping upgrade: chardet<3.1.0,>=3.0.2 in /usr/local/lib/python3.6/dist-packages (from requests>=2.19.0->tensorflow_datasets) (3.0.4)\n",
            "Requirement already satisfied, skipping upgrade: setuptools in /usr/local/lib/python3.6/dist-packages (from protobuf>=3.6.1->tensorflow_datasets) (46.1.3)\n",
            "Requirement already satisfied, skipping upgrade: googleapis-common-protos in /usr/local/lib/python3.6/dist-packages (from tensorflow-metadata->tensorflow_datasets) (1.51.0)\n",
            "Installing collected packages: tensorflow-datasets\n",
            "  Found existing installation: tensorflow-datasets 2.1.0\n",
            "    Uninstalling tensorflow-datasets-2.1.0:\n",
            "      Successfully uninstalled tensorflow-datasets-2.1.0\n",
            "Successfully installed tensorflow-datasets-3.0.0\n"
          ],
          "name": "stdout"
        }
      ]
    },
    {
      "cell_type": "code",
      "metadata": {
        "id": "5M1wAl6onIHq",
        "colab_type": "code",
        "outputId": "62d2e47f-ab95-4c31-f62c-b41b48016816",
        "colab": {
          "base_uri": "https://localhost:8080/",
          "height": 33
        }
      },
      "source": [
        "!ls"
      ],
      "execution_count": 0,
      "outputs": [
        {
          "output_type": "stream",
          "text": [
            "sample_data\n"
          ],
          "name": "stdout"
        }
      ]
    },
    {
      "cell_type": "code",
      "metadata": {
        "id": "nh9V4BG7nK4p",
        "colab_type": "code",
        "outputId": "024245b7-f47a-4b3c-bc00-06d854f1d7b0",
        "colab": {
          "base_uri": "https://localhost:8080/",
          "height": 66
        }
      },
      "source": [
        "! ls sample_data"
      ],
      "execution_count": 0,
      "outputs": [
        {
          "output_type": "stream",
          "text": [
            "anscombe.json\t\t      mnist_test.csv\n",
            "california_housing_test.csv   mnist_train_small.csv\n",
            "california_housing_train.csv  README.md\n"
          ],
          "name": "stdout"
        }
      ]
    },
    {
      "cell_type": "markdown",
      "metadata": {
        "id": "9zpSRgB-nUb5",
        "colab_type": "text"
      },
      "source": [
        "**Python Imports**"
      ]
    },
    {
      "cell_type": "code",
      "metadata": {
        "id": "Hi0MxCCFnOV9",
        "colab_type": "code",
        "colab": {}
      },
      "source": [
        "import tensorflow as tf\n",
        "import tensorflow_datasets as tfds"
      ],
      "execution_count": 0,
      "outputs": []
    },
    {
      "cell_type": "code",
      "metadata": {
        "id": "g4xjFBGGnfZ0",
        "colab_type": "code",
        "colab": {}
      },
      "source": [
        "import pandas as pd\n",
        "import numpy as np\n",
        "import matplotlib.pyplot as plt\n",
        "import math\n"
      ],
      "execution_count": 0,
      "outputs": []
    },
    {
      "cell_type": "code",
      "metadata": {
        "id": "FK5Dbco1nnOM",
        "colab_type": "code",
        "colab": {}
      },
      "source": [
        "import logging\n",
        "logger=tf.get_logger()\n",
        "logger.setLevel(logging.ERROR)"
      ],
      "execution_count": 0,
      "outputs": []
    },
    {
      "cell_type": "markdown",
      "metadata": {
        "id": "hjA6sMFuoytm",
        "colab_type": "text"
      },
      "source": [
        "**Imports Datasets**\n",
        "\n",
        "Install the Fashion MNIST datasets which contain the 70000 images with the 10 Labels.\n",
        "\n",
        "The individual images are of 28 x 28 pixels.\n",
        "\n",
        "Reference:- https://github.com/zalandoresearch/fashion-mnist\n",
        "\n"
      ]
    },
    {
      "cell_type": "code",
      "metadata": {
        "id": "WfV0Bi0-nvps",
        "colab_type": "code",
        "outputId": "6c80babc-38ac-44d2-bba6-1e824c57bf44",
        "colab": {
          "base_uri": "https://localhost:8080/",
          "height": 343,
          "referenced_widgets": [
            "c08c23b3e8624232995635f27d05f2f2",
            "17e752e2ef784dada2b03a0c95dcd6ae",
            "57b21656b5214722b3cc4cd89b41c2c5",
            "77eeb1d71172461c8ab362146c7db797",
            "c2dd523a652d4563916308c1903f7962",
            "ee038dc31b9a45a4819f580fe3b107c2",
            "2ab77a0fd77940b5bdd95404f3de706b",
            "092e70e35f53400b9c86e350a87b5970",
            "39fbdc8165e04f98ad33fd8c0e1c09c4",
            "f66dfed90fff4b49ab1c9cc010f26f20",
            "e8b264f5a4854d27999176d93b40bfb9",
            "aba4d7da5ba3436eb212f54f4696a810",
            "d825a971d2ca4858ad08c68a4ab6753f",
            "d7de2b2ffa924bc9a72dc411db09f856",
            "687f7a0a803a4d2f980911cc5ea1c7cc",
            "2094472575de45bea34f1ac323a24f88",
            "a2f44c9e7cc6477ab50536abebbcf5c9",
            "e935417c77694f52a784301104a471cb",
            "46e3b5d4b1904e67aec91b7b2f6c299d",
            "c51a14e14d924e64b144e422fc860d80",
            "91738a85daca44578cb590ed9bab6ae6",
            "4bfae4ae9a194b908e39bec211976b72",
            "e6d5c9a9194f471b8060e95806596ab2",
            "29c2d1f4b3214bf9bfa12f00726dcce7",
            "bbd58e1db077460db8d9bcff3c5f8191",
            "07de5363ce1e47e0a4f069e0664a5f7d",
            "3fd763636bcf41c9b60c1c190f785b93",
            "d526f242b7a84c38a38a648529b1f8fc",
            "4e7c8d288a2e48d3bedbfd6b0302decd",
            "9cce809d880b4e53a5eb2fd0b4e06103",
            "7649cb62ab2a41b6998339987c0d1643",
            "35f55c6f93dd4e988158c5c23c3b1f92",
            "0d3f01bd001f41c4bcccf22cfcc00184",
            "d9df041a965844aa9e58bd2222c9cba1",
            "4ed3e5b3dee44960ad31df3a553fa5f3",
            "b73931a9834c4895957846e71ebe5d26",
            "f22d808e37654d1f87383594a97ea143",
            "5a839f0379d9477a82bc518c5f1f8302",
            "4375903e2fd14d32a3fa49dc7c113c7d",
            "7ab1086950224e4d8324c8dfd40b6dbb",
            "6e20ebff50004c70874c8b452f3c3770",
            "296aa2fcb1ff498fa94ae925879bc5c2",
            "a8d27140a0c049378399d7b94461c8aa",
            "74a7c6d4bacc4922ad03b91934002c7c",
            "e06f7cd9f27a4a6da122a0c38fb92010",
            "693b3bc9418a403b9651b91b8a5142ac",
            "0ce00d5bedab4f909a596e267ab52205",
            "efb2cd5cc31846c09e0cab8f5e34dd6a",
            "eb0cbef914b0458fb3f5ca694f3a8be3",
            "7342df7c6d9542c5b1b0cfb56e7a1aee",
            "60d974020d094e8c8db9a6db7bade456",
            "ff3a4bd4919347f99f44a7f5c536bc4e",
            "8e9c793735f24d6285645a0c8c0288b5",
            "d86ab2207bf6489a80db81283973972a",
            "35d355dd69cd4f61a9a754014fa13c14",
            "9cea2884e0dd4055a10d4712dfa4e56e"
          ]
        }
      },
      "source": [
        "dataset, metadata = tfds.load('fashion_mnist', as_supervised=True, with_info=True)"
      ],
      "execution_count": 0,
      "outputs": [
        {
          "output_type": "stream",
          "text": [
            "\u001b[1mDownloading and preparing dataset fashion_mnist/3.0.1 (download: 29.45 MiB, generated: 36.42 MiB, total: 65.87 MiB) to /root/tensorflow_datasets/fashion_mnist/3.0.1...\u001b[0m\n"
          ],
          "name": "stdout"
        },
        {
          "output_type": "display_data",
          "data": {
            "application/vnd.jupyter.widget-view+json": {
              "model_id": "c08c23b3e8624232995635f27d05f2f2",
              "version_minor": 0,
              "version_major": 2
            },
            "text/plain": [
              "HBox(children=(IntProgress(value=1, bar_style='info', description='Dl Completed...', max=1, style=ProgressStyl…"
            ]
          },
          "metadata": {
            "tags": []
          }
        },
        {
          "output_type": "display_data",
          "data": {
            "application/vnd.jupyter.widget-view+json": {
              "model_id": "39fbdc8165e04f98ad33fd8c0e1c09c4",
              "version_minor": 0,
              "version_major": 2
            },
            "text/plain": [
              "HBox(children=(IntProgress(value=1, bar_style='info', description='Dl Size...', max=1, style=ProgressStyle(des…"
            ]
          },
          "metadata": {
            "tags": []
          }
        },
        {
          "output_type": "display_data",
          "data": {
            "application/vnd.jupyter.widget-view+json": {
              "model_id": "a2f44c9e7cc6477ab50536abebbcf5c9",
              "version_minor": 0,
              "version_major": 2
            },
            "text/plain": [
              "HBox(children=(IntProgress(value=1, bar_style='info', description='Extraction completed...', max=1, style=Prog…"
            ]
          },
          "metadata": {
            "tags": []
          }
        },
        {
          "output_type": "stream",
          "text": [
            "\n",
            "\n",
            "\n",
            "\n",
            "\n",
            "\n"
          ],
          "name": "stdout"
        },
        {
          "output_type": "display_data",
          "data": {
            "application/vnd.jupyter.widget-view+json": {
              "model_id": "bbd58e1db077460db8d9bcff3c5f8191",
              "version_minor": 0,
              "version_major": 2
            },
            "text/plain": [
              "HBox(children=(IntProgress(value=1, bar_style='info', max=1), HTML(value='')))"
            ]
          },
          "metadata": {
            "tags": []
          }
        },
        {
          "output_type": "stream",
          "text": [
            "\rShuffling and writing examples to /root/tensorflow_datasets/fashion_mnist/3.0.1.incomplete3IRP25/fashion_mnist-train.tfrecord\n"
          ],
          "name": "stdout"
        },
        {
          "output_type": "display_data",
          "data": {
            "application/vnd.jupyter.widget-view+json": {
              "model_id": "0d3f01bd001f41c4bcccf22cfcc00184",
              "version_minor": 0,
              "version_major": 2
            },
            "text/plain": [
              "HBox(children=(IntProgress(value=0, max=60000), HTML(value='')))"
            ]
          },
          "metadata": {
            "tags": []
          }
        },
        {
          "output_type": "stream",
          "text": [
            "\r"
          ],
          "name": "stdout"
        },
        {
          "output_type": "display_data",
          "data": {
            "application/vnd.jupyter.widget-view+json": {
              "model_id": "6e20ebff50004c70874c8b452f3c3770",
              "version_minor": 0,
              "version_major": 2
            },
            "text/plain": [
              "HBox(children=(IntProgress(value=1, bar_style='info', max=1), HTML(value='')))"
            ]
          },
          "metadata": {
            "tags": []
          }
        },
        {
          "output_type": "stream",
          "text": [
            "\rShuffling and writing examples to /root/tensorflow_datasets/fashion_mnist/3.0.1.incomplete3IRP25/fashion_mnist-test.tfrecord\n"
          ],
          "name": "stdout"
        },
        {
          "output_type": "display_data",
          "data": {
            "application/vnd.jupyter.widget-view+json": {
              "model_id": "eb0cbef914b0458fb3f5ca694f3a8be3",
              "version_minor": 0,
              "version_major": 2
            },
            "text/plain": [
              "HBox(children=(IntProgress(value=0, max=10000), HTML(value='')))"
            ]
          },
          "metadata": {
            "tags": []
          }
        },
        {
          "output_type": "stream",
          "text": [
            "\u001b[1mDataset fashion_mnist downloaded and prepared to /root/tensorflow_datasets/fashion_mnist/3.0.1. Subsequent calls will reuse this data.\u001b[0m\n",
            "\r"
          ],
          "name": "stdout"
        }
      ]
    },
    {
      "cell_type": "code",
      "metadata": {
        "id": "NtG1NLB5px_1",
        "colab_type": "code",
        "outputId": "39db3ac9-bfb5-4252-f13d-526e8a855743",
        "colab": {
          "base_uri": "https://localhost:8080/",
          "height": 50
        }
      },
      "source": [
        "dataset"
      ],
      "execution_count": 0,
      "outputs": [
        {
          "output_type": "execute_result",
          "data": {
            "text/plain": [
              "{'test': <PrefetchDataset shapes: ((28, 28, 1), ()), types: (tf.uint8, tf.int64)>,\n",
              " 'train': <PrefetchDataset shapes: ((28, 28, 1), ()), types: (tf.uint8, tf.int64)>}"
            ]
          },
          "metadata": {
            "tags": []
          },
          "execution_count": 9
        }
      ]
    },
    {
      "cell_type": "code",
      "metadata": {
        "id": "TzcGtwscqJaf",
        "colab_type": "code",
        "colab": {}
      },
      "source": [
        "train_dataset, test_dataset = dataset['train'], dataset['test']"
      ],
      "execution_count": 0,
      "outputs": []
    },
    {
      "cell_type": "code",
      "metadata": {
        "id": "QamdjqQJqSx-",
        "colab_type": "code",
        "colab": {}
      },
      "source": [
        ""
      ],
      "execution_count": 0,
      "outputs": []
    },
    {
      "cell_type": "markdown",
      "metadata": {
        "id": "iYZw-i55qWOP",
        "colab_type": "text"
      },
      "source": [
        "Datasets are saved in the train and test dataset.   The images are 28 X 28 arrays with the pixel size in the range [0,255]."
      ]
    },
    {
      "cell_type": "markdown",
      "metadata": {
        "id": "2NIlHFUwqluS",
        "colab_type": "text"
      },
      "source": [
        "\n",
        "\n",
        "The images are 28 $\\times$ 28 arrays, with pixel values in the range `[0, 255]`. The *labels* are an array of integers, in the range `[0, 9]`. These correspond to the *class* of clothing the image represents:\n",
        "\n",
        "<table>\n",
        "  <tr>\n",
        "    <th>Label</th>\n",
        "    <th>Class</th>\n",
        "  </tr>\n",
        "  <tr>\n",
        "    <td>0</td>\n",
        "    <td>T-shirt/top</td>\n",
        "  </tr>\n",
        "  <tr>\n",
        "    <td>1</td>\n",
        "    <td>Trouser</td>\n",
        "  </tr>\n",
        "    <tr>\n",
        "    <td>2</td>\n",
        "    <td>Pullover</td>\n",
        "  </tr>\n",
        "    <tr>\n",
        "    <td>3</td>\n",
        "    <td>Dress</td>\n",
        "  </tr>\n",
        "    <tr>\n",
        "    <td>4</td>\n",
        "    <td>Coat</td>\n",
        "  </tr>\n",
        "    <tr>\n",
        "    <td>5</td>\n",
        "    <td>Sandal</td>\n",
        "  </tr>\n",
        "    <tr>\n",
        "    <td>6</td>\n",
        "    <td>Shirt</td>\n",
        "  </tr>\n",
        "    <tr>\n",
        "    <td>7</td>\n",
        "    <td>Sneaker</td>\n",
        "  </tr>\n",
        "    <tr>\n",
        "    <td>8</td>\n",
        "    <td>Bag</td>\n",
        "  </tr>\n",
        "    <tr>\n",
        "    <td>9</td>\n",
        "    <td>Ankle boot</td>\n",
        "  </tr>\n",
        "</table>\n",
        "\n",
        "Each image is mapped to a single label. Since the *class names* are not included with the dataset, store them here to use later when plotting the images:"
      ]
    },
    {
      "cell_type": "code",
      "metadata": {
        "id": "OB5tiKW8yLob",
        "colab_type": "code",
        "colab": {}
      },
      "source": [
        "# lets define the label sizes\n",
        "class_names = ['T-shirt/top', 'Trouser', 'Pullover', 'Dress', 'Coat',\n",
        "               'Sandal',      'Shirt',   'Sneaker',  'Bag',   'Ankle boot']"
      ],
      "execution_count": 0,
      "outputs": []
    },
    {
      "cell_type": "code",
      "metadata": {
        "id": "F2PYKn1mySDX",
        "colab_type": "code",
        "outputId": "d651e5f6-ec65-4ab3-b308-9243629b9aea",
        "colab": {
          "base_uri": "https://localhost:8080/",
          "height": 50
        }
      },
      "source": [
        "num_train_examples = metadata.splits['train'].num_examples\n",
        "num_test_examples = metadata.splits['test'].num_examples\n",
        "print(\"Train examples: {}\\n Test Examples: {}\".format(num_train_examples, num_test_examples))"
      ],
      "execution_count": 0,
      "outputs": [
        {
          "output_type": "stream",
          "text": [
            "Train examples: 60000\n",
            " Test Examples: 10000\n"
          ],
          "name": "stdout"
        }
      ]
    },
    {
      "cell_type": "markdown",
      "metadata": {
        "id": "fjO8ms4lus5M",
        "colab_type": "text"
      },
      "source": [
        "**Preprocessing the Data**\n",
        "\n",
        "The value of all the individual images are in the range[0,255]. So, we need to normalize it in the [0.1]. Hence, we will apply the normalize function to each images "
      ]
    },
    {
      "cell_type": "code",
      "metadata": {
        "id": "TaiygJ2-u9GV",
        "colab_type": "code",
        "colab": {}
      },
      "source": [
        "def normalize(images, labels):\n",
        "    images = tf.cast(images, tf.float32)\n",
        "    images /= 255\n",
        "    return images, labels"
      ],
      "execution_count": 0,
      "outputs": []
    },
    {
      "cell_type": "markdown",
      "metadata": {
        "id": "S04yU7QxvK9b",
        "colab_type": "text"
      },
      "source": [
        "The below map function applies the normalize function to each elements in the train and test datasets."
      ]
    },
    {
      "cell_type": "code",
      "metadata": {
        "id": "1yghAzo0vHZR",
        "colab_type": "code",
        "colab": {}
      },
      "source": [
        "train_dataset = train_dataset.cache()"
      ],
      "execution_count": 0,
      "outputs": []
    },
    {
      "cell_type": "code",
      "metadata": {
        "id": "5i4Apvdivwis",
        "colab_type": "code",
        "colab": {}
      },
      "source": [
        "test_dataset = test_dataset.cache()"
      ],
      "execution_count": 0,
      "outputs": []
    },
    {
      "cell_type": "markdown",
      "metadata": {
        "id": "jsksGhccwed0",
        "colab_type": "text"
      },
      "source": [
        "Explore the processed data"
      ]
    },
    {
      "cell_type": "code",
      "metadata": {
        "id": "P8fqZHt7vygL",
        "colab_type": "code",
        "colab": {}
      },
      "source": [
        "for image, label in test_dataset.take(1):\n",
        "   break"
      ],
      "execution_count": 0,
      "outputs": []
    },
    {
      "cell_type": "markdown",
      "metadata": {
        "id": "asZ-kRRawySa",
        "colab_type": "text"
      },
      "source": [
        "Reshape the images in the 28 X 28 formation"
      ]
    },
    {
      "cell_type": "code",
      "metadata": {
        "id": "BU7g3dHKwqUZ",
        "colab_type": "code",
        "colab": {}
      },
      "source": [
        "image = image.numpy().reshape((28, 28))"
      ],
      "execution_count": 0,
      "outputs": []
    },
    {
      "cell_type": "code",
      "metadata": {
        "id": "Zr9cWDRvw4xZ",
        "colab_type": "code",
        "outputId": "44b64874-1c3b-4db4-9103-0df5ad9962ba",
        "colab": {
          "base_uri": "https://localhost:8080/",
          "height": 264
        }
      },
      "source": [
        "plt.figure()\n",
        "plt.imshow(image, cmap=plt.cm.binary)\n",
        "plt.colorbar()\n",
        "\n",
        "plt.show()"
      ],
      "execution_count": 0,
      "outputs": [
        {
          "output_type": "display_data",
          "data": {
            "image/png": "[encoded data removed]",
            "text/plain": [
              "<Figure size 432x288 with 2 Axes>"
            ]
          },
          "metadata": {
            "tags": [],
            "needs_background": "light"
          }
        }
      ]
    },
    {
      "cell_type": "markdown",
      "metadata": {
        "id": "iy0F4rLPxX8S",
        "colab_type": "text"
      },
      "source": [
        "Display the first 25 Images\n"
      ]
    },
    {
      "cell_type": "code",
      "metadata": {
        "id": "azD52tDDxFH_",
        "colab_type": "code",
        "outputId": "efa0c4d1-9355-401d-94ca-68a0fc928a07",
        "colab": {
          "base_uri": "https://localhost:8080/",
          "height": 475
        }
      },
      "source": [
        "plt.figure(figsize=(10,10))\n",
        "i = 0\n",
        "for image,label in test_dataset.take(20):\n",
        "    image = image.numpy().reshape((28,28))\n",
        "    plt.subplot(5,5, i+1)\n",
        "    plt.xticks([])\n",
        "    plt.yticks([])\n",
        "    plt.grid(False)\n",
        "    plt.imshow(image, cmap=plt.cm.binary)\n",
        "    plt.xlabel(class_names[label])\n",
        "    i = i + 1\n",
        "plt.show()"
      ],
      "execution_count": 0,
      "outputs": [
        {
          "output_type": "display_data",
          "data": {
            "image/png": "[encoded data removed]",
            "text/plain": [
              "<Figure size 720x720 with 20 Axes>"
            ]
          },
          "metadata": {
            "tags": []
          }
        }
      ]
    },
    {
      "cell_type": "markdown",
      "metadata": {
        "id": "tgm9lxGBy_28",
        "colab_type": "text"
      },
      "source": [
        "**Build the model**\n",
        "\n",
        "Building the neural network requires the \n",
        "\n",
        "(1) configuration of the model\n",
        "\n",
        "(2) compiling of the model\n",
        "\n",
        "**We will take 3 layers**:\n",
        "\n",
        "(1) Dense Layers for the Hidden Neural\n",
        "\n",
        "(2) Dense Layer for the Output Label\n",
        "\n",
        "(3) Flatten Layer to convert 2 D into 1 D array."
      ]
    },
    {
      "cell_type": "code",
      "metadata": {
        "id": "pdG7n4MMyHdR",
        "colab_type": "code",
        "colab": {}
      },
      "source": [
        "model = tf.keras.Sequential([tf.keras.layers.Flatten(input_shape=(28,28,1)),\n",
        "                             tf.keras.layers.Dense(128, activation=tf.nn.relu),\n",
        "                             tf.keras.layers.Dense(10)\n",
        "                             ])"
      ],
      "execution_count": 0,
      "outputs": []
    },
    {
      "cell_type": "code",
      "metadata": {
        "id": "yiM3cWDzz4br",
        "colab_type": "code",
        "outputId": "894f3e60-5549-4218-c706-987fa956dd3b",
        "colab": {
          "base_uri": "https://localhost:8080/",
          "height": 33
        }
      },
      "source": [
        "model"
      ],
      "execution_count": 0,
      "outputs": [
        {
          "output_type": "execute_result",
          "data": {
            "text/plain": [
              "<tensorflow.python.keras.engine.sequential.Sequential at 0x7ff4ae67fb70>"
            ]
          },
          "metadata": {
            "tags": []
          },
          "execution_count": 32
        }
      ]
    },
    {
      "cell_type": "markdown",
      "metadata": {
        "id": "_NSlwIwDz8Hf",
        "colab_type": "text"
      },
      "source": [
        "**Flatten**:-  Layers to convert 2d array into the 1D array. It has no parameters\n",
        "\n"
      ]
    },
    {
      "cell_type": "markdown",
      "metadata": {
        "id": "upzSJqp90PWe",
        "colab_type": "text"
      },
      "source": [
        "**Compile the model**:\n",
        "\n",
        "For compiling the model, it requires many functions like:\n",
        "\n",
        "(1) **Loss Function:**  An algorithm to calcualte how far the model's ouputs from the respective inputs\n",
        "\n",
        "(2) **Optimizer**:  An algorithm to tune the inner parameters\n",
        "\n",
        "(3) **Metrice**: To calculate the fractions of the images that are correctly classified. i.e: accuracy"
      ]
    },
    {
      "cell_type": "code",
      "metadata": {
        "id": "3DepLXJzz5VC",
        "colab_type": "code",
        "colab": {}
      },
      "source": [
        "# Compile the model\n",
        "\n",
        "model.compile(optimizer='adam', \n",
        "              metrics=['accuracy'],\n",
        "              loss=tf.keras.losses.SparseCategoricalCrossentropy(from_logits=True))"
      ],
      "execution_count": 0,
      "outputs": []
    },
    {
      "cell_type": "markdown",
      "metadata": {
        "id": "lJkY0owB1NSF",
        "colab_type": "text"
      },
      "source": [
        "## Train the model\n",
        "\n",
        "First, we define the iteration behavior for the train dataset:\n",
        "1. Repeat forever by specifying `dataset.repeat()` (the `epochs` parameter described below limits how long we perform training).\n",
        "2. The `dataset.shuffle(60000)` randomizes the order so our model cannot learn anything from the order of the examples.\n",
        "3. And `dataset.batch(32)` tells `model.fit` to use batches of 32 images and labels when updating the model variables.\n",
        "\n",
        "Training is performed by calling the `model.fit` method:\n",
        "1. Feed the training data to the model using `train_dataset`.\n",
        "2. The model learns to associate images and labels.\n",
        "3. The `epochs=5` parameter limits training to 5 full iterations of the training dataset, so a total of 5 * 60000 = 300000 examples.\n",
        "\n",
        "(Don't worry about `steps_per_epoch`, the requirement to have this flag will soon be removed.)"
      ]
    },
    {
      "cell_type": "code",
      "metadata": {
        "id": "mfsfsACW0_HZ",
        "colab_type": "code",
        "colab": {}
      },
      "source": [
        "batch_size=32\n",
        "train_dataset = train_dataset.cache().repeat().shuffle(num_train_examples).batch(batch_size)"
      ],
      "execution_count": 0,
      "outputs": []
    },
    {
      "cell_type": "code",
      "metadata": {
        "id": "XzupVBGY1buj",
        "colab_type": "code",
        "colab": {}
      },
      "source": [
        "test_dataset = test_dataset.cache().batch(batch_size)"
      ],
      "execution_count": 0,
      "outputs": []
    },
    {
      "cell_type": "code",
      "metadata": {
        "id": "81SUUpP41g5E",
        "colab_type": "code",
        "outputId": "b5db487f-6a57-45f3-f3af-ff14632c85ed",
        "colab": {
          "base_uri": "https://localhost:8080/",
          "height": 33
        }
      },
      "source": [
        "test_dataset"
      ],
      "execution_count": 0,
      "outputs": [
        {
          "output_type": "execute_result",
          "data": {
            "text/plain": [
              "<BatchDataset shapes: ((None, 28, 28, 1), (None,)), types: (tf.uint8, tf.int64)>"
            ]
          },
          "metadata": {
            "tags": []
          },
          "execution_count": 37
        }
      ]
    },
    {
      "cell_type": "code",
      "metadata": {
        "id": "dibGdghJ1hmo",
        "colab_type": "code",
        "outputId": "cf8c7354-113b-4f0f-bee3-d869c9620f05",
        "colab": {
          "base_uri": "https://localhost:8080/",
          "height": 200
        }
      },
      "source": [
        "model.fit(train_dataset, epochs=5, steps_per_epoch=math.ceil(num_train_examples/batch_size))"
      ],
      "execution_count": 0,
      "outputs": [
        {
          "output_type": "stream",
          "text": [
            "Epoch 1/5\n",
            "1875/1875 [==============================] - 4s 2ms/step - loss: 3.1952 - accuracy: 0.6914\n",
            "Epoch 2/5\n",
            "1875/1875 [==============================] - 4s 2ms/step - loss: 0.6845 - accuracy: 0.7443\n",
            "Epoch 3/5\n",
            "1875/1875 [==============================] - 4s 2ms/step - loss: 0.5603 - accuracy: 0.8049\n",
            "Epoch 4/5\n",
            "1875/1875 [==============================] - 4s 2ms/step - loss: 0.5308 - accuracy: 0.8170\n",
            "Epoch 5/5\n",
            "1875/1875 [==============================] - 4s 2ms/step - loss: 0.5046 - accuracy: 0.8267\n"
          ],
          "name": "stdout"
        },
        {
          "output_type": "execute_result",
          "data": {
            "text/plain": [
              "<tensorflow.python.keras.callbacks.History at 0x7ff4adc776d8>"
            ]
          },
          "metadata": {
            "tags": []
          },
          "execution_count": 39
        }
      ]
    },
    {
      "cell_type": "markdown",
      "metadata": {
        "id": "v3ZdeTE01yB-",
        "colab_type": "text"
      },
      "source": [
        ""
      ]
    },
    {
      "cell_type": "markdown",
      "metadata": {
        "id": "9X9wQbwZ1sn5",
        "colab_type": "text"
      },
      "source": [
        "From the model above, we got the 83% accuracy"
      ]
    },
    {
      "cell_type": "markdown",
      "metadata": {
        "id": "C9Z0JhSc12pr",
        "colab_type": "text"
      },
      "source": [
        "**Evaluate the accuracy**:\n",
        "\n"
      ]
    },
    {
      "cell_type": "code",
      "metadata": {
        "id": "oklP0uAp1ojC",
        "colab_type": "code",
        "outputId": "cafaf8f5-91e9-4508-cd37-88980a113ab6",
        "colab": {
          "base_uri": "https://localhost:8080/",
          "height": 33
        }
      },
      "source": [
        "test_loss = test_accuracy = model.evaluate(test_dataset,steps=math.ceil(num_test_examples/32))"
      ],
      "execution_count": 0,
      "outputs": [
        {
          "output_type": "stream",
          "text": [
            "313/313 [==============================] - 2s 6ms/step - loss: 0.5925 - accuracy: 0.8053\n"
          ],
          "name": "stdout"
        }
      ]
    },
    {
      "cell_type": "markdown",
      "metadata": {
        "id": "1IbeNelW2ERO",
        "colab_type": "text"
      },
      "source": [
        "From the test dataset, we got the accuracy 81% with the test images."
      ]
    },
    {
      "cell_type": "markdown",
      "metadata": {
        "id": "jZbyTfqr2OMt",
        "colab_type": "text"
      },
      "source": [
        "### Predictions"
      ]
    },
    {
      "cell_type": "code",
      "metadata": {
        "id": "ZAby0gqq2Aa2",
        "colab_type": "code",
        "colab": {}
      },
      "source": [
        "for test_images, test_labels in test_dataset.take(1):\n",
        "    test_images = test_images.numpy()\n",
        "    test_labels = test_labels.numpy()\n",
        "    predictions = model.predict(test_images)"
      ],
      "execution_count": 0,
      "outputs": []
    },
    {
      "cell_type": "code",
      "metadata": {
        "id": "REHtyB2P2qcx",
        "colab_type": "code",
        "outputId": "41cd9507-48a6-4284-9d13-c5bd7c612a5b",
        "colab": {
          "base_uri": "https://localhost:8080/",
          "height": 1000
        }
      },
      "source": [
        "predictions"
      ],
      "execution_count": 0,
      "outputs": [
        {
          "output_type": "execute_result",
          "data": {
            "text/plain": [
              "array([[ 2.06600761e+01,  9.93353462e+00,  2.80631618e+01,\n",
              "         2.08711090e+01,  3.15426464e+01, -1.62937698e+01,\n",
              "         2.98600082e+01, -3.98381615e+01,  1.42566776e+01,\n",
              "        -8.68863602e+01],\n",
              "       [ 2.83224411e+01,  1.35492134e+01,  3.72042427e+01,\n",
              "         2.87767735e+01,  4.12414780e+01, -1.28009176e+01,\n",
              "         4.11945572e+01, -3.69988747e+01,  1.81766090e+01,\n",
              "        -9.74316483e+01],\n",
              "       [-3.61497040e+01,  9.13702679e+00, -4.40424004e+01,\n",
              "         4.64984179e+00, -2.95753899e+01,  4.64340782e+01,\n",
              "        -1.90911460e+00,  4.69121666e+01,  1.77621784e+01,\n",
              "         4.90751877e+01],\n",
              "       [-3.00240498e+01,  2.10989170e+01, -4.70321312e+01,\n",
              "         1.47902451e+01, -4.55720139e+01,  6.43895569e+01,\n",
              "        -1.28519940e+00,  6.93277817e+01,  3.47355423e+01,\n",
              "         6.79813156e+01],\n",
              "       [ 1.30968904e+01,  1.88571846e+00, -3.05665245e+01,\n",
              "        -3.71086540e+01, -1.89812355e+01,  7.67576294e+01,\n",
              "        -4.84169655e+01,  6.60615997e+01,  3.35770531e+01,\n",
              "         6.60032043e+01],\n",
              "       [ 4.88047333e+01,  7.73837433e+01,  5.62940445e+01,\n",
              "         5.88655205e+01,  6.09969711e+01, -8.59073105e+01,\n",
              "         4.29438934e+01, -2.05939529e+02,  4.30407600e+01,\n",
              "        -1.93990570e+02],\n",
              "       [ 3.46327209e+01,  2.83891277e+01,  2.68222904e+01,\n",
              "         2.73732014e+01,  2.02250233e+01, -2.61789627e+01,\n",
              "         3.17526474e+01, -1.19756653e+02,  2.16669884e+01,\n",
              "        -1.05958496e+02],\n",
              "       [-1.25160468e+00,  1.93948233e+00, -4.02101364e+01,\n",
              "        -5.40704880e+01, -2.94634933e+01,  5.69952087e+01,\n",
              "        -3.01972580e+01,  5.18404541e+01,  2.01871796e+01,\n",
              "         5.18164787e+01],\n",
              "       [ 2.58930516e+00,  2.45689659e+01, -2.03904228e+01,\n",
              "         2.20998402e+01, -4.28947983e+01,  5.03201103e+01,\n",
              "        -1.36225414e+00,  5.76619797e+01,  4.47909966e+01,\n",
              "         5.09925957e+01],\n",
              "       [ 1.73980408e+01,  1.28669062e+01,  2.80934734e+01,\n",
              "         1.73110943e+01,  3.02344456e+01, -3.88747597e+01,\n",
              "         2.52547112e+01, -7.75797348e+01,  1.12244978e+01,\n",
              "        -1.26461731e+02],\n",
              "       [ 1.21019316e+01,  1.23750811e+01,  1.23007040e+01,\n",
              "         8.99484158e+00,  7.33709955e+00, -2.55119972e+01,\n",
              "         1.13223724e+01, -7.04910278e+01,  5.84928846e+00,\n",
              "        -6.98839264e+01],\n",
              "       [-1.58073580e+00, -5.66694593e+00, -2.98810887e+00,\n",
              "        -1.85799563e+00, -1.45316124e-03, -1.91652882e+00,\n",
              "        -3.26005292e+00, -5.53178978e+00,  4.29747629e+00,\n",
              "        -4.90386724e+00],\n",
              "       [ 1.40184374e+01,  1.63736076e+01,  2.72502480e+01,\n",
              "         1.34782887e+01,  2.38346062e+01, -5.09436722e+01,\n",
              "         2.14636936e+01, -9.43073425e+01,  3.67713475e+00,\n",
              "        -1.38802994e+02],\n",
              "       [ 1.61251812e+01,  1.60794067e+01,  1.48925371e+01,\n",
              "         1.87945805e+01,  1.67897148e+01, -2.31264067e+00,\n",
              "         1.57741594e+01, -2.10458603e+01,  1.50104980e+01,\n",
              "        -1.60177078e+01],\n",
              "       [-5.73462639e+01,  1.21507854e+01, -6.40430222e+01,\n",
              "         3.68435001e+00, -3.80544891e+01,  6.42422638e+01,\n",
              "        -6.13512516e-01,  6.54051590e+01,  1.60437756e+01,\n",
              "         6.98339615e+01],\n",
              "       [ 1.98102272e+00,  2.65739775e+00,  3.78215528e+00,\n",
              "         1.80334401e+00,  1.45683730e+00, -1.07129555e+01,\n",
              "         2.24117088e+00, -2.04946461e+01,  5.98900497e-01,\n",
              "        -2.23986626e+01],\n",
              "       [ 5.43746185e+00,  2.54828491e+01, -2.25976715e+01,\n",
              "         1.92210369e+01, -4.64597015e+01,  5.51450005e+01,\n",
              "        -4.92739105e+00,  6.19896507e+01,  5.04022484e+01,\n",
              "         5.48415871e+01],\n",
              "       [ 4.48406887e+00,  2.50271626e+01, -1.90680790e+01,\n",
              "         2.27361317e+01, -4.31538315e+01,  5.00096092e+01,\n",
              "        -1.39251900e+00,  5.75659523e+01,  4.58113174e+01,\n",
              "         5.05314255e+01],\n",
              "       [ 7.67777300e+00,  1.22727318e+01,  1.85216351e+01,\n",
              "         6.96593475e+00,  1.43115177e+01, -4.65823135e+01,\n",
              "         1.21727486e+01, -8.36853256e+01,  1.34291664e-01,\n",
              "        -1.14180748e+02],\n",
              "       [ 9.54696941e+00,  9.50192070e+00,  1.77389641e+01,\n",
              "         9.07165623e+00,  1.51651926e+01, -3.05083733e+01,\n",
              "         1.46161308e+01, -5.70387840e+01,  2.83598137e+00,\n",
              "        -8.56964798e+01],\n",
              "       [-1.28305995e+00,  1.10666358e+00,  1.62990928e+00,\n",
              "        -1.98931205e+00, -1.89775515e+00, -1.67020531e+01,\n",
              "        -1.33582401e+00, -2.79276657e+01, -2.72750711e+00,\n",
              "        -3.04362926e+01],\n",
              "       [ 2.26494026e+01,  1.20010824e+01,  3.10405807e+01,\n",
              "         2.28372612e+01,  3.31697769e+01, -1.66488342e+01,\n",
              "         3.31456108e+01, -4.04583282e+01,  1.36504612e+01,\n",
              "        -9.07589569e+01],\n",
              "       [ 7.80898190e+00,  4.54760742e+00,  1.35981493e+01,\n",
              "         7.60872221e+00,  1.68321056e+01, -2.82098255e+01,\n",
              "         1.06811066e+01, -5.56749153e+01,  8.37650585e+00,\n",
              "        -8.29117813e+01],\n",
              "       [ 1.19342470e+01,  1.48314457e+01,  2.47769909e+01,\n",
              "         1.14008198e+01,  2.29348984e+01, -5.45573273e+01,\n",
              "         1.79783344e+01, -1.00772980e+02,  4.45061445e+00,\n",
              "        -1.43457016e+02],\n",
              "       [ 5.91285181e+00,  4.08362865e+00,  8.30930424e+00,\n",
              "         5.87949848e+00,  6.83191872e+00, -8.67717171e+00,\n",
              "         7.96251488e+00, -1.88960094e+01,  3.19938684e+00,\n",
              "        -2.80071297e+01],\n",
              "       [ 5.85951233e+00,  3.56142235e+01, -2.77252865e+01,\n",
              "         3.23203735e+01, -6.03703384e+01,  7.08611450e+01,\n",
              "        -2.25823903e+00,  8.17546768e+01,  6.43055038e+01,\n",
              "         7.20846024e+01],\n",
              "       [ 2.61931896e+00,  1.19474707e+01, -9.27213192e+00,\n",
              "         1.16947050e+01, -2.24949379e+01,  2.53670425e+01,\n",
              "        -9.35298204e-02,  2.90296211e+01,  2.33426838e+01,\n",
              "         2.51053734e+01],\n",
              "       [ 1.80458450e+01,  1.28741083e+01,  2.82910748e+01,\n",
              "         1.79621429e+01,  2.95631981e+01, -3.38697205e+01,\n",
              "         2.64318905e+01, -6.85096359e+01,  1.06064978e+01,\n",
              "        -1.16294380e+02],\n",
              "       [ 1.30438948e+01,  1.38019161e+01,  2.46529503e+01,\n",
              "         1.26049023e+01,  2.30027180e+01, -4.58212624e+01,\n",
              "         1.96074028e+01, -8.59232407e+01,  5.20650959e+00,\n",
              "        -1.27456886e+02],\n",
              "       [ 1.70644741e+01,  1.78807697e+01,  3.18954391e+01,\n",
              "         1.67098370e+01,  3.16831036e+01, -5.98917427e+01,\n",
              "         2.52650299e+01, -1.13120941e+02,  8.36720753e+00,\n",
              "        -1.68286453e+02],\n",
              "       [ 3.00083876e+00,  1.46235199e+01, -1.12763405e+01,\n",
              "         1.39537334e+01, -2.67216587e+01,  3.04088058e+01,\n",
              "        -3.59297395e-01,  3.48680305e+01,  2.79396687e+01,\n",
              "         3.03074322e+01],\n",
              "       [-1.27054596e+01,  9.02720809e-01, -1.84684258e+01,\n",
              "         1.92183304e+00, -1.30579329e+01,  1.78220749e+01,\n",
              "        -3.62914872e+00,  1.58015022e+01,  1.31505060e+01,\n",
              "         1.65462666e+01]], dtype=float32)"
            ]
          },
          "metadata": {
            "tags": []
          },
          "execution_count": 43
        }
      ]
    },
    {
      "cell_type": "code",
      "metadata": {
        "id": "5T8ESsTt2s6K",
        "colab_type": "code",
        "outputId": "f442efc3-4fc4-4539-e0dd-6891096a91b9",
        "colab": {
          "base_uri": "https://localhost:8080/",
          "height": 66
        }
      },
      "source": [
        "predictions[0]"
      ],
      "execution_count": 0,
      "outputs": [
        {
          "output_type": "execute_result",
          "data": {
            "text/plain": [
              "array([ 20.660076,   9.933535,  28.063162,  20.871109,  31.542646,\n",
              "       -16.29377 ,  29.860008, -39.83816 ,  14.256678, -86.88636 ],\n",
              "      dtype=float32)"
            ]
          },
          "metadata": {
            "tags": []
          },
          "execution_count": 44
        }
      ]
    },
    {
      "cell_type": "markdown",
      "metadata": {
        "id": "iHSS-4y62x0H",
        "colab_type": "text"
      },
      "source": [
        "Predictions is an array of the 10 numbers which declares the possibility of the labels"
      ]
    },
    {
      "cell_type": "code",
      "metadata": {
        "id": "exZVnA6N2v7v",
        "colab_type": "code",
        "outputId": "8eddc1e4-7b9e-4184-8224-216683d0f4d4",
        "colab": {
          "base_uri": "https://localhost:8080/",
          "height": 33
        }
      },
      "source": [
        "# get the max values\n",
        "np.argmax(predictions[0])"
      ],
      "execution_count": 0,
      "outputs": [
        {
          "output_type": "execute_result",
          "data": {
            "text/plain": [
              "4"
            ]
          },
          "metadata": {
            "tags": []
          },
          "execution_count": 47
        }
      ]
    },
    {
      "cell_type": "code",
      "metadata": {
        "id": "q7f4GWR226Pr",
        "colab_type": "code",
        "outputId": "7a3e3e62-61c6-4663-c25d-91909463797c",
        "colab": {
          "base_uri": "https://localhost:8080/",
          "height": 33
        }
      },
      "source": [
        "test_labels[0]"
      ],
      "execution_count": 0,
      "outputs": [
        {
          "output_type": "execute_result",
          "data": {
            "text/plain": [
              "4"
            ]
          },
          "metadata": {
            "tags": []
          },
          "execution_count": 48
        }
      ]
    },
    {
      "cell_type": "code",
      "metadata": {
        "id": "mEmnLDwq3DbU",
        "colab_type": "code",
        "colab": {}
      },
      "source": [
        "def plot_image(i, predictions_array, true_labels, images):\n",
        "  predictions_array, true_label, img = predictions_array[i], true_labels[i], images[i]\n",
        "  predictions_array = tf.nn.softmax(predictions_array)\n",
        "  print(predictions_array)\n",
        "  plt.grid(False)\n",
        "  plt.xticks([])\n",
        "  plt.yticks([])\n",
        "  \n",
        "  plt.imshow(img[...,0], cmap=plt.cm.binary)\n",
        "\n",
        "  predicted_label = np.argmax(predictions_array)\n",
        "  if predicted_label == true_label:\n",
        "    color = 'blue'\n",
        "  else:\n",
        "    color = 'red'\n",
        "  \n",
        "  plt.xlabel(\"{} {:2.0f}% ({})\".format(class_names[predicted_label],\n",
        "                                100*np.max(predictions_array),\n",
        "                                class_names[true_label]),\n",
        "                                color=color)"
      ],
      "execution_count": 0,
      "outputs": []
    },
    {
      "cell_type": "code",
      "metadata": {
        "id": "TuKnmuTe3-LD",
        "colab_type": "code",
        "outputId": "0de7be56-9a1e-40bc-c858-65c1d28733f7",
        "colab": {
          "base_uri": "https://localhost:8080/",
          "height": 281
        }
      },
      "source": [
        "i = 0\n",
        "plt.figure(figsize=(6,3))\n",
        "plt.subplot(1,2,1)\n",
        "plot_image(i, predictions, test_labels, test_images)\n",
        "plt.subplot(1,2,2)\n",
        "# plot_value_array(i, predictions, test_labels)"
      ],
      "execution_count": 0,
      "outputs": [
        {
          "output_type": "stream",
          "text": [
            "tf.Tensor(\n",
            "[1.5436863e-05 3.3890754e-10 2.5332514e-02 1.9063798e-05 8.2186264e-01\n",
            " 1.3794528e-21 1.5277025e-01 8.2131391e-32 2.5562208e-08 0.0000000e+00], shape=(10,), dtype=float32)\n"
          ],
          "name": "stdout"
        },
        {
          "output_type": "execute_result",
          "data": {
            "text/plain": [
              "<matplotlib.axes._subplots.AxesSubplot at 0x7ff4adab2ac8>"
            ]
          },
          "metadata": {
            "tags": []
          },
          "execution_count": 58
        },
        {
          "output_type": "display_data",
          "data": {
            "image/png": "[encoded data removed]",
            "text/plain": [
              "<Figure size 432x216 with 2 Axes>"
            ]
          },
          "metadata": {
            "tags": [],
            "needs_background": "light"
          }
        }
      ]
    },
    {
      "cell_type": "code",
      "metadata": {
        "id": "7J2vU6u73__4",
        "colab_type": "code",
        "outputId": "9af6dd69-e1d7-4ab2-cc4f-acb4c64bd246",
        "colab": {
          "base_uri": "https://localhost:8080/",
          "height": 1000
        }
      },
      "source": [
        "# Plot the first X test images, their predicted label, and the true label\n",
        "# Color correct predictions in blue, incorrect predictions in red\n",
        "num_rows = 5\n",
        "num_cols = 3\n",
        "num_images = num_rows*num_cols\n",
        "plt.figure(figsize=(2*2*num_cols, 2*num_rows))\n",
        "for i in range(num_images):\n",
        "  plt.subplot(num_rows, 2*num_cols, 2*i+1)\n",
        "  plot_image(i, predictions, test_labels, test_images)\n",
        "  plt.subplot(num_rows, 2*num_cols, 2*i+2)\n",
        "#   plot_value_array(i, predictions, test_labels)"
      ],
      "execution_count": 0,
      "outputs": [
        {
          "output_type": "stream",
          "text": [
            "tf.Tensor(\n",
            "[1.5436863e-05 3.3890754e-10 2.5332514e-02 1.9063798e-05 8.2186264e-01\n",
            " 1.3794528e-21 1.5277025e-01 8.2131391e-32 2.5562208e-08 0.0000000e+00], shape=(10,), dtype=float32)\n",
            "tf.Tensor(\n",
            "[1.2429891e-06 4.7701941e-13 8.9492099e-03 1.9578588e-06 5.0714684e-01\n",
            " 1.7171932e-24 4.8390073e-01 5.3183721e-35 4.8774006e-11 0.0000000e+00], shape=(10,), dtype=float32)\n",
            "tf.Tensor(\n",
            "[8.1869142e-38 3.8097623e-18 0.0000000e+00 4.2868432e-20 5.8655704e-35\n",
            " 6.0089841e-02 6.0760194e-23 9.6924193e-02 2.1220381e-14 8.4298593e-01], shape=(10,), dtype=float32)\n",
            "tf.Tensor(\n",
            "[0.0000000e+00 8.9450203e-22 0.0000000e+00 1.6283985e-24 0.0000000e+00\n",
            " 5.6554619e-03 1.6993498e-31 7.8906333e-01 7.4798552e-16 2.0528117e-01], shape=(10,), dtype=float32)\n",
            "tf.Tensor(\n",
            "[2.2515050e-28 3.0445533e-33 0.0000000e+00 0.0000000e+00 0.0000000e+00\n",
            " 9.9995601e-01 0.0000000e+00 2.2633632e-05 1.7656104e-19 2.1349782e-05], shape=(10,), dtype=float32)\n",
            "tf.Tensor(\n",
            "[3.8751955e-13 9.9999988e-01 6.9320261e-10 9.0706411e-09 7.6439044e-08\n",
            " 0.0000000e+00 1.1039852e-15 0.0000000e+00 1.2162751e-15 0.0000000e+00], shape=(10,), dtype=float32)\n",
            "tf.Tensor(\n",
            "[9.4412178e-01 1.8342981e-03 3.8282576e-04 6.6413864e-04 5.2220912e-07\n",
            " 3.6715497e-27 5.2994154e-02 0.0000000e+00 2.2084212e-06 0.0000000e+00], shape=(10,), dtype=float32)\n",
            "tf.Tensor(\n",
            "[4.9980877e-26 1.2152804e-24 0.0000000e+00 0.0000000e+00 2.7959982e-38\n",
            " 9.8872161e-01 1.3423537e-38 5.7067983e-03 1.0222334e-16 5.5716033e-03], shape=(10,), dtype=float32)\n",
            "tf.Tensor(\n",
            "[1.2061711e-24 4.2369558e-15 1.2631101e-34 3.5869511e-16 0.0000000e+00\n",
            " 6.4659718e-04 2.3188240e-26 9.9808419e-01 2.5666711e-06 1.2667488e-03], shape=(10,), dtype=float32)\n",
            "tf.Tensor(\n",
            "[2.3675061e-06 2.5494398e-08 1.0453422e-01 2.1703547e-06 8.8934624e-01\n",
            " 8.6163567e-31 6.1150454e-03 0.0000000e+00 4.9334989e-09 0.0000000e+00], shape=(10,), dtype=float32)\n",
            "tf.Tensor(\n",
            "[2.47048393e-01 3.24645489e-01 3.01375419e-01 1.10507067e-02\n",
            " 2.10591964e-03 1.14093469e-17 1.13298416e-01 3.33514259e-37\n",
            " 4.75656736e-04 6.12033359e-37], shape=(10,), dtype=float32)\n",
            "tf.Tensor(\n",
            "[2.7397450e-03 4.6035362e-05 6.7064946e-04 2.0763364e-03 1.3291803e-02\n",
            " 1.9582903e-03 5.1096576e-04 5.2697422e-05 9.7855479e-01 9.8739845e-05], shape=(10,), dtype=float32)\n",
            "tf.Tensor(\n",
            "[1.7304568e-06 1.8238881e-05 9.6530169e-01 1.0082707e-06 3.1715289e-02\n",
            " 1.0604091e-34 2.9620642e-03 0.0000000e+00 5.5845783e-11 0.0000000e+00], shape=(10,), dtype=float32)\n",
            "tf.Tensor(\n",
            "[5.0881140e-02 4.8604585e-02 1.4832908e-02 7.3428082e-01 9.8891765e-02\n",
            " 5.0016385e-10 3.5818715e-02 3.6591439e-18 1.6689990e-02 5.5857090e-16], shape=(10,), dtype=float32)\n",
            "tf.Tensor(\n",
            "[0.0000000e+00 8.7451776e-26 0.0000000e+00 1.8400989e-29 0.0000000e+00\n",
            " 3.6712107e-03 2.5020999e-31 1.1744872e-02 4.2901518e-24 9.8458397e-01], shape=(10,), dtype=float32)\n"
          ],
          "name": "stdout"
        },
        {
          "output_type": "display_data",
          "data": {
            "image/png": "[encoded data removed]",
            "text/plain": [
              "<Figure size 864x720 with 30 Axes>"
            ]
          },
          "metadata": {
            "tags": [],
            "needs_background": "light"
          }
        }
      ]
    },
    {
      "cell_type": "markdown",
      "metadata": {
        "id": "7GsdraWX4f5Q",
        "colab_type": "text"
      },
      "source": [
        "**FINISH**\n",
        "\n",
        "We successfully determined the fashion clothing classification using the neural networks."
      ]
    },
    {
      "cell_type": "code",
      "metadata": {
        "id": "f_2Hh0ua4Fde",
        "colab_type": "code",
        "colab": {}
      },
      "source": [
        ""
      ],
      "execution_count": 0,
      "outputs": []
    }
  ]
}