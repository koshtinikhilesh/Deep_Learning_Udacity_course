{
  "nbformat": 4,
  "nbformat_minor": 0,
  "metadata": {
    "colab": {
      "name": "LSTM_subwords_Udacity",
      "provenance": [],
      "collapsed_sections": []
    },
    "kernelspec": {
      "name": "python3",
      "display_name": "Python 3"
    }
  },
  "cells": [
    {
      "cell_type": "code",
      "metadata": {
        "id": "lCTC2OVQPVTE",
        "colab_type": "code",
        "colab": {}
      },
      "source": [
        ""
      ],
      "execution_count": null,
      "outputs": []
    },
    {
      "cell_type": "markdown",
      "metadata": {
        "id": "9mkJ-U54Pbbn",
        "colab_type": "text"
      },
      "source": [
        "Inspired from https://colab.research.google.com/github/tensorflow/examples/blob/master/courses/udacity_intro_to_tensorflow_for_deep_learning/l10c01_nlp_lstms_with_reviews_subwords_dataset.ipynb#scrollTo=G2FJR3IVBt30\n",
        "\n",
        "\n",
        "\n",
        "Udacity course:   Introduction to Deep Learning with Tensorflow"
      ]
    },
    {
      "cell_type": "markdown",
      "metadata": {
        "id": "9nHlFrzJPnzk",
        "colab_type": "text"
      },
      "source": [
        "In this notebook, we will compare the LSTM(Long Short Term Memory). Actualy LSTM is the neural network which depends on\n",
        "\n",
        "(1) current input\n",
        "\n",
        "(2) Input from the previous memory"
      ]
    },
    {
      "cell_type": "markdown",
      "metadata": {
        "id": "bES5zhwKQEVe",
        "colab_type": "text"
      },
      "source": [
        "We will take the Amazon and Yelp reviews dataset. And compare the model with the different bbidirectional datasets too."
      ]
    },
    {
      "cell_type": "code",
      "metadata": {
        "id": "Sd69-PdqPhrp",
        "colab_type": "code",
        "colab": {
          "base_uri": "https://localhost:8080/",
          "height": 332
        },
        "outputId": "057761ac-0cf6-4051-daed-090444461d1a"
      },
      "source": [
        "## Get the Datasets\n",
        "!wget --no-check-certificate \\\n",
        "    https://drive.google.com/uc?id=13ySLC_ue6Umt9RJYSeM2t-V0kCv-4C-P -O /tmp/sentiment.csv"
      ],
      "execution_count": 1,
      "outputs": [
        {
          "output_type": "stream",
          "text": [
            "--2020-06-20 05:46:29--  https://drive.google.com/uc?id=13ySLC_ue6Umt9RJYSeM2t-V0kCv-4C-P\n",
            "Resolving drive.google.com (drive.google.com)... 172.217.203.100, 172.217.203.113, 172.217.203.139, ...\n",
            "Connecting to drive.google.com (drive.google.com)|172.217.203.100|:443... connected.\n",
            "HTTP request sent, awaiting response... 302 Moved Temporarily\n",
            "Location: https://doc-08-ak-docs.googleusercontent.com/docs/securesc/ha0ro937gcuc7l7deffksulhg5h7mbp1/k7hc1aqlli0u7blgd53ltnslengntb45/1592631975000/11118900490791463723/*/13ySLC_ue6Umt9RJYSeM2t-V0kCv-4C-P [following]\n",
            "Warning: wildcards not supported in HTTP.\n",
            "--2020-06-20 05:46:30--  https://doc-08-ak-docs.googleusercontent.com/docs/securesc/ha0ro937gcuc7l7deffksulhg5h7mbp1/k7hc1aqlli0u7blgd53ltnslengntb45/1592631975000/11118900490791463723/*/13ySLC_ue6Umt9RJYSeM2t-V0kCv-4C-P\n",
            "Resolving doc-08-ak-docs.googleusercontent.com (doc-08-ak-docs.googleusercontent.com)... 172.217.193.132, 2607:f8b0:400c:c03::84\n",
            "Connecting to doc-08-ak-docs.googleusercontent.com (doc-08-ak-docs.googleusercontent.com)|172.217.193.132|:443... connected.\n",
            "HTTP request sent, awaiting response... 200 OK\n",
            "Length: 127831 (125K) [text/csv]\n",
            "Saving to: ‘/tmp/sentiment.csv’\n",
            "\n",
            "\r/tmp/sentiment.csv    0%[                    ]       0  --.-KB/s               \r/tmp/sentiment.csv  100%[===================>] 124.83K  --.-KB/s    in 0.001s  \n",
            "\n",
            "2020-06-20 05:46:30 (96.7 MB/s) - ‘/tmp/sentiment.csv’ saved [127831/127831]\n",
            "\n"
          ],
          "name": "stdout"
        }
      ]
    },
    {
      "cell_type": "code",
      "metadata": {
        "id": "r7biRDlXQ267",
        "colab_type": "code",
        "colab": {}
      },
      "source": [
        "import pandas as pd\n",
        "dataset = pd.read_csv('/tmp/sentiment.csv')"
      ],
      "execution_count": 2,
      "outputs": []
    },
    {
      "cell_type": "code",
      "metadata": {
        "id": "9P0TXOxqQ8PO",
        "colab_type": "code",
        "colab": {
          "base_uri": "https://localhost:8080/",
          "height": 206
        },
        "outputId": "346dbc3f-c609-460f-88e1-7c2b08af5bdf"
      },
      "source": [
        "dataset.head()"
      ],
      "execution_count": 3,
      "outputs": [
        {
          "output_type": "execute_result",
          "data": {
            "text/html": [
              "<div>\n",
              "<style scoped>\n",
              "    .dataframe tbody tr th:only-of-type {\n",
              "        vertical-align: middle;\n",
              "    }\n",
              "\n",
              "    .dataframe tbody tr th {\n",
              "        vertical-align: top;\n",
              "    }\n",
              "\n",
              "    .dataframe thead th {\n",
              "        text-align: right;\n",
              "    }\n",
              "</style>\n",
              "<table border=\"1\" class=\"dataframe\">\n",
              "  <thead>\n",
              "    <tr style=\"text-align: right;\">\n",
              "      <th></th>\n",
              "      <th>Unnamed: 0</th>\n",
              "      <th>text</th>\n",
              "      <th>sentiment</th>\n",
              "    </tr>\n",
              "  </thead>\n",
              "  <tbody>\n",
              "    <tr>\n",
              "      <th>0</th>\n",
              "      <td>0</td>\n",
              "      <td>So there is no way for me to plug it in here i...</td>\n",
              "      <td>0</td>\n",
              "    </tr>\n",
              "    <tr>\n",
              "      <th>1</th>\n",
              "      <td>1</td>\n",
              "      <td>Good case Excellent value.</td>\n",
              "      <td>1</td>\n",
              "    </tr>\n",
              "    <tr>\n",
              "      <th>2</th>\n",
              "      <td>2</td>\n",
              "      <td>Great for the jawbone.</td>\n",
              "      <td>1</td>\n",
              "    </tr>\n",
              "    <tr>\n",
              "      <th>3</th>\n",
              "      <td>3</td>\n",
              "      <td>Tied to charger for conversations lasting more...</td>\n",
              "      <td>0</td>\n",
              "    </tr>\n",
              "    <tr>\n",
              "      <th>4</th>\n",
              "      <td>4</td>\n",
              "      <td>The mic is great.</td>\n",
              "      <td>1</td>\n",
              "    </tr>\n",
              "  </tbody>\n",
              "</table>\n",
              "</div>"
            ],
            "text/plain": [
              "   Unnamed: 0                                               text  sentiment\n",
              "0           0  So there is no way for me to plug it in here i...          0\n",
              "1           1                         Good case Excellent value.          1\n",
              "2           2                             Great for the jawbone.          1\n",
              "3           3  Tied to charger for conversations lasting more...          0\n",
              "4           4                                  The mic is great.          1"
            ]
          },
          "metadata": {
            "tags": []
          },
          "execution_count": 3
        }
      ]
    },
    {
      "cell_type": "markdown",
      "metadata": {
        "id": "r1QYrfhyQ_w5",
        "colab_type": "text"
      },
      "source": [
        "1 is the positive review and O is the negative review"
      ]
    },
    {
      "cell_type": "code",
      "metadata": {
        "id": "k52rHF5MQ9K0",
        "colab_type": "code",
        "colab": {}
      },
      "source": [
        "sentences = dataset['text'].tolist()"
      ],
      "execution_count": 4,
      "outputs": []
    },
    {
      "cell_type": "code",
      "metadata": {
        "id": "kD-etNLKRG6q",
        "colab_type": "code",
        "colab": {
          "base_uri": "https://localhost:8080/",
          "height": 34
        },
        "outputId": "57727e72-9e43-429a-e7db-1392d544931a"
      },
      "source": [
        "sentences[0]"
      ],
      "execution_count": 5,
      "outputs": [
        {
          "output_type": "execute_result",
          "data": {
            "text/plain": [
              "'So there is no way for me to plug it in here in the US unless I go by a converter.'"
            ]
          },
          "metadata": {
            "tags": []
          },
          "execution_count": 5
        }
      ]
    },
    {
      "cell_type": "code",
      "metadata": {
        "id": "5doULRFERIuC",
        "colab_type": "code",
        "colab": {
          "base_uri": "https://localhost:8080/",
          "height": 34
        },
        "outputId": "918382cf-5ebc-4875-c4d7-b5e618253a44"
      },
      "source": [
        "labels = dataset['sentiment'].tolist()\n",
        "labels[0]"
      ],
      "execution_count": 9,
      "outputs": [
        {
          "output_type": "execute_result",
          "data": {
            "text/plain": [
              "0"
            ]
          },
          "metadata": {
            "tags": []
          },
          "execution_count": 9
        }
      ]
    },
    {
      "cell_type": "code",
      "metadata": {
        "id": "5Xx-OZMJRNEO",
        "colab_type": "code",
        "colab": {
          "base_uri": "https://localhost:8080/",
          "height": 278
        },
        "outputId": "5bb0f582-bd7b-43a3-b1e8-0c9241415919"
      },
      "source": [
        "for data in range(5):\n",
        "    print(\"{}:  {}\".format(sentences[data], labels[data]))\n",
        "    print('\\n')"
      ],
      "execution_count": 10,
      "outputs": [
        {
          "output_type": "stream",
          "text": [
            "So there is no way for me to plug it in here in the US unless I go by a converter.:  0\n",
            "\n",
            "\n",
            "Good case Excellent value.:  1\n",
            "\n",
            "\n",
            "Great for the jawbone.:  1\n",
            "\n",
            "\n",
            "Tied to charger for conversations lasting more than 45 minutes.MAJOR PROBLEMS!!:  0\n",
            "\n",
            "\n",
            "The mic is great.:  1\n",
            "\n",
            "\n"
          ],
          "name": "stdout"
        }
      ]
    },
    {
      "cell_type": "markdown",
      "metadata": {
        "id": "7Cm-gdt-TPf_",
        "colab_type": "text"
      },
      "source": [
        "We will use the SubwordTextEncoder.build_from_corpus() to create a subword"
      ]
    },
    {
      "cell_type": "code",
      "metadata": {
        "id": "1TknV10fRiGs",
        "colab_type": "code",
        "colab": {}
      },
      "source": [
        "import tensorflow_datasets as tfds\n",
        "vocab_size = 1000\n",
        "tokenizer = tfds.features.text.SubwordTextEncoder.build_from_corpus(sentences, vocab_size, max_subword_length=5)"
      ],
      "execution_count": 13,
      "outputs": []
    },
    {
      "cell_type": "code",
      "metadata": {
        "id": "CdGvxB7cWRej",
        "colab_type": "code",
        "colab": {
          "base_uri": "https://localhost:8080/",
          "height": 34
        },
        "outputId": "d504ac81-dd9a-4ed7-a231-28e2972dc220"
      },
      "source": [
        "tokenizer.vocab_size"
      ],
      "execution_count": 14,
      "outputs": [
        {
          "output_type": "execute_result",
          "data": {
            "text/plain": [
              "999"
            ]
          },
          "metadata": {
            "tags": []
          },
          "execution_count": 14
        }
      ]
    },
    {
      "cell_type": "code",
      "metadata": {
        "id": "2UERuwhoWaz9",
        "colab_type": "code",
        "colab": {}
      },
      "source": [
        "# check that tokenizer words as expected\n",
        "encoded_sent=tokenizer.encode(sentences[0])"
      ],
      "execution_count": 15,
      "outputs": []
    },
    {
      "cell_type": "code",
      "metadata": {
        "id": "7gXh_4uuWka5",
        "colab_type": "code",
        "colab": {
          "base_uri": "https://localhost:8080/",
          "height": 555
        },
        "outputId": "5aad73e6-1337-4424-c850-e7db9023e1f0"
      },
      "source": [
        "encoded_sent, sentences[0]"
      ],
      "execution_count": 18,
      "outputs": [
        {
          "output_type": "execute_result",
          "data": {
            "text/plain": [
              "([736,\n",
              "  168,\n",
              "  775,\n",
              "  7,\n",
              "  193,\n",
              "  417,\n",
              "  17,\n",
              "  94,\n",
              "  6,\n",
              "  600,\n",
              "  438,\n",
              "  775,\n",
              "  14,\n",
              "  19,\n",
              "  141,\n",
              "  19,\n",
              "  1,\n",
              "  828,\n",
              "  826,\n",
              "  775,\n",
              "  99,\n",
              "  445,\n",
              "  4,\n",
              "  174,\n",
              "  361,\n",
              "  5,\n",
              "  79,\n",
              "  227,\n",
              "  139,\n",
              "  789],\n",
              " 'So there is no way for me to plug it in here in the US unless I go by a converter.')"
            ]
          },
          "metadata": {
            "tags": []
          },
          "execution_count": 18
        }
      ]
    },
    {
      "cell_type": "code",
      "metadata": {
        "id": "SLWGggmEWlbG",
        "colab_type": "code",
        "colab": {
          "base_uri": "https://localhost:8080/",
          "height": 538
        },
        "outputId": "fccc6f07-9b6a-4fd7-85a6-732b8198b15c"
      },
      "source": [
        "for i in encoded_sent:\n",
        "    print(tokenizer.decode([i]))"
      ],
      "execution_count": 20,
      "outputs": [
        {
          "output_type": "stream",
          "text": [
            "So \n",
            "there\n",
            " \n",
            "is \n",
            "no \n",
            "way \n",
            "for \n",
            "me \n",
            "to \n",
            "pl\n",
            "ug\n",
            " \n",
            "it \n",
            "in \n",
            "here \n",
            "in \n",
            "the \n",
            "U\n",
            "S\n",
            " \n",
            "un\n",
            "less \n",
            "I \n",
            "go \n",
            "by \n",
            "a \n",
            "con\n",
            "ver\n",
            "ter\n",
            ".\n"
          ],
          "name": "stdout"
        }
      ]
    },
    {
      "cell_type": "code",
      "metadata": {
        "id": "q5mCNl5PW1Ij",
        "colab_type": "code",
        "colab": {}
      },
      "source": [
        "# replace sentences word with the encoded numbers\n",
        "\n",
        "for i, sent in enumerate(sentences):\n",
        "    sentences[i]=tokenizer.encode(sent)"
      ],
      "execution_count": 21,
      "outputs": []
    },
    {
      "cell_type": "code",
      "metadata": {
        "id": "nHIR5sdTXODX",
        "colab_type": "code",
        "colab": {
          "base_uri": "https://localhost:8080/",
          "height": 34
        },
        "outputId": "4b5cddb4-7060-463d-e915-215b9a2ef2e2"
      },
      "source": [
        "print(sentences[5])"
      ],
      "execution_count": 22,
      "outputs": [
        {
          "output_type": "stream",
          "text": [
            "[4, 31, 6, 849, 162, 450, 12, 1, 600, 438, 775, 6, 175, 14, 6, 55, 213, 159, 474, 775, 6, 175, 614, 380, 295, 148, 72, 789]\n"
          ],
          "name": "stdout"
        }
      ]
    },
    {
      "cell_type": "code",
      "metadata": {
        "id": "SZU8nwliXPU6",
        "colab_type": "code",
        "colab": {}
      },
      "source": [
        "# FInal Preprocessing\n",
        "from tensorflow.keras.preprocessing.sequence import pad_sequences\n",
        "max_length=50\n",
        "trunc_type='post'\n",
        "padd_type='post'\n",
        "import numpy as np\n",
        "sequences_padded = pad_sequences(sentences,\n",
        "                                 maxlen=max_length,\n",
        "                                 padding=padd_type,\n",
        "                                 truncating=trunc_type\n",
        "                                 )"
      ],
      "execution_count": 24,
      "outputs": []
    },
    {
      "cell_type": "code",
      "metadata": {
        "id": "r4NU1Q04c7S5",
        "colab_type": "code",
        "colab": {
          "base_uri": "https://localhost:8080/",
          "height": 34
        },
        "outputId": "5c00b77b-8c24-48a2-d257-6cd228976efa"
      },
      "source": [
        "training_size = int(len(sentences) * 0.8)\n",
        "print(training_size)"
      ],
      "execution_count": 25,
      "outputs": [
        {
          "output_type": "stream",
          "text": [
            "1593\n"
          ],
          "name": "stdout"
        }
      ]
    },
    {
      "cell_type": "code",
      "metadata": {
        "id": "csRBWrWKdKb8",
        "colab_type": "code",
        "colab": {}
      },
      "source": [
        "training_sentence = sequences_padded[0:training_size]\n",
        "testing_sentence = sequences_padded[training_size:]\n",
        "training_label = labels[0:training_size]\n",
        "testing_label = labels[training_size:]"
      ],
      "execution_count": 64,
      "outputs": []
    },
    {
      "cell_type": "code",
      "metadata": {
        "id": "6o2-gA9NdZYQ",
        "colab_type": "code",
        "colab": {
          "base_uri": "https://localhost:8080/",
          "height": 52
        },
        "outputId": "7e4299d8-871e-4f63-fa9a-1b2b413d031c"
      },
      "source": [
        "print(\"Training size: {} \\n\\\n",
        "Testing size: {}\".format(len(training_sentence),len(testing_sentence)))"
      ],
      "execution_count": 65,
      "outputs": [
        {
          "output_type": "stream",
          "text": [
            "Training size: 1593 \n",
            "Testing size: 399\n"
          ],
          "name": "stdout"
        }
      ]
    },
    {
      "cell_type": "code",
      "metadata": {
        "id": "9kkdkuihdlQu",
        "colab_type": "code",
        "colab": {}
      },
      "source": [
        "training_final_label = np.array(training_label)"
      ],
      "execution_count": 66,
      "outputs": []
    },
    {
      "cell_type": "code",
      "metadata": {
        "id": "zz1Ku1iidthU",
        "colab_type": "code",
        "colab": {}
      },
      "source": [
        "testing_final_label = np.array(testing_label)"
      ],
      "execution_count": 67,
      "outputs": []
    },
    {
      "cell_type": "code",
      "metadata": {
        "id": "ZC2fp5knd3oh",
        "colab_type": "code",
        "colab": {
          "base_uri": "https://localhost:8080/",
          "height": 34
        },
        "outputId": "4d151b41-a649-43a1-dc2e-1000ee5d52e8"
      },
      "source": [
        "training_final_label[:3]"
      ],
      "execution_count": 68,
      "outputs": [
        {
          "output_type": "execute_result",
          "data": {
            "text/plain": [
              "array([0, 1, 1])"
            ]
          },
          "metadata": {
            "tags": []
          },
          "execution_count": 68
        }
      ]
    },
    {
      "cell_type": "markdown",
      "metadata": {
        "id": "PUTOYnymd7na",
        "colab_type": "text"
      },
      "source": [
        "### Create the model"
      ]
    },
    {
      "cell_type": "code",
      "metadata": {
        "id": "lqg6W4B1d5lQ",
        "colab_type": "code",
        "colab": {}
      },
      "source": [
        "import tensorflow as tf\n",
        "embedding_size = 16\n",
        "model = tensorflow.keras.Sequential([\n",
        "tf.keras.layers.Embedding(vocab_size, embedding_size, input_length=max_length),\n",
        "tf.keras.layers.GlobalAveragePooling1D(),\n",
        "tf.keras.layers.Dense(6, activation='relu'),\n",
        "tf.keras.layers.Dense(1,activation='sigmoid')\n",
        "])"
      ],
      "execution_count": 69,
      "outputs": []
    },
    {
      "cell_type": "code",
      "metadata": {
        "id": "m6yFQLl9e904",
        "colab_type": "code",
        "colab": {
          "base_uri": "https://localhost:8080/",
          "height": 295
        },
        "outputId": "8e7ab28a-0347-473e-a5ac-35ecbaa0db3c"
      },
      "source": [
        "model.summary()"
      ],
      "execution_count": 70,
      "outputs": [
        {
          "output_type": "stream",
          "text": [
            "Model: \"sequential_3\"\n",
            "_________________________________________________________________\n",
            "Layer (type)                 Output Shape              Param #   \n",
            "=================================================================\n",
            "embedding_5 (Embedding)      (None, 50, 16)            16000     \n",
            "_________________________________________________________________\n",
            "global_average_pooling1d_4 ( (None, 16)                0         \n",
            "_________________________________________________________________\n",
            "dense_6 (Dense)              (None, 6)                 102       \n",
            "_________________________________________________________________\n",
            "dense_7 (Dense)              (None, 1)                 7         \n",
            "=================================================================\n",
            "Total params: 16,109\n",
            "Trainable params: 16,109\n",
            "Non-trainable params: 0\n",
            "_________________________________________________________________\n"
          ],
          "name": "stdout"
        }
      ]
    },
    {
      "cell_type": "code",
      "metadata": {
        "id": "KoWp8CEhfQEf",
        "colab_type": "code",
        "colab": {}
      },
      "source": [
        "# Train the model\n",
        "\n",
        "\n",
        "num_Epochs = 30\n",
        "\n",
        "model.compile(optimizer='adam',\n",
        "              metrics=['accuracy'],\n",
        "              loss='binary_crossentropy')"
      ],
      "execution_count": 71,
      "outputs": []
    },
    {
      "cell_type": "code",
      "metadata": {
        "id": "akjFCJ-Cfc6V",
        "colab_type": "code",
        "colab": {
          "base_uri": "https://localhost:8080/",
          "height": 1000
        },
        "outputId": "b4130b29-2f03-4a2e-9c4a-de24551d2d91"
      },
      "source": [
        "history = model.fit(training_sentence, training_final_label,\n",
        "                    epochs=num_Epochs,\n",
        "                    validation_data=(testing_sentence,\n",
        "                                     testing_final_label)\n",
        "                    )\n"
      ],
      "execution_count": 72,
      "outputs": [
        {
          "output_type": "stream",
          "text": [
            "Epoch 1/30\n",
            "50/50 [==============================] - 0s 5ms/step - loss: 0.6904 - accuracy: 0.5254 - val_loss: 0.6992 - val_accuracy: 0.4110\n",
            "Epoch 2/30\n",
            "50/50 [==============================] - 0s 2ms/step - loss: 0.6856 - accuracy: 0.5330 - val_loss: 0.7002 - val_accuracy: 0.4211\n",
            "Epoch 3/30\n",
            "50/50 [==============================] - 0s 2ms/step - loss: 0.6795 - accuracy: 0.5505 - val_loss: 0.6959 - val_accuracy: 0.4586\n",
            "Epoch 4/30\n",
            "50/50 [==============================] - 0s 2ms/step - loss: 0.6688 - accuracy: 0.5976 - val_loss: 0.6918 - val_accuracy: 0.4787\n",
            "Epoch 5/30\n",
            "50/50 [==============================] - 0s 2ms/step - loss: 0.6508 - accuracy: 0.6290 - val_loss: 0.6768 - val_accuracy: 0.5038\n",
            "Epoch 6/30\n",
            "50/50 [==============================] - 0s 2ms/step - loss: 0.6252 - accuracy: 0.6962 - val_loss: 0.6647 - val_accuracy: 0.5238\n",
            "Epoch 7/30\n",
            "50/50 [==============================] - 0s 2ms/step - loss: 0.5938 - accuracy: 0.7357 - val_loss: 0.6541 - val_accuracy: 0.5514\n",
            "Epoch 8/30\n",
            "50/50 [==============================] - 0s 2ms/step - loss: 0.5570 - accuracy: 0.7797 - val_loss: 0.6140 - val_accuracy: 0.6692\n",
            "Epoch 9/30\n",
            "50/50 [==============================] - 0s 2ms/step - loss: 0.5197 - accuracy: 0.8192 - val_loss: 0.5856 - val_accuracy: 0.7393\n",
            "Epoch 10/30\n",
            "50/50 [==============================] - 0s 2ms/step - loss: 0.4832 - accuracy: 0.8431 - val_loss: 0.5678 - val_accuracy: 0.7393\n",
            "Epoch 11/30\n",
            "50/50 [==============================] - 0s 2ms/step - loss: 0.4463 - accuracy: 0.8500 - val_loss: 0.5599 - val_accuracy: 0.7343\n",
            "Epoch 12/30\n",
            "50/50 [==============================] - 0s 2ms/step - loss: 0.4127 - accuracy: 0.8657 - val_loss: 0.5349 - val_accuracy: 0.7318\n",
            "Epoch 13/30\n",
            "50/50 [==============================] - 0s 2ms/step - loss: 0.3834 - accuracy: 0.8795 - val_loss: 0.5206 - val_accuracy: 0.7444\n",
            "Epoch 14/30\n",
            "50/50 [==============================] - 0s 2ms/step - loss: 0.3578 - accuracy: 0.8864 - val_loss: 0.5082 - val_accuracy: 0.7469\n",
            "Epoch 15/30\n",
            "50/50 [==============================] - 0s 2ms/step - loss: 0.3372 - accuracy: 0.8895 - val_loss: 0.4931 - val_accuracy: 0.7644\n",
            "Epoch 16/30\n",
            "50/50 [==============================] - 0s 2ms/step - loss: 0.3139 - accuracy: 0.8970 - val_loss: 0.5025 - val_accuracy: 0.7469\n",
            "Epoch 17/30\n",
            "50/50 [==============================] - 0s 2ms/step - loss: 0.2972 - accuracy: 0.9052 - val_loss: 0.5276 - val_accuracy: 0.7494\n",
            "Epoch 18/30\n",
            "50/50 [==============================] - 0s 2ms/step - loss: 0.2793 - accuracy: 0.9159 - val_loss: 0.5491 - val_accuracy: 0.7368\n",
            "Epoch 19/30\n",
            "50/50 [==============================] - 0s 2ms/step - loss: 0.2670 - accuracy: 0.9102 - val_loss: 0.5258 - val_accuracy: 0.7569\n",
            "Epoch 20/30\n",
            "50/50 [==============================] - 0s 2ms/step - loss: 0.2521 - accuracy: 0.9228 - val_loss: 0.4954 - val_accuracy: 0.7569\n",
            "Epoch 21/30\n",
            "50/50 [==============================] - 0s 2ms/step - loss: 0.2419 - accuracy: 0.9266 - val_loss: 0.5264 - val_accuracy: 0.7544\n",
            "Epoch 22/30\n",
            "50/50 [==============================] - 0s 2ms/step - loss: 0.2310 - accuracy: 0.9284 - val_loss: 0.5162 - val_accuracy: 0.7644\n",
            "Epoch 23/30\n",
            "50/50 [==============================] - 0s 2ms/step - loss: 0.2203 - accuracy: 0.9316 - val_loss: 0.5198 - val_accuracy: 0.7619\n",
            "Epoch 24/30\n",
            "50/50 [==============================] - 0s 2ms/step - loss: 0.2114 - accuracy: 0.9372 - val_loss: 0.5340 - val_accuracy: 0.7619\n",
            "Epoch 25/30\n",
            "50/50 [==============================] - 0s 2ms/step - loss: 0.2040 - accuracy: 0.9379 - val_loss: 0.5574 - val_accuracy: 0.7569\n",
            "Epoch 26/30\n",
            "50/50 [==============================] - 0s 2ms/step - loss: 0.1960 - accuracy: 0.9448 - val_loss: 0.5431 - val_accuracy: 0.7644\n",
            "Epoch 27/30\n",
            "50/50 [==============================] - 0s 2ms/step - loss: 0.1880 - accuracy: 0.9466 - val_loss: 0.5476 - val_accuracy: 0.7669\n",
            "Epoch 28/30\n",
            "50/50 [==============================] - 0s 2ms/step - loss: 0.1814 - accuracy: 0.9498 - val_loss: 0.5851 - val_accuracy: 0.7544\n",
            "Epoch 29/30\n",
            "50/50 [==============================] - 0s 2ms/step - loss: 0.1749 - accuracy: 0.9529 - val_loss: 0.5935 - val_accuracy: 0.7644\n",
            "Epoch 30/30\n",
            "50/50 [==============================] - 0s 2ms/step - loss: 0.1696 - accuracy: 0.9517 - val_loss: 0.6182 - val_accuracy: 0.7519\n"
          ],
          "name": "stdout"
        }
      ]
    },
    {
      "cell_type": "code",
      "metadata": {
        "id": "Af0203dUfxc-",
        "colab_type": "code",
        "colab": {}
      },
      "source": [
        "# Plot the data\n",
        "\n",
        "import matplotlib.pyplot as plt\n",
        "\n",
        "def plot_graphs(history, string):\n",
        "    plt.plot(history.history[string])\n",
        "    plt.plot(history.history['val_'+string])\n",
        "    plt.xlabel('epochs')\n",
        "    plt.ylabel(string)\n",
        "    plt.legend([string, 'val_'+string])\n",
        "    plt.show()"
      ],
      "execution_count": 76,
      "outputs": []
    },
    {
      "cell_type": "code",
      "metadata": {
        "id": "hQqFovNPiDig",
        "colab_type": "code",
        "colab": {
          "base_uri": "https://localhost:8080/",
          "height": 541
        },
        "outputId": "3cc05be1-ccf6-4552-b536-243a3f240326"
      },
      "source": [
        "plot_graphs(history, 'accuracy')\n",
        "plot_graphs(history,'loss')"
      ],
      "execution_count": 77,
      "outputs": [
        {
          "output_type": "display_data",
          "data": {
            "image/png": "[encoded data removed]",
            "text/plain": [
              "<Figure size 432x288 with 1 Axes>"
            ]
          },
          "metadata": {
            "tags": [],
            "needs_background": "light"
          }
        },
        {
          "output_type": "display_data",
          "data": {
            "image/png": "[encoded data removed]",
            "text/plain": [
              "<Figure size 432x288 with 1 Axes>"
            ]
          },
          "metadata": {
            "tags": [],
            "needs_background": "light"
          }
        }
      ]
    },
    {
      "cell_type": "markdown",
      "metadata": {
        "id": "d4kCR-kdiYiW",
        "colab_type": "text"
      },
      "source": [
        "Validation loss increases when epochs increases"
      ]
    },
    {
      "cell_type": "markdown",
      "metadata": {
        "id": "LcshL8WQiYRT",
        "colab_type": "text"
      },
      "source": [
        ""
      ]
    },
    {
      "cell_type": "code",
      "metadata": {
        "id": "iLOngIJbiSF0",
        "colab_type": "code",
        "colab": {}
      },
      "source": [
        "# function to predict the sentences"
      ],
      "execution_count": 78,
      "outputs": []
    },
    {
      "cell_type": "code",
      "metadata": {
        "id": "uQWYcnRHifAr",
        "colab_type": "code",
        "colab": {}
      },
      "source": [
        "def predict_review(model, new_sentences, maxlen=max_length):\n",
        "    extra = []\n",
        "    for i, data in enumerate(new_sentences):\n",
        "        extra.append(tokenizer.encode(data))\n",
        "    new_padded = pad_sequences(extra,padding='post',truncating='post',\n",
        "                               maxlen=max_length)\n",
        "    classes = model.predict(new_padded)\n",
        "    for x in range(len(new_sentences)):\n",
        "        print(new_sentences[x])\n",
        "        print(classes[x])"
      ],
      "execution_count": 79,
      "outputs": []
    },
    {
      "cell_type": "code",
      "metadata": {
        "id": "mY19ywcWjOmA",
        "colab_type": "code",
        "colab": {
          "base_uri": "https://localhost:8080/",
          "height": 260
        },
        "outputId": "fb59de36-a62b-4911-fc28-b04eb84cdc38"
      },
      "source": [
        "# Use the model to predict some reviews   \n",
        "fake_reviews = [\"I love this phone\", \n",
        "                \"Everything was cold\",\n",
        "                \"Everything was hot exactly as I wanted\", \n",
        "                \"Everything was green\", \n",
        "                \"the host seated us immediately\",\n",
        "                \"they gave us free chocolate cake\", \n",
        "                \"we couldn't hear each other talk because of the shouting in the kitchen\"\n",
        "              ]\n",
        "predict_review(model,fake_reviews)"
      ],
      "execution_count": 81,
      "outputs": [
        {
          "output_type": "stream",
          "text": [
            "I love this phone\n",
            "[0.9496874]\n",
            "Everything was cold\n",
            "[0.13924673]\n",
            "Everything was hot exactly as I wanted\n",
            "[0.35601562]\n",
            "Everything was green\n",
            "[0.14216337]\n",
            "the host seated us immediately\n",
            "[0.6295292]\n",
            "they gave us free chocolate cake\n",
            "[0.8100488]\n",
            "we couldn't hear each other talk because of the shouting in the kitchen\n",
            "[0.05128882]\n"
          ],
          "name": "stdout"
        }
      ]
    },
    {
      "cell_type": "markdown",
      "metadata": {
        "id": "nYahmLCZjYv9",
        "colab_type": "text"
      },
      "source": [
        "Number closes to 1 more positive review\n",
        "Number far from 1 , less poritive review"
      ]
    },
    {
      "cell_type": "code",
      "metadata": {
        "id": "YWx_s6DgjUrg",
        "colab_type": "code",
        "colab": {}
      },
      "source": [
        "# create the model\n",
        "def fit_model_now(model,sentences):\n",
        "    model.compile(optimizer='adam',\n",
        "                  loss='binary_crossentropy',\n",
        "                  metrics=['accuracy'])\n",
        "    model.summary()\n",
        "    history = model.fit(training_sentence, training_final_label,\n",
        "                    epochs=num_Epochs,\n",
        "                    validation_data=(testing_sentence,\n",
        "                                     testing_final_label)\n",
        "                    )\n",
        "    return history"
      ],
      "execution_count": 94,
      "outputs": []
    },
    {
      "cell_type": "code",
      "metadata": {
        "id": "JZYYza7fjr5y",
        "colab_type": "code",
        "colab": {}
      },
      "source": [
        "def plot_results(history):\n",
        "    plot_graphs(history,'accuracy')\n",
        "    plot_graphs(history,'loss')"
      ],
      "execution_count": 95,
      "outputs": []
    },
    {
      "cell_type": "code",
      "metadata": {
        "id": "T5SCFnQBkT0H",
        "colab_type": "code",
        "colab": {}
      },
      "source": [
        "def fit_model_and_show_result(model,sentence):\n",
        "    history = fit_model_now(model,sentences)\n",
        "    plot_results(history)\n",
        "    predict_review(model,sentence)"
      ],
      "execution_count": 100,
      "outputs": []
    },
    {
      "cell_type": "markdown",
      "metadata": {
        "id": "jFatftxlkkmS",
        "colab_type": "text"
      },
      "source": [
        "We have created the function for all the required utility and will call them below accordingly"
      ]
    },
    {
      "cell_type": "markdown",
      "metadata": {
        "id": "_H8ccC4mlhm9",
        "colab_type": "text"
      },
      "source": [
        "### Add Bidirectional LSTM"
      ]
    },
    {
      "cell_type": "code",
      "metadata": {
        "id": "oRIgf3uFkjNI",
        "colab_type": "code",
        "colab": {}
      },
      "source": [
        "model_1 = tensorflow.keras.Sequential([\n",
        "tf.keras.layers.Embedding(vocab_size, embedding_size,input_length=max_length),\n",
        "tf.keras.layers.Bidirectional(tf.keras.layers.LSTM(embedding_size)),\n",
        "tf.keras.layers.Dense(6,activation='relu'),\n",
        "tf.keras.layers.Dense(1,activation='sigmoid')\n",
        "])"
      ],
      "execution_count": 101,
      "outputs": []
    },
    {
      "cell_type": "code",
      "metadata": {
        "id": "AexBxBAInMem",
        "colab_type": "code",
        "colab": {
          "base_uri": "https://localhost:8080/",
          "height": 295
        },
        "outputId": "82c350d1-b6fe-45bd-8344-d0833c485674"
      },
      "source": [
        "model_1.summary()"
      ],
      "execution_count": 102,
      "outputs": [
        {
          "output_type": "stream",
          "text": [
            "Model: \"sequential_6\"\n",
            "_________________________________________________________________\n",
            "Layer (type)                 Output Shape              Param #   \n",
            "=================================================================\n",
            "embedding_8 (Embedding)      (None, 50, 16)            16000     \n",
            "_________________________________________________________________\n",
            "bidirectional_2 (Bidirection (None, 32)                4224      \n",
            "_________________________________________________________________\n",
            "dense_12 (Dense)             (None, 6)                 198       \n",
            "_________________________________________________________________\n",
            "dense_13 (Dense)             (None, 1)                 7         \n",
            "=================================================================\n",
            "Total params: 20,429\n",
            "Trainable params: 20,429\n",
            "Non-trainable params: 0\n",
            "_________________________________________________________________\n"
          ],
          "name": "stdout"
        }
      ]
    },
    {
      "cell_type": "code",
      "metadata": {
        "id": "_BxLM19ynQfd",
        "colab_type": "code",
        "colab": {
          "base_uri": "https://localhost:8080/",
          "height": 1000
        },
        "outputId": "0ab9c1ea-ff18-4bfa-8adb-7645ccd906e5"
      },
      "source": [
        "fit_model_and_show_result(model_1,fake_reviews)"
      ],
      "execution_count": 103,
      "outputs": [
        {
          "output_type": "stream",
          "text": [
            "Model: \"sequential_6\"\n",
            "_________________________________________________________________\n",
            "Layer (type)                 Output Shape              Param #   \n",
            "=================================================================\n",
            "embedding_8 (Embedding)      (None, 50, 16)            16000     \n",
            "_________________________________________________________________\n",
            "bidirectional_2 (Bidirection (None, 32)                4224      \n",
            "_________________________________________________________________\n",
            "dense_12 (Dense)             (None, 6)                 198       \n",
            "_________________________________________________________________\n",
            "dense_13 (Dense)             (None, 1)                 7         \n",
            "=================================================================\n",
            "Total params: 20,429\n",
            "Trainable params: 20,429\n",
            "Non-trainable params: 0\n",
            "_________________________________________________________________\n",
            "Epoch 1/30\n",
            "50/50 [==============================] - 2s 44ms/step - loss: 0.6916 - accuracy: 0.5217 - val_loss: 0.6973 - val_accuracy: 0.4110\n",
            "Epoch 2/30\n",
            "50/50 [==============================] - 1s 29ms/step - loss: 0.6606 - accuracy: 0.5606 - val_loss: 0.6415 - val_accuracy: 0.6992\n",
            "Epoch 3/30\n",
            "50/50 [==============================] - 1s 29ms/step - loss: 0.5317 - accuracy: 0.7910 - val_loss: 0.5021 - val_accuracy: 0.7895\n",
            "Epoch 4/30\n",
            "50/50 [==============================] - 1s 29ms/step - loss: 0.3641 - accuracy: 0.8544 - val_loss: 0.5002 - val_accuracy: 0.7669\n",
            "Epoch 5/30\n",
            "50/50 [==============================] - 1s 29ms/step - loss: 0.2762 - accuracy: 0.9033 - val_loss: 0.4854 - val_accuracy: 0.7794\n",
            "Epoch 6/30\n",
            "50/50 [==============================] - 1s 30ms/step - loss: 0.2269 - accuracy: 0.9165 - val_loss: 0.6194 - val_accuracy: 0.7744\n",
            "Epoch 7/30\n",
            "50/50 [==============================] - 1s 28ms/step - loss: 0.1905 - accuracy: 0.9360 - val_loss: 0.6070 - val_accuracy: 0.7469\n",
            "Epoch 8/30\n",
            "50/50 [==============================] - 1s 28ms/step - loss: 0.1551 - accuracy: 0.9523 - val_loss: 0.6637 - val_accuracy: 0.7519\n",
            "Epoch 9/30\n",
            "50/50 [==============================] - 1s 28ms/step - loss: 0.1273 - accuracy: 0.9611 - val_loss: 0.7895 - val_accuracy: 0.7494\n",
            "Epoch 10/30\n",
            "50/50 [==============================] - 1s 28ms/step - loss: 0.1151 - accuracy: 0.9705 - val_loss: 0.8879 - val_accuracy: 0.7744\n",
            "Epoch 11/30\n",
            "50/50 [==============================] - 1s 29ms/step - loss: 0.1089 - accuracy: 0.9655 - val_loss: 0.8980 - val_accuracy: 0.7769\n",
            "Epoch 12/30\n",
            "50/50 [==============================] - 1s 28ms/step - loss: 0.0922 - accuracy: 0.9818 - val_loss: 1.0432 - val_accuracy: 0.7744\n",
            "Epoch 13/30\n",
            "50/50 [==============================] - 1s 29ms/step - loss: 0.0780 - accuracy: 0.9856 - val_loss: 0.9561 - val_accuracy: 0.7669\n",
            "Epoch 14/30\n",
            "50/50 [==============================] - 1s 28ms/step - loss: 0.0923 - accuracy: 0.9780 - val_loss: 1.1065 - val_accuracy: 0.7594\n",
            "Epoch 15/30\n",
            "50/50 [==============================] - 1s 29ms/step - loss: 0.1126 - accuracy: 0.9724 - val_loss: 1.0862 - val_accuracy: 0.7494\n",
            "Epoch 16/30\n",
            "50/50 [==============================] - 1s 28ms/step - loss: 0.0655 - accuracy: 0.9862 - val_loss: 1.2282 - val_accuracy: 0.7293\n",
            "Epoch 17/30\n",
            "50/50 [==============================] - 1s 28ms/step - loss: 0.0529 - accuracy: 0.9925 - val_loss: 1.2306 - val_accuracy: 0.7444\n",
            "Epoch 18/30\n",
            "50/50 [==============================] - 1s 28ms/step - loss: 0.0483 - accuracy: 0.9918 - val_loss: 1.2196 - val_accuracy: 0.7544\n",
            "Epoch 19/30\n",
            "50/50 [==============================] - 1s 28ms/step - loss: 0.0421 - accuracy: 0.9937 - val_loss: 1.2312 - val_accuracy: 0.7594\n",
            "Epoch 20/30\n",
            "50/50 [==============================] - 1s 29ms/step - loss: 0.0400 - accuracy: 0.9937 - val_loss: 1.3049 - val_accuracy: 0.7494\n",
            "Epoch 21/30\n",
            "50/50 [==============================] - 1s 29ms/step - loss: 0.0387 - accuracy: 0.9937 - val_loss: 1.3470 - val_accuracy: 0.7494\n",
            "Epoch 22/30\n",
            "50/50 [==============================] - 1s 28ms/step - loss: 0.0378 - accuracy: 0.9937 - val_loss: 1.3912 - val_accuracy: 0.7494\n",
            "Epoch 23/30\n",
            "50/50 [==============================] - 1s 28ms/step - loss: 0.0372 - accuracy: 0.9937 - val_loss: 1.3997 - val_accuracy: 0.7444\n",
            "Epoch 24/30\n",
            "50/50 [==============================] - 1s 28ms/step - loss: 0.0368 - accuracy: 0.9937 - val_loss: 1.3930 - val_accuracy: 0.7494\n",
            "Epoch 25/30\n",
            "50/50 [==============================] - 1s 29ms/step - loss: 0.0363 - accuracy: 0.9937 - val_loss: 1.4048 - val_accuracy: 0.7494\n",
            "Epoch 26/30\n",
            "50/50 [==============================] - 1s 28ms/step - loss: 0.0359 - accuracy: 0.9937 - val_loss: 1.4334 - val_accuracy: 0.7494\n",
            "Epoch 27/30\n",
            "50/50 [==============================] - 1s 28ms/step - loss: 0.0356 - accuracy: 0.9937 - val_loss: 1.4415 - val_accuracy: 0.7494\n",
            "Epoch 28/30\n",
            "50/50 [==============================] - 1s 30ms/step - loss: 0.0353 - accuracy: 0.9937 - val_loss: 1.4877 - val_accuracy: 0.7494\n",
            "Epoch 29/30\n",
            "50/50 [==============================] - 1s 28ms/step - loss: 0.0350 - accuracy: 0.9937 - val_loss: 1.4816 - val_accuracy: 0.7469\n",
            "Epoch 30/30\n",
            "50/50 [==============================] - 1s 28ms/step - loss: 0.0347 - accuracy: 0.9937 - val_loss: 1.4994 - val_accuracy: 0.7469\n"
          ],
          "name": "stdout"
        },
        {
          "output_type": "display_data",
          "data": {
            "image/png": "[encoded data removed]",
            "text/plain": [
              "<Figure size 432x288 with 1 Axes>"
            ]
          },
          "metadata": {
            "tags": [],
            "needs_background": "light"
          }
        },
        {
          "output_type": "display_data",
          "data": {
            "image/png": "[encoded data removed]",
            "text/plain": [
              "<Figure size 432x288 with 1 Axes>"
            ]
          },
          "metadata": {
            "tags": [],
            "needs_background": "light"
          }
        },
        {
          "output_type": "stream",
          "text": [
            "I love this phone\n",
            "[0.99542135]\n",
            "Everything was cold\n",
            "[0.01203963]\n",
            "Everything was hot exactly as I wanted\n",
            "[0.02036002]\n",
            "Everything was green\n",
            "[0.01258796]\n",
            "the host seated us immediately\n",
            "[0.9993753]\n",
            "they gave us free chocolate cake\n",
            "[0.9967804]\n",
            "we couldn't hear each other talk because of the shouting in the kitchen\n",
            "[0.01197759]\n"
          ],
          "name": "stdout"
        }
      ]
    },
    {
      "cell_type": "markdown",
      "metadata": {
        "id": "MOpYItlGnh1p",
        "colab_type": "text"
      },
      "source": [
        "USe Multidirectioanl LSTM"
      ]
    },
    {
      "cell_type": "code",
      "metadata": {
        "id": "fmRQ8lGyna36",
        "colab_type": "code",
        "colab": {}
      },
      "source": [
        "model_multi_lstm = tensorflow.keras.Sequential([\n",
        "tf.keras.layers.Embedding(vocab_size, embedding_size,input_length=max_length)                                                ,\n",
        "tf.keras.layers.Bidirectional(tf.keras.layers.LSTM(embedding_size,\n",
        "                                                   return_sequences=True)),\n",
        "tf.keras.layers.Bidirectional(tf.keras.layers.LSTM(embedding_size)),\n",
        "tf.keras.layers.Dense(6,activation='relu') ,\n",
        "tf.keras.layers.Dense(1,activation='sigmoid')\n",
        "                                                \n",
        "                                                \n",
        "])"
      ],
      "execution_count": 107,
      "outputs": []
    },
    {
      "cell_type": "code",
      "metadata": {
        "id": "ddjnAOefo5Wr",
        "colab_type": "code",
        "colab": {
          "base_uri": "https://localhost:8080/",
          "height": 1000
        },
        "outputId": "3458c536-8d7e-4d7b-a93d-383c38d86bb1"
      },
      "source": [
        "fit_model_and_show_result(model_multi_lstm,fake_reviews)"
      ],
      "execution_count": 108,
      "outputs": [
        {
          "output_type": "stream",
          "text": [
            "Model: \"sequential_7\"\n",
            "_________________________________________________________________\n",
            "Layer (type)                 Output Shape              Param #   \n",
            "=================================================================\n",
            "embedding_10 (Embedding)     (None, 50, 16)            16000     \n",
            "_________________________________________________________________\n",
            "bidirectional_4 (Bidirection (None, 50, 32)            4224      \n",
            "_________________________________________________________________\n",
            "bidirectional_5 (Bidirection (None, 32)                6272      \n",
            "_________________________________________________________________\n",
            "dense_14 (Dense)             (None, 6)                 198       \n",
            "_________________________________________________________________\n",
            "dense_15 (Dense)             (None, 1)                 7         \n",
            "=================================================================\n",
            "Total params: 26,701\n",
            "Trainable params: 26,701\n",
            "Non-trainable params: 0\n",
            "_________________________________________________________________\n",
            "Epoch 1/30\n",
            "50/50 [==============================] - 4s 87ms/step - loss: 0.6926 - accuracy: 0.5217 - val_loss: 0.6964 - val_accuracy: 0.4110\n",
            "Epoch 2/30\n",
            "50/50 [==============================] - 3s 54ms/step - loss: 0.6709 - accuracy: 0.5838 - val_loss: 0.6454 - val_accuracy: 0.6065\n",
            "Epoch 3/30\n",
            "50/50 [==============================] - 3s 56ms/step - loss: 0.4709 - accuracy: 0.7985 - val_loss: 0.5262 - val_accuracy: 0.7419\n",
            "Epoch 4/30\n",
            "50/50 [==============================] - 3s 55ms/step - loss: 0.3364 - accuracy: 0.8801 - val_loss: 0.4979 - val_accuracy: 0.7920\n",
            "Epoch 5/30\n",
            "50/50 [==============================] - 3s 57ms/step - loss: 0.2554 - accuracy: 0.9165 - val_loss: 0.6162 - val_accuracy: 0.7419\n",
            "Epoch 6/30\n",
            "50/50 [==============================] - 3s 56ms/step - loss: 0.1968 - accuracy: 0.9429 - val_loss: 0.6977 - val_accuracy: 0.7343\n",
            "Epoch 7/30\n",
            "50/50 [==============================] - 3s 56ms/step - loss: 0.1535 - accuracy: 0.9586 - val_loss: 0.7045 - val_accuracy: 0.7644\n",
            "Epoch 8/30\n",
            "50/50 [==============================] - 3s 56ms/step - loss: 0.1412 - accuracy: 0.9642 - val_loss: 0.7100 - val_accuracy: 0.7694\n",
            "Epoch 9/30\n",
            "50/50 [==============================] - 3s 56ms/step - loss: 0.1433 - accuracy: 0.9617 - val_loss: 0.8921 - val_accuracy: 0.7293\n",
            "Epoch 10/30\n",
            "50/50 [==============================] - 3s 56ms/step - loss: 0.1336 - accuracy: 0.9648 - val_loss: 0.8081 - val_accuracy: 0.7419\n",
            "Epoch 11/30\n",
            "50/50 [==============================] - 3s 56ms/step - loss: 0.1376 - accuracy: 0.9630 - val_loss: 0.8168 - val_accuracy: 0.7368\n",
            "Epoch 12/30\n",
            "50/50 [==============================] - 3s 58ms/step - loss: 0.1217 - accuracy: 0.9692 - val_loss: 0.9568 - val_accuracy: 0.7193\n",
            "Epoch 13/30\n",
            "50/50 [==============================] - 3s 60ms/step - loss: 0.1109 - accuracy: 0.9730 - val_loss: 0.9344 - val_accuracy: 0.7218\n",
            "Epoch 14/30\n",
            "50/50 [==============================] - 3s 55ms/step - loss: 0.0948 - accuracy: 0.9799 - val_loss: 0.8301 - val_accuracy: 0.7619\n",
            "Epoch 15/30\n",
            "50/50 [==============================] - 3s 56ms/step - loss: 0.0882 - accuracy: 0.9818 - val_loss: 0.9440 - val_accuracy: 0.7368\n",
            "Epoch 16/30\n",
            "50/50 [==============================] - 3s 57ms/step - loss: 0.0835 - accuracy: 0.9824 - val_loss: 0.9610 - val_accuracy: 0.7268\n",
            "Epoch 17/30\n",
            "50/50 [==============================] - 3s 57ms/step - loss: 0.0884 - accuracy: 0.9805 - val_loss: 0.8896 - val_accuracy: 0.7318\n",
            "Epoch 18/30\n",
            "50/50 [==============================] - 3s 57ms/step - loss: 0.0784 - accuracy: 0.9837 - val_loss: 1.0334 - val_accuracy: 0.7293\n",
            "Epoch 19/30\n",
            "50/50 [==============================] - 3s 55ms/step - loss: 0.0736 - accuracy: 0.9849 - val_loss: 1.0577 - val_accuracy: 0.7318\n",
            "Epoch 20/30\n",
            "50/50 [==============================] - 3s 57ms/step - loss: 0.0678 - accuracy: 0.9868 - val_loss: 0.9569 - val_accuracy: 0.7569\n",
            "Epoch 21/30\n",
            "50/50 [==============================] - 3s 61ms/step - loss: 0.0689 - accuracy: 0.9856 - val_loss: 1.0449 - val_accuracy: 0.7243\n",
            "Epoch 22/30\n",
            "50/50 [==============================] - 3s 61ms/step - loss: 0.0751 - accuracy: 0.9837 - val_loss: 0.9401 - val_accuracy: 0.7544\n",
            "Epoch 23/30\n",
            "50/50 [==============================] - 3s 60ms/step - loss: 0.0746 - accuracy: 0.9824 - val_loss: 0.8574 - val_accuracy: 0.7719\n",
            "Epoch 24/30\n",
            "50/50 [==============================] - 3s 56ms/step - loss: 0.0727 - accuracy: 0.9831 - val_loss: 1.1346 - val_accuracy: 0.7168\n",
            "Epoch 25/30\n",
            "50/50 [==============================] - 3s 56ms/step - loss: 0.0557 - accuracy: 0.9893 - val_loss: 1.0383 - val_accuracy: 0.7419\n",
            "Epoch 26/30\n",
            "50/50 [==============================] - 3s 55ms/step - loss: 0.0556 - accuracy: 0.9874 - val_loss: 0.9369 - val_accuracy: 0.7619\n",
            "Epoch 27/30\n",
            "50/50 [==============================] - 3s 55ms/step - loss: 0.0520 - accuracy: 0.9887 - val_loss: 1.1384 - val_accuracy: 0.7243\n",
            "Epoch 28/30\n",
            "50/50 [==============================] - 3s 54ms/step - loss: 0.0455 - accuracy: 0.9906 - val_loss: 1.1632 - val_accuracy: 0.7268\n",
            "Epoch 29/30\n",
            "50/50 [==============================] - 3s 57ms/step - loss: 0.0453 - accuracy: 0.9906 - val_loss: 1.2352 - val_accuracy: 0.7368\n",
            "Epoch 30/30\n",
            "50/50 [==============================] - 3s 56ms/step - loss: 0.0443 - accuracy: 0.9906 - val_loss: 1.2101 - val_accuracy: 0.7243\n"
          ],
          "name": "stdout"
        },
        {
          "output_type": "display_data",
          "data": {
            "image/png": "[encoded data removed]",
            "text/plain": [
              "<Figure size 432x288 with 1 Axes>"
            ]
          },
          "metadata": {
            "tags": [],
            "needs_background": "light"
          }
        },
        {
          "output_type": "display_data",
          "data": {
            "image/png": "[encoded data removed]",
            "text/plain": [
              "<Figure size 432x288 with 1 Axes>"
            ]
          },
          "metadata": {
            "tags": [],
            "needs_background": "light"
          }
        },
        {
          "output_type": "stream",
          "text": [
            "I love this phone\n",
            "[0.9974139]\n",
            "Everything was cold\n",
            "[0.0279446]\n",
            "Everything was hot exactly as I wanted\n",
            "[0.77891964]\n",
            "Everything was green\n",
            "[0.00612631]\n",
            "the host seated us immediately\n",
            "[0.02960977]\n",
            "they gave us free chocolate cake\n",
            "[0.9968989]\n",
            "we couldn't hear each other talk because of the shouting in the kitchen\n",
            "[0.02787641]\n"
          ],
          "name": "stdout"
        }
      ]
    },
    {
      "cell_type": "code",
      "metadata": {
        "id": "8Y2AS3JOpNC9",
        "colab_type": "code",
        "colab": {}
      },
      "source": [
        ""
      ],
      "execution_count": null,
      "outputs": []
    },
    {
      "cell_type": "markdown",
      "metadata": {
        "id": "NOIFlHx9pQOk",
        "colab_type": "text"
      },
      "source": [
        "Compare the models\n",
        "\n",
        "(1) EMbedding layers + GLobal average pooling\n",
        "\n",
        "(2) EMbedding layers + bidirectional lstm\n",
        "\n",
        "(3) EMbedding layers + multi dimensional lstm"
      ]
    },
    {
      "cell_type": "code",
      "metadata": {
        "id": "KOCV9jDwp96Z",
        "colab_type": "code",
        "colab": {}
      },
      "source": [
        "my_reviews =[\"lovely\", \"dreadful\", \"stay away\",\n",
        "             \"everything was hot exactly as I wanted\",\n",
        "             \"everything was not exactly as I wanted\",\n",
        "             \"they gave us free chocolate cake\",\n",
        "             \"I've never eaten anything so spicy in my life, my throat burned for hours\",\n",
        "             \"for a phone that is as expensive as this one I expect it to be much easier to use than this thing is\",\n",
        "             \"we left there very full for a low price so I'd say you just can't go wrong at this place\",\n",
        "             \"that place does not have quality meals and it isn't a good place to go for dinner\",\n",
        "             ]"
      ],
      "execution_count": 110,
      "outputs": []
    },
    {
      "cell_type": "code",
      "metadata": {
        "id": "h2HcAAmFqDss",
        "colab_type": "code",
        "colab": {
          "base_uri": "https://localhost:8080/",
          "height": 1000
        },
        "outputId": "88100920-9517-47c8-c86e-79d17684854e"
      },
      "source": [
        "print(\"===================================\\n\",\"Embeddings only:\\n\", \"===================================\",)\n",
        "predict_review(model,my_reviews)\n",
        "print(\"===================================\\n\",\"Embeddings + LSTM only:\\n\", \"===================================\",)\n",
        "predict_review(model_1,my_reviews)\n",
        "print(\"===================================\\n\",\"Embeddings + MULTI LSTMonly:\\n\", \"===================================\",)\n",
        "predict_review(model_multi_lstm,my_reviews)"
      ],
      "execution_count": 112,
      "outputs": [
        {
          "output_type": "stream",
          "text": [
            "===================================\n",
            " Embeddings only:\n",
            " ===================================\n",
            "lovely\n",
            "[0.9989921]\n",
            "dreadful\n",
            "[0.03085211]\n",
            "stay away\n",
            "[0.65724725]\n",
            "everything was hot exactly as I wanted\n",
            "[0.977672]\n",
            "everything was not exactly as I wanted\n",
            "[0.5506321]\n",
            "they gave us free chocolate cake\n",
            "[0.965486]\n",
            "I've never eaten anything so spicy in my life, my throat burned for hours\n",
            "[0.02725124]\n",
            "for a phone that is as expensive as this one I expect it to be much easier to use than this thing is\n",
            "[0.0779632]\n",
            "we left there very full for a low price so I'd say you just can't go wrong at this place\n",
            "[0.11900139]\n",
            "that place does not have quality meals and it isn't a good place to go for dinner\n",
            "[0.93118894]\n",
            "===================================\n",
            " Embeddings + LSTM only:\n",
            " ===================================\n",
            "lovely\n",
            "[0.9997532]\n",
            "dreadful\n",
            "[0.00897878]\n",
            "stay away\n",
            "[0.00959018]\n",
            "everything was hot exactly as I wanted\n",
            "[0.02239481]\n",
            "everything was not exactly as I wanted\n",
            "[0.00865409]\n",
            "they gave us free chocolate cake\n",
            "[0.47051415]\n",
            "I've never eaten anything so spicy in my life, my throat burned for hours\n",
            "[0.9872371]\n",
            "for a phone that is as expensive as this one I expect it to be much easier to use than this thing is\n",
            "[0.01172742]\n",
            "we left there very full for a low price so I'd say you just can't go wrong at this place\n",
            "[0.9999999]\n",
            "that place does not have quality meals and it isn't a good place to go for dinner\n",
            "[0.9983523]\n",
            "===================================\n",
            " Embeddings + MULTI LSTMonly:\n",
            " ===================================\n",
            "lovely\n",
            "[0.9973133]\n",
            "dreadful\n",
            "[0.01118997]\n",
            "stay away\n",
            "[0.9707805]\n",
            "everything was hot exactly as I wanted\n",
            "[0.99637794]\n",
            "everything was not exactly as I wanted\n",
            "[0.01311457]\n",
            "they gave us free chocolate cake\n",
            "[0.9968989]\n",
            "I've never eaten anything so spicy in my life, my throat burned for hours\n",
            "[0.03123802]\n",
            "for a phone that is as expensive as this one I expect it to be much easier to use than this thing is\n",
            "[0.00476244]\n",
            "we left there very full for a low price so I'd say you just can't go wrong at this place\n",
            "[0.9867834]\n",
            "that place does not have quality meals and it isn't a good place to go for dinner\n",
            "[0.7311106]\n"
          ],
          "name": "stdout"
        }
      ]
    },
    {
      "cell_type": "code",
      "metadata": {
        "id": "T_yLXHkcrwA4",
        "colab_type": "code",
        "colab": {}
      },
      "source": [
        ""
      ],
      "execution_count": null,
      "outputs": []
    }
  ]
}